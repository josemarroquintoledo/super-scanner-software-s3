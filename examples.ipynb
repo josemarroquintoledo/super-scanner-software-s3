{
 "cells": [
  {
   "cell_type": "code",
   "execution_count": null,
   "metadata": {
    "collapsed": false
   },
   "outputs": [],
   "source": [
    "import fwdimaging as fwd\n",
    "import phaseretrieval as phr"
   ]
  },
  {
   "cell_type": "markdown",
   "metadata": {},
   "source": [
    "# S3's Examples\n",
    "\n",
    "This notebook shows very simple examples about the use of functions of `fwimaging` and `phaseretrieval` Jupyter modules ([fwdimaging.ipynb](jupyter-modules/fwdimaging.ipynb) and [phaseretrieval.ipynb](fwdimaging.ipynb), respectively). Several default options can be modified adding them as arguments  to the functions before the function calling.\n",
    "\n",
    "> **Note:**\n",
    "\n",
    "> - **Execute the code cell above** to import the Jupyter modules.\n",
    "\n",
    "> - We have chosen **TIF and PNG formats for the imaging procedures** of Fourier Ptychography. Specifically, TIF files are used for the input amplitude, Lo-Res image input set and Hi-Res output image; instead, PNG, for the input phase.\n",
    "\n",
    "> - Some pictures contained in the [img](img) folder are imported by default to generate the Lo-Res image set, but **you can use other images**. For example, for a new amplitude picture: download it &rarr; convert it to grayscale &rarr; export it as TIF.\n",
    "\n",
    "## 1. Generate Lo-Res Image Set from a High-Quality Picture\n",
    "\n",
    "### Simulate the Lo-Res Image Capturing Process\n",
    "\n",
    "We obtain a Lo-Res image set in which each picture is a photo of the sample illuminated by only one lamp of the grid LED. To simulate it, it **requires an image as input amplitude (TIF file) and another as input phase (PNG)**. The size of the picture that is used by the phase must be greater or equal than the amplitude picture.\n",
    "\n",
    "The order matrix of the grid is `n`-by-`n` in which `n` is the number of LEDs of the grid per row and column."
   ]
  },
  {
   "cell_type": "code",
   "execution_count": null,
   "metadata": {
    "collapsed": false
   },
   "outputs": [],
   "source": [
    "phr.get_photo(n=15, sim=True, justset=True)"
   ]
  },
  {
   "cell_type": "markdown",
   "metadata": {},
   "source": [
    "In the cell above, `sim` refers to \"**sim**ulate\" and `justsest`, to \"**just** the **set**?\"."
   ]
  },
  {
   "cell_type": "markdown",
   "metadata": {},
   "source": [
    "### 2.1. Generate the High-Res and High-Quality Picture from Lo-Res Image Set\n",
    "To the same function, `get_photo()`, say it **how many LEDs did you use to illuminate the sample** and **where is the input folder** that contains the Lo-Res pictures with `n` and `inpath`, respectively."
   ]
  },
  {
   "cell_type": "code",
   "execution_count": null,
   "metadata": {
    "collapsed": false
   },
   "outputs": [],
   "source": [
    "phr.get_photo(n=15, inpath='img-lores/')"
   ]
  },
  {
   "cell_type": "markdown",
   "metadata": {},
   "source": [
    "### 2.2. Generate the High-Res Picture with a Lower Quantity of Images and Show a Preview\n",
    "Simply, add `n2use` with a value less than `n` and do `show` equals `True`."
   ]
  },
  {
   "cell_type": "code",
   "execution_count": null,
   "metadata": {
    "collapsed": false
   },
   "outputs": [],
   "source": [
    "phr.get_photo(n2use=9, inpath='img-lores/', show=True)"
   ]
  }
 ],
 "metadata": {
  "anaconda-cloud": {},
  "kernelspec": {
   "display_name": "Python [Root]",
   "language": "python",
   "name": "Python [Root]"
  },
  "language_info": {
   "codemirror_mode": {
    "name": "ipython",
    "version": 3
   },
   "file_extension": ".py",
   "mimetype": "text/x-python",
   "name": "python",
   "nbconvert_exporter": "python",
   "pygments_lexer": "ipython3",
   "version": "3.5.2"
  }
 },
 "nbformat": 4,
 "nbformat_minor": 0
}
