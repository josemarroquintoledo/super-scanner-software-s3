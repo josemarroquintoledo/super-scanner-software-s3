{
 "cells": [
  {
   "cell_type": "code",
   "execution_count": null,
   "metadata": {
    "collapsed": true
   },
   "outputs": [],
   "source": [
    "__author__ = \"Jose David Marroquin Toledo\"\n",
    "__credits__ = [\"Jose David Marroquin Toledo\", ]\n",
    "__email__ = \"jose@marroquin.cl\"\n",
    "__status__ = \"Development\""
   ]
  },
  {
   "cell_type": "markdown",
   "metadata": {},
   "source": [
    "## Generate a Simulated Image Set for Photogrammetry\n",
    "\n",
    "Exporting this notebook as a Python script (**File**&rarr;**Download as**&rarr;**Python (.py)**), openning Blender, [phstudio_ArtemisStatue.blend](../blend-meshes/phstudio_ArtemisStatue.blend) and the script (**Chose Screen layout**&rarr;**Open**), modifying the the route of the source image to copy its Exif metadata to other image (`exif` in `take_photo()` in the example), uncommenting the line of the example at the end and running the script, this notebook going to generate an **image set to be used with photogrammetry software**.\n",
    "\n",
    "In the Blender's window, from **File**&rarr;**Import**&rarr;**Stl (.stl)**, you can choose your own mesh. Sometimes, it is necessary to scale the 3D models.\n",
    "\n",
    "This notebook **does not use** a Python kernel, [uses a Blender kernel](https://github.com/panzi/blender_ipython)."
   ]
  },
  {
   "cell_type": "code",
   "execution_count": null,
   "metadata": {
    "collapsed": false
   },
   "outputs": [],
   "source": [
    "import bpy\n",
    "import math\n",
    "import os\n",
    "from PIL import Image\n",
    "import pyexiv2"
   ]
  },
  {
   "cell_type": "code",
   "execution_count": null,
   "metadata": {
    "collapsed": true
   },
   "outputs": [],
   "source": [
    "def set_up_sc(sc, **kwargs):\n",
    "    \"\"\"Set up some parameters of a scene, sc ('bpy.context.scene').\"\"\"\n",
    "    wpx = kwargs.pop('wpx', 320)\n",
    "    hpx = kwargs.pop('hpx', 240)\n",
    "    antialias = kwargs.pop('antialias', '8')\n",
    "    bw = kwargs.pop('bw', True)\n",
    "    cam = kwargs.pop('cam', 'iph4s')\n",
    "    sc.render.use_stamp_lens = True\n",
    "    sc.render.resolution_percentage = 100\n",
    "    sc.render.resolution_x = wpx\n",
    "    sc.render.resolution_y = hpx\n",
    "    sc.render.antialiasing_samples = antialias\n",
    "    sc.render.use_overwrite = True\n",
    "    sc.world.horizon_color = (1, 1, 1)\n",
    "    if bw:\n",
    "        sc.render.image_settings.color_mode = 'BW'\n",
    "    else:\n",
    "        sc.render.image_settings.color_mode = 'RGB'"
   ]
  },
  {
   "cell_type": "code",
   "execution_count": null,
   "metadata": {
    "collapsed": true
   },
   "outputs": [],
   "source": [
    "def get_camera():\n",
    "    \"\"\"Return the first camera ('bpy.types.Camera') of the Blender\n",
    "    file.('bpy.types.Camera') \"\"\"\n",
    "    for i in bpy.data.objects:\n",
    "        if i.type == 'CAMERA':\n",
    "            return i\n",
    "    return -1"
   ]
  },
  {
   "cell_type": "code",
   "execution_count": null,
   "metadata": {
    "collapsed": true
   },
   "outputs": [],
   "source": [
    "def set_up_cam(cam, idcam='iph4s'):\n",
    "    \"\"\"Set up a camera ('bpy.types.Camera') as a real camera.\n",
    "    \n",
    "    Add more camera presets to d_cams ('dict') transcribing the values\n",
    "    from the files in /usr/share/blender/scripts/presets/camera/ to\n",
    "    the dictionary.\"\"\"\n",
    "    d_cams = {'iph4s': ['iPhone 4S', 4.54, 3.42, 4.28,'HORIZONTAL'], }\n",
    "    cam.data.sensor_width = d_cams[idcam][1]\n",
    "    cam.data.sensor_height = d_cams[idcam][2]\n",
    "    cam.data.lens = d_cams[idcam][3]\n",
    "    cam.data.sensor_fit = d_cams[idcam][4]"
   ]
  },
  {
   "cell_type": "code",
   "execution_count": null,
   "metadata": {
    "collapsed": true
   },
   "outputs": [],
   "source": [
    "def num_str_zeros(num, n_digs, matlab=False):\n",
    "    \"\"\"Return a string that contains a sequence n-zeros followed by\n",
    "    num ('int') as 'str', for example, num_str_zeros(89, 4) returns\n",
    "    '0089'. From fwdimaging.ipynbSet a cammera ('bpy.types.Camera')\n",
    "    as  Jupyter notebook.\"\"\"\n",
    "    if matlab:  # Begin the numeration with 1 in the filename.\n",
    "        num += 1\n",
    "    str_num = ''\n",
    "    for i in range(n_digs - len(str(num))):\n",
    "        str_num += '0'\n",
    "    str_num += str(num)\n",
    "    return str_num"
   ]
  },
  {
   "cell_type": "code",
   "execution_count": null,
   "metadata": {
    "collapsed": false
   },
   "outputs": [],
   "source": [
    "def copy_exif(dest_path, src_path):\n",
    "    \"\"\"Copy the Exif metadata of a source image to another.\"\"\"\n",
    "    dest_img = Image.open(dest_path)\n",
    "    wpx = dest_img.size[0]\n",
    "    hpx = dest_img.size[1]\n",
    "    dest_img.close()\n",
    "    src_img = pyexiv2.ImageMetadata(src_path)\n",
    "    src_img.read()\n",
    "    dest_img = pyexiv2.ImageMetadata(dest_path)\n",
    "    dest_img.read()\n",
    "    src_img.copy(dest_img, exif=True)\n",
    "    dest_img[\"Exif.Photo.PixelXDimension\"] = wpx\n",
    "    dest_img[\"Exif.Photo.PixelYDimension\"] = hpx\n",
    "    dest_img.write()"
   ]
  },
  {
   "cell_type": "code",
   "execution_count": null,
   "metadata": {
    "collapsed": false
   },
   "outputs": [],
   "source": [
    "def shoot(cam, sc, filename, exif, **kwargs):\n",
    "    \"\"\"Render a scene ('bpy.context.scene') with a camera\n",
    "    ('bpy.types.Camera') and save the result in outpath\n",
    "    ('str') route as image file.\"\"\"\n",
    "    outpath = kwargs.pop('outpath', 'ph_blend_set/')\n",
    "    extension = kwargs.pop('extension', 'TIFF')\n",
    "    sc.render.image_settings.file_format = extension\n",
    "    extension = extension.lower()\n",
    "    if extension == 'jpeg':\n",
    "        extension = 'jpg'\n",
    "    sc.camera = cam\n",
    "    sc.render.filepath = outpath + filename\n",
    "    bpy.ops.render.render(write_still=True)\n",
    "    copy_exif(outpath + filename + '.' + extension, exif) "
   ]
  },
  {
   "cell_type": "code",
   "execution_count": null,
   "metadata": {
    "collapsed": false
   },
   "outputs": [],
   "source": [
    "def take_photos(cam, sc, l_loc_rot, **kwargs):\n",
    "    \"\"\"Take photos with the cam ('bpy.types.Camera') in the\n",
    "    coordinates and the angles referenced as tuples of l_loc_rot\n",
    "    ('list').\"\"\"\n",
    "    prefix = kwargs.pop('prefix', 'view_')\n",
    "    ext = kwargs.pop('ext', 'TIFF')\n",
    "    exif = kwargs.pop('exif', '../img/Photo 25-09-16 11 11 00.jpg')\n",
    "    len_llocrot = len(l_loc_rot)\n",
    "    for i in range(len_llocrot):\n",
    "        loc, rot = l_loc_rot[i]\n",
    "        cam.location = loc\n",
    "        for j in range(3):  # 3 by each rotation.\n",
    "            cam.rotation_euler[j] = math.radians(rot[j])\n",
    "        shoot(cam,\n",
    "              sc,\n",
    "              prefix + num_str_zeros(i, len(str(len_llocrot)),\n",
    "                                              matlab=True),\n",
    "              exif,\n",
    "              extension=ext)"
   ]
  },
  {
   "cell_type": "code",
   "execution_count": null,
   "metadata": {
    "collapsed": true
   },
   "outputs": [],
   "source": [
    "def range_float(a, b, step):\n",
    "    \"\"\"Emulate the np.arange() of the numpy Python module.\n",
    "    \n",
    "    With this function, IT IS NOT NECESSARY to install numpy for\n",
    "    Blender.\"\"\"\n",
    "    l = list()\n",
    "    if a > b:\n",
    "        while a > b:\n",
    "            l.append(a)\n",
    "            a -= step\n",
    "    else:\n",
    "        if a < b:\n",
    "            while a < b:\n",
    "                l.append(a)\n",
    "                a += step\n",
    "    return l"
   ]
  },
  {
   "cell_type": "code",
   "execution_count": null,
   "metadata": {
    "collapsed": false
   },
   "outputs": [],
   "source": [
    "def walk_sphere(**kwargs):\n",
    "    \"\"\"Return a list of tuples with the (x, y, z) coordinates and\n",
    "    rotation angles of a camera that moves along a circular path in\n",
    "    different heights and radius of a sphere.\n",
    "    \n",
    "    Example\n",
    "    >>> l = walk_sphere()\n",
    "    >>> l\n",
    "    [((7.984359711335656, 0.0, 0.5000000000000012),\n",
    "      (86.41667830152802, 0, 90)),\n",
    "       ...,\n",
    "     ((3.3777275704249043, -5.850395766102116, 4.2853034711634965),\n",
    "      (57.61111886768535, 0, 390.0))]\n",
    "    >>> (x, y, z), (rotx, roty, rotz) = l[0]\n",
    "    >>> rotz\n",
    "    90\n",
    "    \"\"\"\n",
    "    r = kwargs.pop('r', 8)  # The radius in 'NONE' units.\n",
    "    # Number of photos during movement in xy-plane.\n",
    "    hsteps = kwargs.pop('hsteps', 16)\n",
    "    # Number of xy-planes of movement.\n",
    "    vsteps = kwargs.pop('vsteps', 4)\n",
    "    # First height of the camera in 'NONE' units.\n",
    "    hinit = kwargs.pop('hinit', 0.5)\n",
    "    # Maximum height of the camera. It not should be greater that\n",
    "    # the radius, r ('float').\n",
    "    hend = kwargs.pop('hend', 6)\n",
    "    # In Blender, a simple way to find out the phase change angle is\n",
    "    # placing the camera ('bpy.types.Camera') in the first (x, y, z)\n",
    "    # coordinate and manually changing the Y rotation angle of\n",
    "    # 'XYZ' rotation order.\n",
    "    dphase = kwargs.pop('dphase', 90)\n",
    "    daltitude = kwargs.pop('daltitude', 0)\n",
    "    # Phi is the angle measured from the z-Axis to the xy-plane.\n",
    "    phi_init = 90 - math.degrees(math.asin(hinit / float(r)))\n",
    "    phi_end = 90 - math.degrees(math.asin(hend / float(r)))\n",
    "    phi_step = abs(phi_init - phi_end) / float(vsteps)\n",
    "    range_phi = range_float(phi_init, phi_end, phi_step)\n",
    "    range_phi = range_phi[:vsteps]\n",
    "    theta_step = 360 / float(hsteps)\n",
    "    range_theta = range_float(0, 360, theta_step)\n",
    "    range_theta = range_theta[:hsteps]\n",
    "    l_coord = list()\n",
    "    for phi in range_phi:\n",
    "        for theta in range_theta:\n",
    "            # Parameterization of a sphere [1].\n",
    "            #\n",
    "            # [1] Carmen, M. (2007). Parametrizaciones. Retrieved from\n",
    "            # http://www.dm.uba.ar/materias/complementos_analisis_Mae/2007/2/parametrizaciones.pdf\n",
    "            x = r * math.cos(math.radians(theta)) * math.sin(math.radians(phi))\n",
    "            y = r * math.sin(math.radians(theta)) * math.sin(math.radians(phi))\n",
    "            z = r * math.cos(math.radians(phi))\n",
    "            rotx = phi + daltitude\n",
    "            roty = 0\n",
    "            rotz = theta + dphase\n",
    "            l_coord.append(((x, y, z), (rotx, roty, rotz)))\n",
    "    return l_coord"
   ]
  },
  {
   "cell_type": "markdown",
   "metadata": {},
   "source": [
    "### Example\n",
    "\n",
    "Generate a default number of images with Blender for photogrammetry."
   ]
  },
  {
   "cell_type": "code",
   "execution_count": null,
   "metadata": {
    "collapsed": false
   },
   "outputs": [],
   "source": [
    "# UNCOMMENT ALL BELOW to render the scene.\n",
    "# scene = bpy.context.scene\n",
    "# set_up_sc(scene, wpx=2560, hpx=1920, bw=False)\n",
    "# cam = get_camera()\n",
    "# set_up_cam(cam)\n",
    "# take_photos(cam, scene, walk_sphere(r=12,\n",
    "#                                     hinit=6,\n",
    "#                                     hend=10,\n",
    "#                                     daltitude=15),\n",
    "#             ext='JPEG',\n",
    "#             exif='<path of S3>/img/Photo 25-09-16 11 11 00.jpg')"
   ]
  }
 ],
 "metadata": {
  "anaconda-cloud": {},
  "kernelspec": {
   "display_name": "Blender",
   "language": "python",
   "name": "blender"
  },
  "language_info": {
   "codemirror_mode": {
    "name": "ipython",
    "version": 3
   },
   "file_extension": ".py",
   "mimetype": "text/x-python",
   "name": "python",
   "nbconvert_exporter": "python",
   "pygments_lexer": "ipython3",
   "version": "3.5.2"
  }
 },
 "nbformat": 4,
 "nbformat_minor": 0
}
