{
 "cells": [
  {
   "cell_type": "code",
   "execution_count": null,
   "metadata": {
    "collapsed": true
   },
   "outputs": [],
   "source": [
    "__author__ = \"Jose David Marroquin Toledo\"\n",
    "__credits__ = [\"Jose David Marroquin Toledo\",]\n",
    "__email__ = \"jose@marroquin.cl\"\n",
    "__status__ = \"Development\""
   ]
  },
  {
   "cell_type": "markdown",
   "metadata": {},
   "source": [
    "## Generate Simulated Image Set for Photogrammetry\n",
    "\n",
    "Using the default starting objects of Blender, this Jupyter module generates an **image set to be used with photogrammetry software**.\n",
    "\n",
    "You can export this notebook as Python script (**File**&rarr;**Download as**&rarr;**Python (.py)**) and execute it from Blender (**Chose Screen layout**&rarr;**Open**&rarr;**Run Script**).\n",
    "\n",
    "See the example at the end of this notebook.\n",
    "\n",
    "This notebook **does not use** a Python kernel, [uses a Blender kernel](https://github.com/panzi/blender_ipython)."
   ]
  },
  {
   "cell_type": "code",
   "execution_count": null,
   "metadata": {
    "collapsed": false
   },
   "outputs": [],
   "source": [
    "import bpy\n",
    "import math\n",
    "import os"
   ]
  },
  {
   "cell_type": "code",
   "execution_count": null,
   "metadata": {
    "collapsed": true
   },
   "outputs": [],
   "source": [
    "def set_up_sc(sc, **kwargs):\n",
    "    \"\"\"Set up some parameters of a scene, sc ('bpy.context.scene').\"\"\"\n",
    "    wpx = kwargs.pop('wpx', 320)\n",
    "    hpx = kwargs.pop('hpx', 240)\n",
    "    antialias = kwargs.pop('antialias', '8')\n",
    "    bw = kwargs.pop('bw', True)\n",
    "    extension = kwargs.pop('extension', 'TIFF')\n",
    "    sc.render.resolution_percentage = 100\n",
    "    sc.render.resolution_x = wpx\n",
    "    sc.render.resolution_y = hpx\n",
    "    sc.render.antialiasing_samples = antialias\n",
    "    sc.render.use_overwrite = True\n",
    "    sc.render.image_settings.file_format = extension\n",
    "    if bw:\n",
    "        sc.render.image_settings.color_mode = 'BW'\n",
    "    else:\n",
    "        sc.render.image_settings.color_mode = 'RGB'"
   ]
  },
  {
   "cell_type": "code",
   "execution_count": null,
   "metadata": {
    "collapsed": true
   },
   "outputs": [],
   "source": [
    "def num_str_zeros(num, n_digs, matlab=False):\n",
    "    \"\"\"Return a string that contains a sequence n-zeros followed by\n",
    "    num ('int') as 'str', for example, num_str_zeros(89, 4) returns\n",
    "    '0089'. From fwdimaging.ipynb Jupyter notebook.\"\"\"\n",
    "    if matlab:  # Begin the numeration with 1 in the filename.\n",
    "        num += 1\n",
    "    str_num = ''\n",
    "    for i in range(n_digs - len(str(num))):\n",
    "        str_num += '0'\n",
    "    str_num += str(num)\n",
    "    return str_num"
   ]
  },
  {
   "cell_type": "code",
   "execution_count": null,
   "metadata": {
    "collapsed": false
   },
   "outputs": [],
   "source": [
    "def shoot(cam, sc, filename, outpath='ph_blend_set/'):\n",
    "    \"\"\"Render a scene ('bpy.context.scene') with a camera\n",
    "    ('bpy.types.Camera') and save the result in outpath\n",
    "    ('str') route as PNG file.\"\"\"\n",
    "    sc.camera = cam\n",
    "    sc.render.filepath = outpath + filename\n",
    "    bpy.ops.render.render(write_still=True)"
   ]
  },
  {
   "cell_type": "code",
   "execution_count": null,
   "metadata": {
    "collapsed": false
   },
   "outputs": [],
   "source": [
    "def take_photos(cam, sc, l_loc_rot, **kwargs):\n",
    "    \"\"\"Take photos with the cam ('bpy.types.Camera') in the\n",
    "    coordinates and the angles referenced as tuples of l_loc_rot\n",
    "    ('list').\"\"\"\n",
    "    prefix = kwargs.pop('prefix', 'view_')\n",
    "    len_llocrot = len(l_loc_rot)\n",
    "    for i in range(len_llocrot):\n",
    "        loc, rot = l_loc_rot[i]\n",
    "        cam.location = loc\n",
    "        for j in range(3):  # 3 by each rotation.\n",
    "            cam.rotation_euler[j] = math.radians(rot[j])\n",
    "        shoot(cam, sc, prefix + num_str_zeros(i, len(str(len_llocrot)),\n",
    "                                              matlab=True))"
   ]
  },
  {
   "cell_type": "code",
   "execution_count": null,
   "metadata": {
    "collapsed": true
   },
   "outputs": [],
   "source": [
    "def range_float(a, b, step):\n",
    "    \"\"\"Emulate the np.arange() of the numpy Python module.\n",
    "    \n",
    "    With this function, IT IS NOT NECESSARY to install numpy for\n",
    "    Blender.\"\"\"\n",
    "    l = list()\n",
    "    if a > b:\n",
    "        while a > b:\n",
    "            l.append(a)\n",
    "            a -= abs(step)\n",
    "    else:\n",
    "        if a < b:\n",
    "            while a < b:\n",
    "                l.append(a)\n",
    "                a += abs(step)\n",
    "    return l"
   ]
  },
  {
   "cell_type": "code",
   "execution_count": null,
   "metadata": {
    "collapsed": false
   },
   "outputs": [],
   "source": [
    "def walk_sphere(**kwargs):\n",
    "    \"\"\"Return a list of tuples with the (x, y, z) coordinates and\n",
    "    rotation angles of a camera that moves along a circular path in\n",
    "    different heights and radius of a sphere.\n",
    "    \n",
    "    Example\n",
    "    >>> l = walk_sphere()\n",
    "    >>> l\n",
    "    [((7.984359711335656, 0.0, 0.5000000000000012),\n",
    "      (86.41667830152802, 0, 90)),\n",
    "       ...,\n",
    "     ((3.3777275704249043, -5.850395766102116, 4.2853034711634965),\n",
    "      (57.61111886768535, 0, 390.0))]\n",
    "    >>> (x, y, z), (rotx, roty, rotz) = l[0]\n",
    "    >>> rotz\n",
    "    90\n",
    "    \"\"\"\n",
    "    r = kwargs.pop('r', 8)  # The radius in 'NONE' units.\n",
    "    # Number of photos during movement in xy-plane.\n",
    "    hsteps = kwargs.pop('hsteps', 6)\n",
    "    # Number of xy-planes of movement.\n",
    "    vsteps = kwargs.pop('vsteps', 3)\n",
    "    # First height of the camera in 'NONE' units.\n",
    "    hinit = kwargs.pop('hinit', 0.5)\n",
    "    # Maximum height of the camera. It not should be greater that\n",
    "    # the radius, r ('float').\n",
    "    hend = kwargs.pop('hend', 6)\n",
    "    # In Blender, a simple way to find out the phase change angle is\n",
    "    # placing the camera ('bpy.types.Camera') in the first (x, y, z)\n",
    "    # coordinate and manually changing the Y rotation angle of\n",
    "    # 'XYZ' rotation order.\n",
    "    dphase = kwargs.pop('dphase', 90)\n",
    "    # Phi is the angle measured from the z-Axis to the xy-plane.\n",
    "    phi_init = 90 - math.degrees(math.asin(hinit / float(r)))\n",
    "    phi_end = 90 - math.degrees(math.asin(hend / float(r)))\n",
    "    phi_step = (phi_init ) / float(vsteps)\n",
    "    range_phi = range_float(phi_init, phi_end, phi_step)\n",
    "    theta_step = 360 / float(hsteps)\n",
    "    range_theta = range_float(0, 360, theta_step)\n",
    "    l_coord = list()\n",
    "    for phi in range_phi:\n",
    "        for theta in range_theta:\n",
    "            # Parameterization of a sphere [1].\n",
    "            #\n",
    "            # [1] Carmen, M. (2007). Parametrizaciones. Retrieved from\n",
    "            # http://www.dm.uba.ar/materias/complementos_analisis_Mae/2007/2/parametrizaciones.pdf\n",
    "            x = r * math.cos(math.radians(theta)) * math.sin(math.radians(phi))\n",
    "            y = r * math.sin(math.radians(theta)) * math.sin(math.radians(phi))\n",
    "            z = r * math.cos(math.radians(phi))\n",
    "            rotx = phi\n",
    "            roty = 0\n",
    "            rotz = theta + dphase\n",
    "            l_coord.append(((x, y, z), (rotx, roty, rotz)))\n",
    "    return l_coord"
   ]
  },
  {
   "cell_type": "markdown",
   "metadata": {},
   "source": [
    "### Example"
   ]
  },
  {
   "cell_type": "code",
   "execution_count": null,
   "metadata": {
    "collapsed": false
   },
   "outputs": [],
   "source": [
    "# UNCOMMENT ALL BELOW to render the scene.\n",
    "# scene = bpy.context.scene\n",
    "# set_up_sc(scene, extension='PNG', wpx=640, hpx=480, bw=False)\n",
    "# cam = bpy.data.objects[0]\n",
    "# take_photos(cam, scene, walk_sphere())"
   ]
  }
 ],
 "metadata": {
  "anaconda-cloud": {},
  "kernelspec": {
   "display_name": "Blender",
   "language": "python",
   "name": "blender"
  },
  "language_info": {
   "codemirror_mode": {
    "name": "ipython",
    "version": 3
   },
   "file_extension": ".py",
   "mimetype": "text/x-python",
   "name": "python",
   "nbconvert_exporter": "python",
   "pygments_lexer": "ipython3",
   "version": "3.5.2"
  }
 },
 "nbformat": 4,
 "nbformat_minor": 0
}
