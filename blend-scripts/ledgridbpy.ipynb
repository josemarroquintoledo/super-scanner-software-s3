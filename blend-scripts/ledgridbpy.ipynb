{
 "cells": [
  {
   "cell_type": "code",
   "execution_count": null,
   "metadata": {
    "collapsed": true
   },
   "outputs": [],
   "source": [
    "__author__ = \"Jose David Marroquin Toledo\"\n",
    "__credits__ = [\"Jose David Marroquin Toledo\",]\n",
    "__email__ = \"jose@marroquin.cl\"\n",
    "__status__ = \"Development\""
   ]
  },
  {
   "cell_type": "markdown",
   "metadata": {},
   "source": [
    "## Illuminate a Sample with a LED Grid for FP in Blender\n",
    "Importing a mesh and calling conveniently the functions below, you can obtain a Lo-Res image set as in **1. Forward Imaging Model** of fwdimaging Jupyter module.\n",
    "\n",
    "It is suggested to export this notebook as Python script: **File**&rarr;**Download as**&rarr;**Python (.py)**.\n",
    "\n",
    "See the example at the end of this notebook.\n",
    "\n",
    "This notebook **does not use** a Python kernel, [uses a Blender kernel](https://github.com/panzi/blender_ipython)."
   ]
  },
  {
   "cell_type": "code",
   "execution_count": null,
   "metadata": {
    "collapsed": false
   },
   "outputs": [],
   "source": [
    "import bpy\n",
    "import math\n",
    "import os"
   ]
  },
  {
   "cell_type": "code",
   "execution_count": null,
   "metadata": {
    "collapsed": true
   },
   "outputs": [],
   "source": [
    "def set_up_sc(sc, **kwargs):\n",
    "    \"\"\"Set up some parameters of a scene, sc ('bpy.context.scene').\"\"\"\n",
    "    wpx = kwargs.pop('wpx', 64)\n",
    "    hpx = kwargs.pop('hpx', 64)\n",
    "    antialias = kwargs.pop('antialias', '8')\n",
    "    bw = kwargs.pop('bw', True)\n",
    "    extension = kwargs.pop('extension', 'TIFF')\n",
    "    sc.render.resolution_x = wpx\n",
    "    sc.render.resolution_y = hpx\n",
    "    sc.render.antialiasing_samples = antialias\n",
    "    sc.render.use_overwrite = True\n",
    "    sc.render.image_settings.file_format = extension\n",
    "    if bw:\n",
    "        sc.render.image_settings.color_mode = 'BW'\n",
    "    else:\n",
    "        sc.render.image_settings.color_mode = 'RGB'"
   ]
  },
  {
   "cell_type": "code",
   "execution_count": null,
   "metadata": {
    "collapsed": true
   },
   "outputs": [],
   "source": [
    "def delete_all_objects():\n",
    "    \"\"\"Delete all objects of the current blend file.\"\"\"\n",
    "    l_objects = list(bpy.data.objects)\n",
    "    for o in l_objects:  # Select all objects.\n",
    "        o.select = True\n",
    "    bpy.ops.object.delete()  # Delete the selected objects."
   ]
  },
  {
   "cell_type": "code",
   "execution_count": null,
   "metadata": {
    "collapsed": true
   },
   "outputs": [],
   "source": [
    "def num_str_zeros(num, n_digs, matlab=False):\n",
    "    \"\"\"Return a string that contains a sequence n-zeros followed by\n",
    "    num ('int') as 'str', for example, num_str_zeros(89, 4) returns\n",
    "    '0089'. From fwdimaging.ipynb Jupyter notebook.\"\"\"\n",
    "    if matlab:  # Begin the numeration with 1 in the filename.\n",
    "        num += 1\n",
    "    len_num = len(str(num))\n",
    "    str_num = ''\n",
    "    for i in range(n_digs - len_num):\n",
    "        str_num += '0'\n",
    "    str_num += str(num)\n",
    "    return str_num"
   ]
  },
  {
   "cell_type": "code",
   "execution_count": null,
   "metadata": {
    "collapsed": false
   },
   "outputs": [],
   "source": [
    "def create_led_grid(sc, n=15, d=4, h=90, **kwargs):\n",
    "    \"\"\"Return the number of LEDs per row or column, the camera\n",
    "    ('bpy.types.Camera') and the list with (x, y, z) coordinates\n",
    "    ('tuple') of the all LED of the grid.\n",
    "    \n",
    "    n ('int') is the number of LEDs per row or per column in the grid\n",
    "    LED, d ('int') is the distance in mm between LEDs and h ('int')\n",
    "    is the distance between the sample and the grid.\n",
    "    \"\"\"\n",
    "    radiusled = kwargs.pop('radiusled', 1.25)  # Radius in mm of the\n",
    "                                               # LED.\n",
    "    coordcam = kwargs.pop('coorcam', (0, 0, h - 1))\n",
    "    radiusbase = kwargs.pop('radiusbase', (((n - 1) * d) / 2) * 1.5)\n",
    "    # Create the base to put the object to be illuminated.\n",
    "    bpy.ops.mesh.primitive_cylinder_add(location=(0, 0,0),\n",
    "                                        radius=radiusbase,\n",
    "                                        depth=0)\n",
    "    # List of tuples with all coordinates of the LEDs of the grid.\n",
    "    led_grid_coord = list()\n",
    "    x_max = math.floor((n / 2)) * d\n",
    "    x_min = -x_max\n",
    "    y_max = x_max\n",
    "    y_min = x_min\n",
    "    led_grid_coord = list()\n",
    "    l_range = list(range(x_min, x_max + 1, d))\n",
    "    for i in l_range:\n",
    "        for j in l_range:\n",
    "            led_grid_coord.append((j, -i, h))\n",
    "    len_gc = len(led_grid_coord)\n",
    "    for i in range(len_gc):\n",
    "        x_led, y_led, z_led = led_grid_coord[i]\n",
    "        lamp_name = \"lamp\" + num_str_zeros(i, len(str(n ** 2)),\n",
    "                                           matlab=True)\n",
    "        # The lamp as a point.\n",
    "        lamp_data = bpy.data.lamps.new(name=lamp_name, type='POINT')\n",
    "        lamp_data.energy = 0.0 # The lamp if off.\n",
    "        lamp_object = bpy.data.objects.new(name=lamp_name,\n",
    "                                           object_data=lamp_data)\n",
    "        sc.objects.link(lamp_object)\n",
    "        lamp_object.location = (x_led, y_led, z_led)\n",
    "        lamp_object.select = True\n",
    "        sc.objects.active = lamp_object\n",
    "        # Base model for the LED.\n",
    "        bpy.ops.mesh.primitive_cylinder_add(location=(x_led,\n",
    "                                                      y_led,\n",
    "                                                      z_led),\n",
    "                                            radius=radiusled,\n",
    "                                            depth=0)\n",
    "    # Create the camera.\n",
    "    cam_name = \"camgrid\"\n",
    "    cam_data = bpy.data.cameras.new(name=cam_name)\n",
    "    cam_object = bpy.data.objects.new(name=cam_name,\n",
    "                                      object_data=cam_data)\n",
    "    scene.objects.link(cam_object)\n",
    "    cam_object.location = coordcam\n",
    "    sc.objects.active = cam_object\n",
    "    # cam_object ('bpy.types.Camera') MUST BE RETURNED to render the\n",
    "    # scene.\n",
    "    return n, cam_object, led_grid_coord"
   ]
  },
  {
   "cell_type": "code",
   "execution_count": null,
   "metadata": {
    "collapsed": false
   },
   "outputs": [],
   "source": [
    "def take_photo(cam, sc, filename, outpath='img_lores/'):\n",
    "    \"\"\"Render a scene ('bpy.context.scene'), sc, with a camera\n",
    "    ('bpy.types.Camera'), cam, and save the result in render_path\n",
    "    ('str') as PNG file.\"\"\"\n",
    "    sc.camera = cam\n",
    "    sc.render.filepath = outpath + filename\n",
    "    bpy.ops.render.render(write_still=True)"
   ]
  },
  {
   "cell_type": "code",
   "execution_count": null,
   "metadata": {
    "collapsed": true
   },
   "outputs": [],
   "source": [
    "def illuminate_step_by_step(n, cam, sc, **kwargs):\n",
    "    \"\"\"Turn on a lamp at time, take a photo of the mesh and save it.\n",
    "    \"\"\"\n",
    "    prefix = kwargs.pop('prefix', 'lores_')\n",
    "    l_lamps = get_lamps()\n",
    "    len_ll = len(l_lamps)\n",
    "    for i in range(len_ll):\n",
    "        l_lamps[i].data.energy = 2.0\n",
    "        take_photo(cam, sc, prefix + num_str_zeros(i,\n",
    "                                                   len(str(n ** 2)),\n",
    "                                                   matlab=True))\n",
    "        l_lamps[i].data.energy = 0.0"
   ]
  },
  {
   "cell_type": "code",
   "execution_count": null,
   "metadata": {
    "collapsed": true
   },
   "outputs": [],
   "source": [
    "def get_lamps(prefix='lamp'):\n",
    "    \"\"\"Return a list ('list') with all lamps ('bpy.types.Lamp') of the\n",
    "    blend file.\"\"\"\n",
    "    l_lamps = list()\n",
    "    for o in bpy.data.objects:\n",
    "        if prefix in o.name:\n",
    "            l_lamps.append(o)\n",
    "    return l_lamps"
   ]
  },
  {
   "cell_type": "markdown",
   "metadata": {},
   "source": [
    "### Example\n",
    "\n",
    "Uncomment the first line below and **execute once** before import your mesh."
   ]
  },
  {
   "cell_type": "code",
   "execution_count": null,
   "metadata": {
    "collapsed": false
   },
   "outputs": [],
   "source": [
    "# delete_all_objects()\n",
    "# UNCOMMENT ALL BELOW to render the scene.\n",
    "# scene = bpy.context.scene\n",
    "# set_up_sc(scene)\n",
    "# n, cam, _ = create_led_grid(scene)\n",
    "# illuminate_step_by_step(n, cam, scene)"
   ]
  }
 ],
 "metadata": {
  "kernelspec": {
   "display_name": "Blender",
   "language": "python",
   "name": "blender"
  },
  "language_info": {
   "codemirror_mode": {
    "name": "ipython",
    "version": 3
   },
   "file_extension": ".py",
   "mimetype": "text/x-python",
   "name": "python",
   "nbconvert_exporter": "python",
   "pygments_lexer": "ipython3",
   "version": "3.5.2"
  }
 },
 "nbformat": 4,
 "nbformat_minor": 0
}
