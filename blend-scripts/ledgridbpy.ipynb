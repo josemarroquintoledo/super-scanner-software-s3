{
 "cells": [
  {
   "cell_type": "code",
   "execution_count": null,
   "metadata": {
    "collapsed": true
   },
   "outputs": [],
   "source": [
    "__author__ = \"Jose David Marroquin Toledo\"\n",
    "__credits__ = [\"Jose David Marroquin Toledo\",]\n",
    "__email__ = \"jose@marroquin.cl\"\n",
    "__status__ = \"Development\""
   ]
  },
  {
   "cell_type": "markdown",
   "metadata": {},
   "source": [
    "## Illuminate a sample with a LED grid for FP in Blender\n",
    "Importing a mesh and calling conveniently the functions below, you can obtain a Lo-Res image set as in **1. Forward Imaging Model** of fwdimaging Jupyter module.\n",
    "\n",
    "It is suggested to export this notebook as Python script: **File**&rarr;**Download as**&rarr;**Python (.py)**.\n",
    "\n",
    "See the example at the end of this notebook.\n",
    "\n",
    "This notebook **does not use** a Python kernel, [uses a Blender kernel](https://github.com/panzi/blender_ipython)."
   ]
  },
  {
   "cell_type": "code",
   "execution_count": null,
   "metadata": {
    "collapsed": false
   },
   "outputs": [],
   "source": [
    "import bpy\n",
    "from mathutils import Matrix\n",
    "import math\n",
    "import os"
   ]
  },
  {
   "cell_type": "code",
   "execution_count": null,
   "metadata": {
    "collapsed": true
   },
   "outputs": [],
   "source": [
    "def set_up_sc(sc, **kwargs):\n",
    "    \"\"\"Set up some parameters of a scene, sc ('bpy.context.scene').\"\"\"\n",
    "    wpx = kwargs.pop('wpx', 64)\n",
    "    hpx = kwargs.pop('hpx', 64)\n",
    "    antialias = kwargs.pop('antialias', '8')\n",
    "    bw = kwargs.pop('bw', True)\n",
    "    extension = kwargs.pop('extension', 'TIFF')\n",
    "    sc.render.resolution_x = wpx\n",
    "    sc.render.resolution_y = hpx\n",
    "    sc.render.antialiasing_samples = antialias\n",
    "    sc.render.use_overwrite = True\n",
    "    sc.render.image_settings.file_format = extension\n",
    "    if bw:\n",
    "        sc.render.image_settings.color_mode = 'BW'\n",
    "    else:\n",
    "        sc.render.image_settings.color_mode = 'RGB'"
   ]
  },
  {
   "cell_type": "code",
   "execution_count": null,
   "metadata": {
    "collapsed": true
   },
   "outputs": [],
   "source": [
    "def delete_all_objects():\n",
    "    \"\"\"Delete all objects of the current blend file.\"\"\"\n",
    "    l_objects = list(bpy.data.objects)\n",
    "    for o in l_objects:  # Select all objects.\n",
    "        o.select = True\n",
    "    bpy.ops.object.delete()  # Delete the selected objects."
   ]
  },
  {
   "cell_type": "code",
   "execution_count": null,
   "metadata": {
    "collapsed": true
   },
   "outputs": [],
   "source": [
    "def num_str_zeros(num, n_digs, matlab=False):\n",
    "    \"\"\"Return a string that contains a sequence n-zeros followed by\n",
    "    num ('int') as 'str', for example, num_str_zeros(89, 4) returns\n",
    "    '0089'\". From fwdimaging.ipynb Jupyter notebook.\"\"\"\n",
    "    if matlab:  # Begin the numeration with 1 in the filename.\n",
    "        num += 1\n",
    "    len_num = len(str(num))\n",
    "    str_num = ''\n",
    "    for i in range(n_digs - len_num):\n",
    "        str_num += '0'\n",
    "    str_num += str(num)\n",
    "    return str_num"
   ]
  },
  {
   "cell_type": "code",
   "execution_count": null,
   "metadata": {
    "collapsed": true
   },
   "outputs": [],
   "source": [
    "def create_led_grid(sc, **kwargs):\n",
    "    \"\"\"Return the number of LEDs per row and column, the camera\n",
    "    ('bpy.types.Camera') and the list with (x, y, z) coordinates\n",
    "    ('tuple') of the all LED of the grid.\"\"\"\n",
    "    # Number of LEDs per row and column.\n",
    "    rows = kwargs.pop('rows', 15)\n",
    "    dist = kwargs.pop('dist', 6)  # Distance in mm between LEDs.\n",
    "    # The LED grid will be centered in the (x, y, z).\n",
    "    xgrid = kwargs.pop('xgrid', 0)  # X coordinate of the grid in the\n",
    "                                    # x-axis.\n",
    "    ygrid = kwargs.pop('ygrid', 0)  # ... Y in the y-axis.\n",
    "    zgrid = kwargs.pop('zgrid', 40) # ... Z in the z-axis.\n",
    "    radiusled = kwargs.pop('radiusled', 2.5)  # Radius in mm of the\n",
    "                                              # LED.\n",
    "    # List of tuples with all coordinates of the LEDs of the grid.\n",
    "    led_grid_coord = list()  \n",
    "    # Determination of the limits of the grid when it is in the\n",
    "    # center.\n",
    "    plimit_x = (rows * dist) / 2  # Positive horizontal limit for the\n",
    "                                  # X coordinate.\n",
    "    nlimit_x = -plimit_x  # Negative horizontal limit for the X\n",
    "                          # coordinate.\n",
    "    plimit_y = (rows * dist) / 2\n",
    "    nlimit_y = -plimit_y\n",
    "    # Determination of the limits of the grid when it is moved in\n",
    "    # x-axis and y-axis.\n",
    "    plimit_x_moved = plimit_x + xgrid\n",
    "    nlimit_x_moved = nlimit_x + xgrid\n",
    "    plimit_y_moved = plimit_y + ygrid\n",
    "    nlimit_y_moved = nlimit_y + ygrid\n",
    "    x_init = nlimit_x_moved  # X coordinate of the first LED of the\n",
    "                             # grid.\n",
    "    y_init = plimit_y_moved  # Y coordinate...\n",
    "    # Fill the led_grid_coord ('list') with the coordinates of the\n",
    "    # LEDs.\n",
    "    for i in range(rows):\n",
    "        for j in range(rows):\n",
    "            led_grid_coord.append((x_init, y_init, zgrid))\n",
    "            x_init += dist\n",
    "        x_init = nlimit_x_moved\n",
    "        y_init -= dist\n",
    "    for i in range(len(led_grid_coord)):\n",
    "        x_i, y_i, z_i = led_grid_coord[i]\n",
    "        lamp_name = \"lamp\" + num_str_zeros(i, len(str(rows ** 2)),\n",
    "                                           matlab=True)\n",
    "        # The lamp as a cone.\n",
    "        lamp_data = bpy.data.lamps.new(name=lamp_name, type='SPOT')\n",
    "        lamp_data.energy = 0.0 # The lamp if off.\n",
    "        lamp_object = bpy.data.objects.new(name=lamp_name,\n",
    "                                           object_data=lamp_data)\n",
    "        sc.objects.link(lamp_object)\n",
    "        lamp_object.location = (x_i, y_i, z_i)\n",
    "        lamp_object.select = True\n",
    "        sc.objects.active = lamp_object\n",
    "        # Base model for the LED.\n",
    "        bpy.ops.mesh.primitive_cylinder_add(location=(x_i, y_i, z_i),\n",
    "                                            radius=radiusled,\n",
    "                                            depth=0)\n",
    "    # Create the camera.\n",
    "    cam_name = \"camgrid\"\n",
    "    cam_data = bpy.data.cameras.new(name=cam_name)\n",
    "    cam_object = bpy.data.objects.new(name=cam_name,\n",
    "                                      object_data=cam_data)\n",
    "    scene.objects.link(cam_object)\n",
    "    cam_object.location = (xgrid, ygrid, zgrid - 1)\n",
    "    sc.objects.active = cam_object\n",
    "    # cam_object ('bpy.types.Camera') MUST BE RETURNED to render the\n",
    "    # scene.\n",
    "    return rows, cam_object, led_grid_coord"
   ]
  },
  {
   "cell_type": "code",
   "execution_count": null,
   "metadata": {
    "collapsed": false
   },
   "outputs": [],
   "source": [
    "def take_photo(cam, sc, filename, outpath='img_lores/'):\n",
    "    \"\"\"Render a scene ('bpy.context.scene'), sc, with a camera\n",
    "    ('bpy.types.Camera'), cam, and save the result in render_path\n",
    "    ('str') as PNG file.\"\"\"\n",
    "    sc.camera = cam\n",
    "    sc.render.filepath = outpath + filename\n",
    "    bpy.ops.render.render(write_still=True)"
   ]
  },
  {
   "cell_type": "code",
   "execution_count": null,
   "metadata": {
    "collapsed": true
   },
   "outputs": [],
   "source": [
    "def illuminate_step_by_step(rows, cam, sc, **kwargs):\n",
    "    \"\"\"Turn on a lamp at time, take a photo of the mesh and save it.\n",
    "    \"\"\"\n",
    "    prefix = kwargs.pop('prefix', 'lores_')\n",
    "    l_lamps = get_lamps()\n",
    "    for i in range(len(l_lamps)):\n",
    "        l_lamps[i].data.energy = 2.0\n",
    "        take_photo(cam, sc, prefix + num_str_zeros(i,\n",
    "                                                   len(str(rows ** 2)),\n",
    "                                                   matlab=True))\n",
    "        l_lamps[i].data.energy = 0.0"
   ]
  },
  {
   "cell_type": "code",
   "execution_count": null,
   "metadata": {
    "collapsed": true
   },
   "outputs": [],
   "source": [
    "def get_lamps(prefix='lamp'):\n",
    "    \"\"\"Return a list ('list') with all lamps ('bpy.types.Lamp') of the\n",
    "    blend file.\"\"\"\n",
    "    l_lamps = list()\n",
    "    for o in bpy.data.objects:\n",
    "        if prefix in o.name:\n",
    "            l_lamps.append(o)\n",
    "    return l_lamps"
   ]
  },
  {
   "cell_type": "markdown",
   "metadata": {},
   "source": [
    "### Example\n",
    "\n",
    "Uncomment the first line below and **execute once** before import your mesh."
   ]
  },
  {
   "cell_type": "code",
   "execution_count": null,
   "metadata": {
    "collapsed": false
   },
   "outputs": [],
   "source": [
    "# delete_all_objects()\n",
    "# UNCOMMENT ALL BELOW to render the scene.\n",
    "# scene = bpy.context.scene\n",
    "# set_up_sc(scene)\n",
    "# rows, cam, _ = create_led_grid(scene)\n",
    "# illuminate_step_by_step(rows, cam, scene)"
   ]
  }
 ],
 "metadata": {
  "kernelspec": {
   "display_name": "Blender env",
   "language": "python",
   "name": "blender"
  },
  "language_info": {
   "codemirror_mode": {
    "name": "ipython",
    "version": 3
   },
   "file_extension": ".py",
   "mimetype": "text/x-python",
   "name": "python",
   "nbconvert_exporter": "python",
   "pygments_lexer": "ipython3",
   "version": "3.5.2"
  }
 },
 "nbformat": 4,
 "nbformat_minor": 0
}
