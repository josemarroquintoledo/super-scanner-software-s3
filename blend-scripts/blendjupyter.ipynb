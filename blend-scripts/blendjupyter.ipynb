{
 "cells": [
  {
   "cell_type": "code",
   "execution_count": null,
   "metadata": {
    "collapsed": true
   },
   "outputs": [],
   "source": [
    "__author__ = \"Jose David Marroquin Toledo\"\n",
    "__credits__ = [\"Jose David Marroquin Toledo\", ]\n",
    "__email__ = \"jose@marroquin.cl\"\n",
    "__status__ = \"Development\""
   ]
  },
  {
   "cell_type": "markdown",
   "metadata": {},
   "source": [
    "This module was written to set up and manipulate cameras (`'bpy.types.Camera'`), scenes (`'bpy.context.scene'`) and other things in Blender from Jupyter without opening it.\n",
    "\n",
    "This notebook **does not use** a Python kernel, [uses a Blender kernel](https://github.com/panzi/blender_ipython)."
   ]
  },
  {
   "cell_type": "code",
   "execution_count": null,
   "metadata": {
    "collapsed": false
   },
   "outputs": [],
   "source": [
    "import bpy\n",
    "import math\n",
    "import os\n",
    "from PIL import Image\n",
    "import pyexiv2"
   ]
  },
  {
   "cell_type": "code",
   "execution_count": null,
   "metadata": {
    "collapsed": true
   },
   "outputs": [],
   "source": [
    "def open_blend(**kwargs):\n",
    "    \"\"\"Open a Blender file to be used with scripts.\"\"\"\n",
    "    s3path = kwargs.pop('s3path',\n",
    "                        os.path.join(os.path.expanduser('~'),\n",
    "                                     'super-scanner-software-s3'))\n",
    "    name = kwargs.pop('name', 'phstudio_ArtemisStatue.blend')\n",
    "    path = kwargs.pop('path',\n",
    "                      os.path.join(s3path, 'blend-meshes', name))\n",
    "    if kwargs:\n",
    "        raise TypeError('{!s}() got an unexpected keyword argument {!r}'.format(generate_obj.__name__, list(kwargs.keys())[-1]))\n",
    "    try:\n",
    "        bpy.ops.wm.open_mainfile(filepath=path)\n",
    "        print('Opened:', path)\n",
    "    except IOError:\n",
    "        print('No such file:', path)"
   ]
  },
  {
   "cell_type": "code",
   "execution_count": null,
   "metadata": {
    "collapsed": true
   },
   "outputs": [],
   "source": [
    "def set_up_sc(**kwargs):\n",
    "    \"\"\"Set up a scene ('bpy.context.scene') and return it.\"\"\"\n",
    "    wpx = kwargs.pop('wpx', 320)\n",
    "    hpx = kwargs.pop('hpx', 240)\n",
    "    antialias = kwargs.pop('antialias', '8')\n",
    "    bw = kwargs.pop('bw', True)\n",
    "    cam = kwargs.pop('cam', 'iph4s')\n",
    "    quality = kwargs.pop('quality', 100)\n",
    "    if kwargs:\n",
    "        raise TypeError('{!s}() got an unexpected keyword argument {!r}'.format(generate_obj.__name__, list(kwargs.keys())[-1]))\n",
    "    sc = bpy.context.scene\n",
    "    sc.render.use_stamp_lens = True\n",
    "    sc.render.resolution_percentage = quality\n",
    "    sc.render.resolution_x = wpx\n",
    "    sc.render.resolution_y = hpx\n",
    "    sc.render.antialiasing_samples = antialias\n",
    "    sc.render.use_overwrite = True\n",
    "    sc.world.horizon_color = (1, 1, 1)\n",
    "    if bw:\n",
    "        sc.render.image_settings.color_mode = 'BW'\n",
    "    else:\n",
    "        sc.render.image_settings.color_mode = 'RGB'\n",
    "    return sc"
   ]
  },
  {
   "cell_type": "code",
   "execution_count": null,
   "metadata": {
    "collapsed": true
   },
   "outputs": [],
   "source": [
    "def get_camera():\n",
    "    \"\"\"Return the first camera ('bpy.types.Camera') of the Blender\n",
    "    file.('bpy.types.Camera') \"\"\"\n",
    "    for i in bpy.data.objects:\n",
    "        if i.type == 'CAMERA':\n",
    "            return i\n",
    "    return -1"
   ]
  },
  {
   "cell_type": "code",
   "execution_count": null,
   "metadata": {
    "collapsed": true
   },
   "outputs": [],
   "source": [
    "def set_up_cam(cam, idcam='iph4s'):\n",
    "    \"\"\"Set up a camera ('bpy.types.Camera') as a real camera.\n",
    "    \n",
    "    Add more camera presets to d_cams ('dict') transcribing the values\n",
    "    from the files in /usr/share/blender/scripts/presets/camera/ to\n",
    "    the dictionary.\"\"\"\n",
    "    d_cams = {'iph4s': ['iPhone 4S', 4.54, 3.42, 4.28,'HORIZONTAL'], }\n",
    "    cam.data.sensor_width = d_cams[idcam][1]\n",
    "    cam.data.sensor_height = d_cams[idcam][2]\n",
    "    cam.data.lens = d_cams[idcam][3]\n",
    "    cam.data.sensor_fit = d_cams[idcam][4]"
   ]
  },
  {
   "cell_type": "code",
   "execution_count": null,
   "metadata": {
    "collapsed": true
   },
   "outputs": [],
   "source": [
    "def num_str_zeros(num, n_digs, matlab=False):\n",
    "    \"\"\"Return a string that contains a sequence n-zeros followed by\n",
    "    num ('int') as 'str', for example, num_str_zeros(89, 4) returns\n",
    "    '0089'. From fwdimaging.ipynbSet a cammera ('bpy.types.Camera')\n",
    "    as  Jupyter notebook.\"\"\"\n",
    "    if matlab:  # Begin the numeration with 1 in the filename.\n",
    "        num += 1\n",
    "    str_num = ''\n",
    "    for i in range(n_digs - len(str(num))):\n",
    "        str_num += '0'\n",
    "    str_num += str(num)\n",
    "    return str_num"
   ]
  },
  {
   "cell_type": "code",
   "execution_count": null,
   "metadata": {
    "collapsed": false
   },
   "outputs": [],
   "source": [
    "def copy_exif(dest_path, src_path):\n",
    "    \"\"\"Copy the Exif metadata of a source image to another.\"\"\"\n",
    "    dest_img = Image.open(dest_path)\n",
    "    wpx = dest_img.size[0]\n",
    "    hpx = dest_img.size[1]\n",
    "    dest_img.close()\n",
    "    src_img = pyexiv2.ImageMetadata(src_path)\n",
    "    src_img.read()\n",
    "    dest_img = pyexiv2.ImageMetadata(dest_path)\n",
    "    dest_img.read()\n",
    "    src_img.copy(dest_img, exif=True)\n",
    "    dest_img[\"Exif.Photo.PixelXDimension\"] = wpx\n",
    "    dest_img[\"Exif.Photo.PixelYDimension\"] = hpx\n",
    "    dest_img.write()"
   ]
  },
  {
   "cell_type": "code",
   "execution_count": null,
   "metadata": {
    "collapsed": false
   },
   "outputs": [],
   "source": [
    "def shoot_cam(cam, sc, base_file_path, exif, **kwargs):\n",
    "    \"\"\"Render a scene ('bpy.context.scene') with a camera\n",
    "    ('bpy.types.Camera') and save the result in outpath\n",
    "    ('str') route as image file.\"\"\"\n",
    "    extension = kwargs.pop('extension', 'TIFF')\n",
    "    if kwargs:\n",
    "        raise TypeError('{!s}() got an unexpected keyword argument {!r}'.format(generate_obj.__name__, list(kwargs.keys())[-1]))\n",
    "    sc.render.image_settings.file_format = extension\n",
    "    extension = extension.lower()\n",
    "    if extension == 'jpeg':\n",
    "        extension = 'jpg'\n",
    "    sc.camera = cam\n",
    "    sc.render.filepath = base_file_path\n",
    "    bpy.ops.render.render(write_still=True)\n",
    "    file_path = base_file_path + '.' + extension\n",
    "    copy_exif(file_path, exif)\n",
    "    print('Saved view with Exif metadata:', file_path)"
   ]
  },
  {
   "cell_type": "code",
   "execution_count": null,
   "metadata": {
    "collapsed": false
   },
   "outputs": [],
   "source": [
    "def take_photos(cam, sc, l_loc_rot, **kwargs):\n",
    "    \"\"\"Take photos with the cam ('bpy.types.Camera') in the\n",
    "    coordinates and the angles referenced as tuples of l_loc_rot\n",
    "    ('list').\"\"\"    \n",
    "    s3path = kwargs.pop('s3path',\n",
    "                        os.path.join(os.path.expanduser('~'),\n",
    "                                     'super-scanner-software-s3'))\n",
    "    s3out = kwargs.pop('s3out',\n",
    "                       os.path.join(os.path.expanduser('~'),\n",
    "                                    's3-out'))\n",
    "    dirname = kwargs.pop('dirname', 'blend-phg-set-0001')\n",
    "    # Path of the directory that will contain the photos to be used\n",
    "    # with photogrammetry.\n",
    "    path = kwargs.pop('path', os.path.join(s3out,\n",
    "                                           'scanner',\n",
    "                                           dirname))\n",
    "    prefix = kwargs.pop('prefix', 'view_')\n",
    "    ext = kwargs.pop('ext', 'TIFF')\n",
    "    exif = kwargs.pop('exif',\n",
    "                      os.path.join(s3path,\n",
    "                                   'img',\n",
    "                                   'Photo 25-09-16 11 11 00.jpg'))\n",
    "    if kwargs:\n",
    "        raise TypeError('{!s}() got an unexpected keyword argument {!r}'.format(generate_obj.__name__, list(kwargs.keys())[-1]))\n",
    "    while True: # Create a new folder for the set in the main path.\n",
    "        if not os.path.exists(path):\n",
    "            os.makedirs(path)\n",
    "            break\n",
    "        else:\n",
    "            str_num = path.split('-')[-1]\n",
    "            num_dir = int(str_num)\n",
    "            num_dir += 1\n",
    "            str_num_dir = num_str_zeros(num_dir, len(str_num))\n",
    "            path = '-'.join(path.split('-')[:-1]) + '-' + str_num_dir\n",
    "    len_llocrot = len(l_loc_rot)\n",
    "    for i in range(len_llocrot):\n",
    "        loc, rot = l_loc_rot[i]\n",
    "        cam.location = loc\n",
    "        for j in range(3):  # 3 by each rotation.\n",
    "            cam.rotation_euler[j] = math.radians(rot[j])\n",
    "        shoot(cam,\n",
    "              sc,\n",
    "              os.path.join(path,\n",
    "                           prefix + num_str_zeros(i,\n",
    "                                                  len(str(len_llocrot)),\n",
    "                                                  matlab=True)),\n",
    "              exif,\n",
    "              extension=ext)"
   ]
  }
 ],
 "metadata": {
  "anaconda-cloud": {},
  "kernelspec": {
   "display_name": "Blender",
   "language": "python",
   "name": "blender"
  },
  "language_info": {
   "codemirror_mode": {
    "name": "ipython",
    "version": 3
   },
   "file_extension": ".py",
   "mimetype": "text/x-python",
   "name": "python",
   "nbconvert_exporter": "python",
   "pygments_lexer": "ipython3",
   "version": "3.5.2"
  }
 },
 "nbformat": 4,
 "nbformat_minor": 0
}
