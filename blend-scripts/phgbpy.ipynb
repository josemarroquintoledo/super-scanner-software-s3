{
 "cells": [
  {
   "cell_type": "code",
   "execution_count": null,
   "metadata": {
    "collapsed": true
   },
   "outputs": [],
   "source": [
    "__author__ = \"Jose David Marroquin Toledo\"\n",
    "__credits__ = [\"Jose David Marroquin Toledo\", ]\n",
    "__email__ = \"jose@marroquin.cl\"\n",
    "__status__ = \"Development\""
   ]
  },
  {
   "cell_type": "markdown",
   "metadata": {},
   "source": [
    "## Simulate Image Sets for Photogrammetry\n",
    "\n",
    "With these functions, it is possible to generate **image sets to be used with a photogrammetry software**. We suggest to read the [blend-examples notebook](../examples/phg-examples.ipynb) and follow their steps.\n",
    "\n",
    "[blendjupyter.ipynb](blendjupyter.ipynb) is a shared Jupyter module &#171;written to set up and manipulate cameras (`'bpy.types.Camera'`), scenes (`'bpy.context.scene'`)&#187;, among other things.\n",
    "\n",
    "This notebook **does not use** a Python kernel, [uses a Blender kernel](https://github.com/panzi/blender_ipython)."
   ]
  },
  {
   "cell_type": "code",
   "execution_count": null,
   "metadata": {
    "collapsed": false
   },
   "outputs": [],
   "source": [
    "import blendjupyter\n",
    "import math\n",
    "import os"
   ]
  },
  {
   "cell_type": "code",
   "execution_count": null,
   "metadata": {
    "collapsed": false
   },
   "outputs": [],
   "source": [
    "def take_photos(cam, sc, l_loc_rot, **kwargs):\n",
    "    \"\"\"Take photos with the cam ('bpy.types.Camera') in the\n",
    "    coordinates and the angles referenced as tuples of l_loc_rot\n",
    "    ('list').\"\"\"    \n",
    "    s3path = kwargs.pop('s3path',\n",
    "                        os.path.join(os.path.expanduser('~'),\n",
    "                                     'super-scanner-software-s3'))\n",
    "    s3out = kwargs.pop('s3out',\n",
    "                       os.path.join(os.path.expanduser('~'),\n",
    "                                    's3-out'))\n",
    "    dirname = kwargs.pop('dirname', 'blend-phg-set-0001')\n",
    "    # Path of the directory that will contain the photos to be used\n",
    "    # with photogrammetry.\n",
    "    path = kwargs.pop('path', os.path.join(s3out,\n",
    "                                           'scanner',\n",
    "                                           dirname))\n",
    "    prefix = kwargs.pop('prefix', 'view_')\n",
    "    ext = kwargs.pop('ext', 'TIFF')\n",
    "    exif = kwargs.pop('exif',\n",
    "                      os.path.join(s3path,\n",
    "                                   'img',\n",
    "                                   'Photo 25-09-16 11 11 00.jpg'))\n",
    "    if kwargs:\n",
    "        raise TypeError('{!s}() got an unexpected keyword argument {!r}'.format(generate_obj.__name__, list(kwargs.keys())[-1]))\n",
    "    while True: # Create a new folder for the set in the main path.\n",
    "        if not os.path.exists(path):\n",
    "            os.makedirs(path)\n",
    "            break\n",
    "        else:\n",
    "            str_num = path.split('-')[-1]\n",
    "            num_dir = int(str_num)\n",
    "            num_dir += 1\n",
    "            str_num_dir = blendjupyter.num_str_zeros(num_dir,\n",
    "                                                     len(str_num))\n",
    "            path = '-'.join(path.split('-')[:-1]) + '-' + str_num_dir\n",
    "    len_llocrot = len(l_loc_rot)\n",
    "    for i in range(len_llocrot):\n",
    "        loc, rot = l_loc_rot[i]\n",
    "        cam.location = loc\n",
    "        for j in range(3):  # 3 by each rotation.\n",
    "            cam.rotation_euler[j] = math.radians(rot[j])\n",
    "        blendjupyter.shoot_cam(cam,\n",
    "                               sc,\n",
    "                               os.path.join(path,\n",
    "                                            prefix + blendjupyter.num_str_zeros(i,\n",
    "                                                len(str(len_llocrot)),\n",
    "                                                matlab=True)),\n",
    "              exif,\n",
    "              extension=ext)"
   ]
  },
  {
   "cell_type": "code",
   "execution_count": null,
   "metadata": {
    "collapsed": true
   },
   "outputs": [],
   "source": [
    "def range_float(a, b, step):\n",
    "    \"\"\"Emulate the np.arange() of the numpy Python module.\n",
    "    \n",
    "    With this function, IT IS NOT NECESSARY to install numpy for\n",
    "    Blender.\"\"\"\n",
    "    l = list()\n",
    "    if a > b:\n",
    "        while a > b:\n",
    "            l.append(a)\n",
    "            a -= step\n",
    "    else:\n",
    "        if a < b:\n",
    "            while a < b:\n",
    "                l.append(a)\n",
    "                a += step\n",
    "    return l"
   ]
  },
  {
   "cell_type": "code",
   "execution_count": null,
   "metadata": {
    "collapsed": false
   },
   "outputs": [],
   "source": [
    "def walk_sphere(**kwargs):\n",
    "    \"\"\"Return a list of tuples with the (x, y, z) coordinates and\n",
    "    rotation angles of a camera that moves along a circular path in\n",
    "    different heights and radius of a sphere.\n",
    "    \n",
    "    Example\n",
    "    >>> l = walk_sphere()\n",
    "    >>> l\n",
    "    [((7.984359711335656, 0.0, 0.5000000000000012),\n",
    "      (86.41667830152802, 0, 90)),\n",
    "       ...,\n",
    "     ((3.3777275704249043, -5.850395766102116, 4.2853034711634965),\n",
    "      (57.61111886768535, 0, 390.0))]\n",
    "    >>> (x, y, z), (rotx, roty, rotz) = l[0]\n",
    "    >>> rotz\n",
    "    90\n",
    "    \"\"\"\n",
    "    r = kwargs.pop('r', 8)  # The radius in 'NONE' units.\n",
    "    # Number of photos during movement in xy-plane.\n",
    "    hsteps = kwargs.pop('hsteps', 16)\n",
    "    # Number of xy-planes of movement.\n",
    "    vsteps = kwargs.pop('vsteps', 4)\n",
    "    # First height of the camera in 'NONE' units.\n",
    "    hinit = kwargs.pop('hinit', 0.5)\n",
    "    # Maximum height of the camera. It not should be greater that\n",
    "    # the radius, r ('float').\n",
    "    hend = kwargs.pop('hend', 6)\n",
    "    # In Blender, a simple way to find out the phase change angle is\n",
    "    # placing the camera ('bpy.types.Camera') in the first (x, y, z)\n",
    "    # coordinate and manually changing the Y rotation angle of\n",
    "    # 'XYZ' rotation order.\n",
    "    dphase = kwargs.pop('dphase', 90)\n",
    "    daltitude = kwargs.pop('daltitude', 0)\n",
    "    if kwargs:\n",
    "        raise TypeError('{!s}() got an unexpected keyword argument {!r}'.format(generate_obj.__name__, list(kwargs.keys())[-1]))\n",
    "    # Phi is the angle measured from the z-Axis to the xy-plane.\n",
    "    phi_init = 90 - math.degrees(math.asin(hinit / float(r)))\n",
    "    phi_end = 90 - math.degrees(math.asin(hend / float(r)))\n",
    "    phi_step = abs(phi_init - phi_end) / float(vsteps)\n",
    "    range_phi = range_float(phi_init, phi_end, phi_step)\n",
    "    range_phi = range_phi[:vsteps]\n",
    "    theta_step = 360 / float(hsteps)\n",
    "    range_theta = range_float(0, 360, theta_step)\n",
    "    range_theta = range_theta[:hsteps]\n",
    "    l_coord = list()\n",
    "    for phi in range_phi:\n",
    "        for theta in range_theta:\n",
    "            # Parameterization of a sphere [1].\n",
    "            #\n",
    "            # [1] Carmen, M. (2007). Parametrizaciones. Retrieved from\n",
    "            # http://www.dm.uba.ar/materias/complementos_analisis_Mae/2007/2/parametrizaciones.pdf\n",
    "            x = r * math.cos(math.radians(theta)) * math.sin(math.radians(phi))\n",
    "            y = r * math.sin(math.radians(theta)) * math.sin(math.radians(phi))\n",
    "            z = r * math.cos(math.radians(phi))\n",
    "            rotx = phi + daltitude\n",
    "            roty = 0\n",
    "            rotz = theta + dphase\n",
    "            l_coord.append(((x, y, z), (rotx, roty, rotz)))\n",
    "    return l_coord"
   ]
  }
 ],
 "metadata": {
  "anaconda-cloud": {},
  "kernelspec": {
   "display_name": "Blender",
   "language": "python",
   "name": "blender"
  },
  "language_info": {
   "codemirror_mode": {
    "name": "ipython",
    "version": 3
   },
   "file_extension": ".py",
   "mimetype": "text/x-python",
   "name": "python",
   "nbconvert_exporter": "python",
   "pygments_lexer": "ipython3",
   "version": "3.5.2"
  }
 },
 "nbformat": 4,
 "nbformat_minor": 0
}
