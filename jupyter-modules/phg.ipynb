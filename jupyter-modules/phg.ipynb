{
 "cells": [
  {
   "cell_type": "code",
   "execution_count": null,
   "metadata": {
    "collapsed": true
   },
   "outputs": [],
   "source": [
    "__autor__ = \"Felipe Alejandro Pizarro Márquez\"\n",
    "__credits__ = [\"Felipe Alejandro Pizarro Márquez\",]\n",
    "__email__ = \"fpizarro92@live.cl\"\n",
    "__status__ = \"Development\""
   ]
  },
  {
   "cell_type": "markdown",
   "metadata": {},
   "source": [
    "## Import image set and call external sofware for photogrammetry\n",
    "\n",
    "This process take a set of images and create a fully-textured 3D mesh using photogrammetry. To accomplish this, first it generate a dense cloud point with the image set using [openMVG](https://github.com/openMVG/openMVG) . Then, it uses [openMVS](https://github.com/cdcseacave/openMVS) to generate a fully-textured 3D mesh. "
   ]
  },
  {
   "cell_type": "code",
   "execution_count": null,
   "metadata": {
    "collapsed": true
   },
   "outputs": [],
   "source": [
    "import os\n",
    "import subprocess\n",
    "from tkinter import *\n",
    "from tkinter import filedialog"
   ]
  },
  {
   "cell_type": "code",
   "execution_count": null,
   "metadata": {
    "collapsed": false
   },
   "outputs": [],
   "source": [
    "def create_3dmodel(project_name = \"default_project\",**kwargs):\n",
    "    \"\"\"     \n",
    "    Arguments:\n",
    "        project_name: The name of the project\n",
    "    \n",
    "    Optional Arguments:\n",
    "        input_path:  It's the folder where the original images are stored.\n",
    "        output_path: It's the absolute path of the output folder.\n",
    "    \"\"\" \n",
    "    s3path = kwargs.pop('s3path',os.path.join(os.path.expanduser('~'),'super-scanner-software-s3'))\n",
    "    input_path = kwargs.pop('input_path', False)\n",
    "    output_path = kwargs.pop('output_path', False)\n",
    "    sample_path = os.path.join(s3path,\"img\",\"photog\")\n",
    "    out_path = os.path.join(os.path.expanduser('~'),'s3-out')\n",
    "    \n",
    "    if (input_path is False):\n",
    "        input_path = select_folder(initialdir=sample_path,title = \"Select input image data folder.\")\n",
    "        \n",
    "    assert len(input_path) is not 0,\"no input folder selected.\"\n",
    "    \n",
    "    if (output_path is False):    \n",
    "        mkdir_ine(out_path)\n",
    "        output_path = select_folder(initialdir=out_path,title = \"Select output folder.\")\n",
    "    \n",
    "    assert len(output_path) is not 0,\"no output folder selected.\" \n",
    "    \n",
    "    project_path = os.path.join(output_path,project_name)\n",
    "    \n",
    "    print(\"Input image path: %s\" %input_path)\n",
    "    print(\"Project path: %s\"  %project_path)\n",
    "    \n",
    "    if os.path.isdir(project_path):\n",
    "        print(\"The project with the name %s already exist\" % project_name)\n",
    "        return project_path\n",
    "        \n",
    "    mvgmvspipeline = os.path.join(s3path, \"scripts\", \"mvgmvspipeline.py\")\n",
    "    #call the python script pipeline to use openmvg and openmvs with custom parameters \n",
    "    subprocess.call(['python3',mvgmvspipeline,input_path,project_path,\"--1\",\"m\",\"AKAZE_FLOAT\",\"p\",\"HIGH\",\"--2\",\"f\",\"1\",\"r\",\"0.7\"])\n",
    "       \n",
    "    return project_path   "
   ]
  },
  {
   "cell_type": "code",
   "execution_count": null,
   "metadata": {
    "collapsed": true
   },
   "outputs": [],
   "source": [
    "def get_3dmodel(**kwargs):\n",
    "    \"\"\"\n",
    "    Optional Arguments:\n",
    "        editor:       It's the object's editor. Currently only MESHLAB.\n",
    "        project_path: It's project path.  \n",
    "    \"\"\"    \n",
    "    out_path = os.path.join(os.path.expanduser('~'),'s3-out')    \n",
    "    project_path = kwargs.pop('project_path', False)\n",
    "    if (project_path is False):   \n",
    "        mkdir_ine(out_path)\n",
    "        project_path = select_folder(initialdir=out_path,title = \"Select project folder.\")\n",
    "    \n",
    "    assert len(project_path) is not 0,\"no project folder selected\"    \n",
    "\n",
    "    obj = os.path.join(project_path, \"mvs\",\"scene_dense_mesh_refine_texture.ply\")\n",
    "    print(\"Project path: %s\"  % project_path)\n",
    "    assert os.path.isfile(obj) is True, \"incorrect project folder\"    \n",
    "    \n",
    "    #Check if the selected editor exist\n",
    "    editor_switcher = {\"MESHLAB\": \"meshlab\"}\n",
    "    editor = editor_switcher.get(kwargs.pop('editor', 'MESHLAB'),False)        \n",
    "    assert editor != False,\"incorrect editor\"\n",
    "        \n",
    "    if editor is \"meshlab\":\n",
    "    #Use meshlab to edit the mesh        \n",
    "        subprocess.Popen([editor,obj])"
   ]
  },
  {
   "cell_type": "code",
   "execution_count": null,
   "metadata": {
    "collapsed": true
   },
   "outputs": [],
   "source": [
    "def import_3dmodel(**kwargs):\n",
    "    \"\"\"\n",
    "    Import any standford (.ply) mesh from any path.\n",
    "\n",
    "    Optional Arguments:\n",
    "        object_path:  The mesh to import.\n",
    "        editor:       It's the object's editor. Currently only MESHLAB.\n",
    "    \"\"\"  \n",
    "    out_path = os.path.join(os.path.expanduser('~'),'s3-out')    \n",
    "    object_path = kwargs.pop('object_path', False)\n",
    "    \n",
    "    if (object_path is False):\n",
    "        mkdir_ine(out_path) \n",
    "        object_path = select_object(initialdir=out_path,title = \"Select Standford file.\",filetypes = [('Standford', '.ply')])\n",
    "    assert len(object_path) is not 0,\"no standford object selected\"  \n",
    "    \n",
    "    #Check if the selected editor exist\n",
    "    editor_switcher = {\"MESHLAB\": \"meshlab\"}\n",
    "    editor = editor_switcher.get(kwargs.pop('editor', 'MESHLAB'),False)        \n",
    "    assert editor != False,\"incorrect editor\"\n",
    "                \n",
    "    if editor is \"meshlab\":\n",
    "    #Use meshlab to edit the mesh        \n",
    "        subprocess.Popen([editor,object_path])"
   ]
  },
  {
   "cell_type": "code",
   "execution_count": null,
   "metadata": {
    "collapsed": true
   },
   "outputs": [],
   "source": [
    "def mkdir_ine(dirname):\n",
    "    \"\"\"Create the folder if not presents\"\"\"\n",
    "    if not os.path.exists(dirname):\n",
    "        os.makedirs(dirname)"
   ]
  },
  {
   "cell_type": "code",
   "execution_count": null,
   "metadata": {
    "collapsed": true
   },
   "outputs": [],
   "source": [
    "def select_folder(**kwargs):\n",
    "    \"\"\"\n",
    "    Return a folder path selected from tkinter askdirectory\n",
    "    Optional Arguments:\n",
    "        initial_dir:  It's where to start looking for a folder\n",
    "        title:        The title of the windows screen\n",
    "    \"\"\"\n",
    "    initialdir = kwargs.pop('initialdir', os.path.expanduser('~'))\n",
    "    title = kwargs.pop('title', 'Please choose a directory, then press OK.')\n",
    "    root = Tk()\n",
    "    root.attributes(\"-topmost\", True)\n",
    "    root.withdraw()\n",
    "    return filedialog.askdirectory(initialdir=initialdir, parent=root,title = title,mustexist = True)"
   ]
  },
  {
   "cell_type": "code",
   "execution_count": null,
   "metadata": {
    "collapsed": true
   },
   "outputs": [],
   "source": [
    "def select_object(**kwargs):\n",
    "    \"\"\"\n",
    "    Return a object_path selected from tkinter askopenfilename\n",
    "    Optional Arguments:\n",
    "        initial_dir:  It's where to start looking for an object\n",
    "        title:        The title of the windows screen\n",
    "        filetypes:    The filetype of the object\n",
    "    \"\"\"\n",
    "    initialdir = kwargs.pop('initialdir', os.path.expanduser('~'))\n",
    "    title = kwargs.pop('title', 'Please choose a file, then press OK.')\n",
    "    filetypes = kwargs.pop('filetypes', [('all files', '.*')])\n",
    "    root = Tk()\n",
    "    root.attributes(\"-topmost\", True)\n",
    "    root.withdraw()\n",
    "    return filedialog.askopenfilename(initialdir=initialdir,title = title,filetypes = filetypes)"
   ]
  }
 ],
 "metadata": {
  "kernelspec": {
   "display_name": "Python 3",
   "language": "python",
   "name": "python3"
  },
  "language_info": {
   "codemirror_mode": {
    "name": "ipython",
    "version": 3
   },
   "file_extension": ".py",
   "mimetype": "text/x-python",
   "name": "python",
   "nbconvert_exporter": "python",
   "pygments_lexer": "ipython3",
   "version": "3.5.2"
  }
 },
 "nbformat": 4,
 "nbformat_minor": 1
}
