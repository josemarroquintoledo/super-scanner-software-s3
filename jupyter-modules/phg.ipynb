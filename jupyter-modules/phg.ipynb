{
 "cells": [
  {
   "cell_type": "code",
   "execution_count": null,
   "metadata": {
    "collapsed": true
   },
   "outputs": [],
   "source": [
    "__autor__ = \"Felipe Alejandro Pizarro Márquez\"\n",
    "__credits__ = [\"Felipe Alejandro Pizarro Márquez\",]\n",
    "__email__ = \"fpizarro92@live.cl\"\n",
    "__status__ = \"Development\""
   ]
  },
  {
   "cell_type": "markdown",
   "metadata": {},
   "source": [
    "## Import image set and call external sofware for photogrammetry\n",
    "\n",
    "This process take a set of images and create a fully-textured 3D mesh using photogrammetry. To accomplish this, first it generate a dense cloud point with the image set using [openMVG](https://github.com/openMVG/openMVG) . Then, it uses [openMVS](https://github.com/cdcseacave/openMVS) to generate a fully-textured 3D mesh. "
   ]
  },
  {
   "cell_type": "code",
   "execution_count": null,
   "metadata": {
    "collapsed": false
   },
   "outputs": [],
   "source": [
    "import os\n",
    "import subprocess\n",
    "import shutil\n",
    "import PIL.Image\n",
    "import blendjupyter as blendj\n",
    "import fwdimaging as fwd\n",
    "from tkinter import *\n",
    "from tkinter import filedialog"
   ]
  },
  {
   "cell_type": "code",
   "execution_count": null,
   "metadata": {
    "collapsed": false
   },
   "outputs": [],
   "source": [
    "def create_3dmodel(**kwargs):\n",
    "    \"\"\"     \n",
    "    Optional Arguments:\n",
    "        outdirname: The name of the project\n",
    "        inpath:  It's the folder where the original images are stored.\n",
    "        outpath: It's the absolute path of the output folder.\n",
    "        scale:\n",
    "        reslevel:\n",
    "        gray:\n",
    "    \"\"\" \n",
    "    reslevel = kwargs.pop('reslevel', 0)\n",
    "    scale = kwargs.pop('scale', 1)\n",
    "    gray = kwargs.pop('gray', False)\n",
    "    sample = kwargs.pop('sample', False)     \n",
    "    s3path = kwargs.pop('s3path',os.path.join(os.path.expanduser('~'),\n",
    "                                              'super-scanner-software-s3'))   \n",
    "    inpath = kwargs.pop('inpath',os.path.join(os.path.expanduser('~'),\n",
    "                                              's3-out','scanner',\n",
    "                                              'blend-phg-set-0001'))    \n",
    "    outdirname = kwargs.pop('outdirname', \n",
    "                            os.path.join(inpath,'phg-model-0001'))  \n",
    "    samplepath = os.path.join(s3path,\"img\",\"photog\")\n",
    "    # Sample project, if sample is true,   \n",
    "    # the program uses artemis-statue as inpath\n",
    "    if sample is True:\n",
    "        inpath = os.path.join(samplepath,'artemis-statue')  \n",
    "        outdirname = os.path.join(os.path.expanduser('~'),\n",
    "                                  's3-out','scanner',\n",
    "                                  'artemis-statue-example',\n",
    "                                  'phg-model-0001')                \n",
    "    outpath = kwargs.pop('outpath',\n",
    "                         fwd.find_out_dir(dirname=outdirname,\n",
    "                                          parentdir='scanner')) \n",
    "    imgpath = os.path.join(outpath,\"res-images\")\n",
    "    print(\"Input image path: %s\" %inpath)\n",
    "    print(\"Output path: %s\"  %outpath)     \n",
    "    #copy and scale the images to the project path\n",
    "    if scale >= 1:\n",
    "        man_input_img(inpath,imgpath,gray = gray)\n",
    "    else:\n",
    "        man_input_img(inpath,imgpath,\n",
    "                      gray = gray, scale = scale)    \n",
    "    mvgmvspipeline = os.path.join(s3path,\n",
    "                                  \"scripts\",\n",
    "                                  \"mvgmvspipeline.py\")    \n",
    "    #call the python script pipeline to use openmvg\n",
    "    #and openmvs with custom parameters \n",
    "    subprocess.call(['python3',mvgmvspipeline,\n",
    "                     imgpath,outpath,\n",
    "                     \"--1\",\"m\",\"AKAZE_FLOAT\",\"p\",\"HIGH\",\n",
    "                     \"--2\",\"f\",\"1\",\"r\",\"0.7\",\n",
    "                     \"--8\",\"resolution-level\",str(reslevel),\n",
    "                     \"--10\",\"resolution-level\",str(reslevel),\n",
    "                     \"--11\",\"resolution-level\",str(reslevel)])     \n",
    "    return outpath   "
   ]
  },
  {
   "cell_type": "code",
   "execution_count": null,
   "metadata": {
    "collapsed": true
   },
   "outputs": [],
   "source": [
    "def get_3dmodel(**kwargs):\n",
    "    \"\"\"\n",
    "    Optional Arguments:\n",
    "        editor: It's the object's editor. Currently only MESHLAB.\n",
    "        mesh = textured or model, default is textured\n",
    "        projpath: It's project path.  \n",
    "    \"\"\"    \n",
    "    #Check if the selected editor exist\n",
    "    editor = kwargs.pop('editor','meshlab')\n",
    "    editor_switcher = {\"meshlab\": \"meshlab\"}\n",
    "    editor = editor_switcher.get(editor.lower(),False)       \n",
    "    assert editor != False,\"incorrect editor\"\n",
    "    #Check the mesh type\n",
    "    mesh = kwargs.pop('mesh','textured')\n",
    "    mesh_switcher = {\"textured\": \"textured\",\"model\":\"model\"}\n",
    "    mesh = mesh_switcher.get(mesh.lower(),False)       \n",
    "    assert editor != False,\"incorrect editor\"    \n",
    "    #The project path\n",
    "    projpath = kwargs.pop('projpath', False)\n",
    "    outpath = os.path.join(os.path.expanduser('~'),'s3-out')\n",
    "    #Check if the project exist\n",
    "    if (projpath is False):   \n",
    "        mkdir_ine(outpath)\n",
    "        projpath = select_folder(initialdir=outpath,\n",
    "                                     title = \"Select project folder.\")\n",
    "    assert len(projpath) is not 0,\"no project folder selected\"    \n",
    "    print(\"Project path: %s\"  % projpath)\n",
    "    if mesh is \"model\":\n",
    "        obj = os.path.join(projpath, \"mvs\",\n",
    "                           \"scene_dense_mesh_refine.ply\")\n",
    "    if mesh is \"textured\":\n",
    "        obj = os.path.join(projpath, \"mvs\",\n",
    "                           \"scene_dense_mesh_refine_texture.ply\")\n",
    "    assert os.path.isfile(obj) is True, \"incorrect project\"     \n",
    "    if editor is \"meshlab\":\n",
    "    #Use meshlab to edit the mesh        \n",
    "        subprocess.Popen([editor,obj])"
   ]
  },
  {
   "cell_type": "code",
   "execution_count": null,
   "metadata": {
    "collapsed": true
   },
   "outputs": [],
   "source": [
    "def mkdir_ine(dirname):\n",
    "    \"\"\"Create the folder if not presents\"\"\"\n",
    "    if not os.path.exists(dirname):\n",
    "        os.makedirs(dirname)"
   ]
  },
  {
   "cell_type": "code",
   "execution_count": null,
   "metadata": {
    "collapsed": true
   },
   "outputs": [],
   "source": [
    "def select_folder(**kwargs):\n",
    "    \"\"\"\n",
    "    Return a folder path selected from tkinter askdirectory\n",
    "    Optional Arguments:\n",
    "        initial_dir:  It's where to start looking for a folder\n",
    "        title:        The title of the windows screen\n",
    "    \"\"\"\n",
    "    initialdir = kwargs.pop('initialdir', os.path.expanduser('~'))\n",
    "    title = kwargs.pop('title',\n",
    "                       'Please choose a directory, then press OK.')\n",
    "    root = Tk()\n",
    "    root.attributes(\"-topmost\", True)\n",
    "    root.withdraw()\n",
    "    return filedialog.askdirectory(initialdir=initialdir,\n",
    "                                   parent=root,title = title,\n",
    "                                   mustexist = True)"
   ]
  },
  {
   "cell_type": "code",
   "execution_count": null,
   "metadata": {
    "collapsed": true
   },
   "outputs": [],
   "source": [
    "def man_input_img(input_path,output_path,**kwargs):\n",
    "    \"\"\"\n",
    "    Manages the input image path\n",
    "    \"\"\"\n",
    "    scale = kwargs.pop('scale', 1)\n",
    "    gray = kwargs.pop('gray', False)\n",
    "    exts = ('.jpg', '.JPG')\n",
    "    os.makedirs(output_path) \n",
    "    for file in os.listdir(input_path):\n",
    "        if os.path.isfile(os.path.join(input_path, file)):\n",
    "            if any(file.lower().endswith(ext) for ext in exts):\n",
    "                shutil.copy2(os.path.join(input_path, file),\n",
    "                             os.path.join(output_path,file))\n",
    "                if scale != 1 or gray == True:\n",
    "                    resize_image(os.path.join(output_path,file),\n",
    "                                 scale, gray = gray)\n",
    "                    blendj.copy_exif(os.path.join(output_path,file),\n",
    "                                     os.path.join(input_path, file))"
   ]
  },
  {
   "cell_type": "code",
   "execution_count": null,
   "metadata": {
    "collapsed": true
   },
   "outputs": [],
   "source": [
    "def resize_image(img_path, s_factor,**kwargs):\n",
    "    \"\"\"\n",
    "    Scales the images size with a s_factor and apply grayscale\n",
    "    \"\"\"    \n",
    "    gray = kwargs.pop('gray', False)\n",
    "    image = open(img_path, \"rb\")\n",
    "    if gray is True:\n",
    "        img = PIL.Image.open(image).convert('L')\n",
    "    else:\n",
    "        img = PIL.Image.open(image)\n",
    "    img = img.resize([int(s_factor * s) for s in img.size],\n",
    "                     PIL.Image.ANTIALIAS)\n",
    "    img = img.convert('RGB')\n",
    "    img.save(img_path) \n",
    "    image.close()"
   ]
  }
 ],
 "metadata": {
  "kernelspec": {
   "display_name": "Blender env",
   "language": "python",
   "name": "blender"
  },
  "language_info": {
   "codemirror_mode": {
    "name": "ipython",
    "version": 3
   },
   "file_extension": ".py",
   "mimetype": "text/x-python",
   "name": "python",
   "nbconvert_exporter": "python",
   "pygments_lexer": "ipython3",
   "version": "3.5.2"
  }
 },
 "nbformat": 4,
 "nbformat_minor": 1
}
