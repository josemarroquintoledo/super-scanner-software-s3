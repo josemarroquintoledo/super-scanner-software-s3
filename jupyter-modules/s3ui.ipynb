{
 "cells": [
  {
   "cell_type": "markdown",
   "metadata": {},
   "source": [
    "# Super Scanner Software UI Module\n",
    "\n",
    "This module was written to set up a simple user interface **(UI)** with **ipywidgets**."
   ]
  },
  {
   "cell_type": "code",
   "execution_count": null,
   "metadata": {
    "collapsed": false
   },
   "outputs": [],
   "source": [
    "import tkinter as tk\n",
    "from tkinter import filedialog \n",
    "from ipywidgets import *\n",
    "from IPython.display import display\n",
    "import phaseretrieval as phr\n",
    "import fwdimaging as fwd\n",
    "import phg\n",
    "import phgbpy"
   ]
  },
  {
   "cell_type": "code",
   "execution_count": null,
   "metadata": {
    "collapsed": true
   },
   "outputs": [],
   "source": [
    "def select_folder(**kwargs):\n",
    "    \"\"\"\n",
    "    Select a folder path with tkinter\n",
    "    \"\"\"\n",
    "    initialdir = kwargs.pop('initialdir', \n",
    "                            os.path.expanduser(\"~\"))\n",
    "    title = kwargs.pop('title', \n",
    "                       'Please choose a directory,then press OK.')\n",
    "    if kwargs:\n",
    "        raise TypeError('{!s}() got an unexpected keyword argument {!r}'.format(select_folder.__name__,\n",
    "                  list(kwargs.keys())[-1]))     \n",
    "    root = tk.Tk()\n",
    "    root.attributes(\"-topmost\", True)\n",
    "    root.withdraw()\n",
    "    return filedialog.askdirectory(initialdir=initialdir,\n",
    "                                   parent=root,title = title, mustexist = True)"
   ]
  },
  {
   "cell_type": "code",
   "execution_count": null,
   "metadata": {
    "collapsed": true
   },
   "outputs": [],
   "source": [
    "def select_file(**kwargs):\n",
    "    \"\"\"\n",
    "    Select a file path with tkinter\n",
    "    \"\"\"    \n",
    "    initialdir = kwargs.pop('initialdir', \n",
    "                            os.path.expanduser(\"~\"))\n",
    "    filetypes = kwargs.pop('filetypes', [('all files', '.*')]) \n",
    "    title = kwargs.pop('title', \n",
    "                       'Please choose a file,then press OK.')\n",
    "    if kwargs:\n",
    "        raise TypeError('{!s}() got an unexpected keyword argument {!r}'.format(select_file.__name__,\n",
    "                  list(kwargs.keys())[-1]))       \n",
    "    root = tk.Tk()\n",
    "    root.attributes(\"-topmost\", True)\n",
    "    root.withdraw()\n",
    "    return filedialog.askopenfilename(initialdir=initialdir,\n",
    "                                   parent=root,title = title, filetypes = filetypes)"
   ]
  },
  {
   "cell_type": "markdown",
   "metadata": {},
   "source": [
    "### Simulation"
   ]
  },
  {
   "cell_type": "code",
   "execution_count": null,
   "metadata": {
    "collapsed": true
   },
   "outputs": [],
   "source": [
    "def toggle_button(btn, val):\n",
    "    \"\"\"\n",
    "    Enable a button when val is true and disable it if val is false\n",
    "    \"\"\"\n",
    "    if val is True:\n",
    "        btn.disabled = False\n",
    "        btn.button_style = 'success'\n",
    "    else:\n",
    "        btn.disabled = True\n",
    "        btn.button_style = 'danger'"
   ]
  },
  {
   "cell_type": "code",
   "execution_count": null,
   "metadata": {
    "collapsed": true
   },
   "outputs": [],
   "source": [
    "def get_dir(path,btn,**kwargs):\n",
    "    filetypes = kwargs.pop('filetypes',[('all files', '.*')])\n",
    "    file = kwargs.pop('file','PATH')\n",
    "    toggle_button(btn,False) \n",
    "    if file.lower() == \"path\":\n",
    "        obj = select_folder()\n",
    "    elif file.lower() == \"file\":\n",
    "        obj = select_file(filetypes = filetypes)\n",
    "    if isinstance(obj, str):\n",
    "        path.value = obj\n",
    "        toggle_button(btn,True)\n",
    "    else: \n",
    "        path.value = ''\n",
    "        toggle_button(btn,True)        \n",
    "        btn.button_style = 'warning'"
   ]
  },
  {
   "cell_type": "code",
   "execution_count": null,
   "metadata": {
    "collapsed": false
   },
   "outputs": [],
   "source": [
    "def sim_form(width=100):\n",
    "    path = Text(value='', placeholder='*.blend', \n",
    "                disabled=True)\n",
    "    path.layout.width = '50%'\n",
    "    btn1 = Button(description='Get blend archive', button_style='warning')\n",
    "    getpathbox = HBox([path,btn1]) \n",
    "    movetype = RadioButtons(options=['Cam', 'Object', 'Spiral'])\n",
    "    movetypebox = VBox([Label('Movement Type:'), movetype])\n",
    "    xysteps = IntSlider(min=8, max=16, value=14, \n",
    "                        continuous_update=False)\n",
    "    xysteps.layout.width='30%'\n",
    "    xystepbox = VBox([Label('X-Y Steps:'), xysteps])\n",
    "    zsteps = IntSlider(min=1, max=4, value=3, \n",
    "                       continuous_update=False)\n",
    "    zsteps.layout.width='30%'    \n",
    "    zstepsbox = VBox([Label('Z Steps:'),zsteps])\n",
    "    zangles = IntRangeSlider(value=[0, 90],min=20,max=40,step=1, continuous_update=False)\n",
    "    zanglesbox = VBox([Label('Z-Angles:'),zangles])\n",
    "    scale = IntSlider(min=35, max=100, value=100, \n",
    "                      continuous_update=False)\n",
    "    scale.layout.width='50%'\n",
    "    scalebox = VBox([Label('Image Scaling Factor:'), scale])\n",
    "    width = BoundedIntText(value=2560, min=800,max=10000,step=1, description='Width:')\n",
    "    width.width = '20%'\n",
    "    height = BoundedIntText(value=1920, min=600,max=10000,step=1, description='Height:')\n",
    "    height.width = '20%'\n",
    "    resolution = HBox([Label(\"Resolution: \"),width,height])\n",
    "    ssproj = Checkbox(value = False)\n",
    "    projectbox = VBox([Label('Simulated Project:'), ssproj])\n",
    "    btn2 = Button(description='Begin Process', button_style='success')\n",
    "    cont1 = Box([getpathbox,movetypebox,xystepbox,zstepsbox,zanglesbox,resolution,scalebox,projectbox,btn2])    \n",
    "    cont = [cont1]\n",
    "    accord = Accordion(children=cont, width=width)\n",
    "    accord.set_title(0, 'Simulated Set Parameters')\n",
    "    #Button references\n",
    "    btn1.on_click(lambda btn: get_dir(path,btn,file = \"FILE\",filetypes = [('blend files', '.blend')]))\n",
    "    btn2.on_click(lambda btn: sim_process(path,movetype,xysteps,zsteps,zangles,[width,height],scale,ssproj,btn))\n",
    "    return accord"
   ]
  },
  {
   "cell_type": "code",
   "execution_count": null,
   "metadata": {
    "collapsed": true
   },
   "outputs": [],
   "source": [
    "def sim_process(path,movetype,xysteps,zsteps,zangles,size,scale,ssproj,btn):\n",
    "    if (movetype.value.lower() == 'spiral') or  (movetype.value.lower() == 'object'):\n",
    "        camloc=(2, 0, 9)\n",
    "    if (movetype.value.lower() == 'cam'):\n",
    "        camloc=(0, 0, 3)\n",
    "    if ssproj.value is True:\n",
    "        gray = True\n",
    "    else:\n",
    "        gray = False\n",
    "    toggle_button(btn,False)\n",
    "    phgbpy.take_phg_photos(movetype= movetype.value, z0angle=zangles.value[0],fileroute = path.value,\n",
    "                           zeangle=zangles.value[1], xysteps=xysteps.value, zsteps = zsteps.value,\n",
    "                           scale = scale.value/100, size = [size[0].value,size[1].value], \n",
    "                           ssproj = ssproj.value,gray = gray, camloc0=camloc)\n",
    "    toggle_button(btn,True)"
   ]
  },
  {
   "cell_type": "markdown",
   "metadata": {},
   "source": [
    "### Reconstruction"
   ]
  },
  {
   "cell_type": "code",
   "execution_count": 1,
   "metadata": {
    "collapsed": true
   },
   "outputs": [],
   "source": [
    "def rec_form(width=100,form = \"SINGLE\"):    \n",
    "    path = Text(value='', disabled=True)\n",
    "    path.layout.width = '50%'\n",
    "    btn1 = Button()    \n",
    "    getpathbox = HBox([path,btn1])\n",
    "    dist = IntSlider(value=4,min=2,max=5,step=1, \n",
    "                       continuous_update=False)\n",
    "    distbox = VBox([Label(\"Led Distance\"),dist])\n",
    "    intbox = VBox([IntSlider(value=12,min=1,max=40,step=1,\n",
    "                             continuous_update=False),IntSlider(value=18,min=1,max=40,step=1,\n",
    "                             continuous_update=False),IntSlider(value=36,min=1,max=40,step=1,\n",
    "                             continuous_update=False)])\n",
    "    for islider in intbox.children:\n",
    "        islider.layout.visibility = 'hidden' \n",
    "    gridtype = RadioButtons(options=['Grid', 'Ring'],description=\"Led\")  \n",
    "    gridtypebox = VBox([Label('Led Placement:'), \n",
    "                        interactive(led_switcher,led = gridtype,intbox = fixed(intbox))]) \n",
    "    btn2 = Button(description='Begin Process', button_style='success')\n",
    "    cont1 = Box([getpathbox,distbox,gridtypebox,intbox,btn2])\n",
    "    cont = [cont1]\n",
    "    accord = Accordion(children=cont, width=width)\n",
    "    accord.set_title(0, 'Reconstruction Parameters')\n",
    "    if form.lower() == \"single\":\n",
    "        path.placeholder = \"Image path\"\n",
    "        btn1.description = \"Image\"\n",
    "        btn1.button_style='warning'\n",
    "        btn1.on_click(lambda btn: get_dir(path,btn,file = \"FILE\",filetypes = [('jpg files', '.jpg'),('all files', '.*')]))\n",
    "        btn2.on_click(lambda btn: rec_s_process(path,dist,gridtype,intbox,btn))\n",
    "    if form.lower() == \"project\":\n",
    "        path.placeholder = \"Get Fourier Project\"\n",
    "        btn1.description = \"Get project\"\n",
    "        btn1.button_style='warning'\n",
    "        btn1.on_click(lambda btn: get_dir(path,btn,file = \"PATH\"))\n",
    "        btn2.on_click(lambda btn: rec_process(path,dist,gridtype,intbox,btn))               \n",
    "    return accord"
   ]
  },
  {
   "cell_type": "code",
   "execution_count": null,
   "metadata": {
    "collapsed": true
   },
   "outputs": [],
   "source": [
    "def led_switcher(led,intbox):\n",
    "    for islider in intbox.children:\n",
    "        islider.layout.visibility = 'hidden' \n",
    "    if led.lower() == \"ring\":\n",
    "        for i,islider in enumerate(intbox.children):\n",
    "            islider.description = str(i + 1) + ' Step'\n",
    "            islider.layout.visibility = 'visible'  \n",
    "    if led.lower() == \"grid\":\n",
    "        intbox.children[0].description = 'Grid'\n",
    "        intbox.children[0].layout.visibility = \"visible\"         \n",
    "    return "
   ]
  },
  {
   "cell_type": "code",
   "execution_count": null,
   "metadata": {
    "collapsed": true
   },
   "outputs": [],
   "source": [
    "def rec_process(path,dist,gridtype,intbox,btn):\n",
    "    leds = list()\n",
    "    for islider in intbox.children:\n",
    "        leds.append(islider.value)\n",
    "    toggle_button(btn, False)\n",
    "    if gridtype.value.lower() == 'ring':\n",
    "        phr.simulate_fp_proj(path.value, leds, dleds=dist.value)\n",
    "    elif gridtype.value.lower() == 'grid':\n",
    "        phr.simulate_fp_proj(path.value, leds[0], dleds=dist.value)\n",
    "    toggle_button(btn, True)   "
   ]
  },
  {
   "cell_type": "code",
   "execution_count": null,
   "metadata": {
    "collapsed": true
   },
   "outputs": [],
   "source": [
    "def rec_s_process(path,dist,gridtype,intbox,btn):\n",
    "    leds = list()\n",
    "    for islider in intbox.children:\n",
    "        leds.append(islider.value)\n",
    "    toggle_button(btn, False)\n",
    "    bw_img_path = phg.conv_bw_PIL(path.value)\n",
    "    if gridtype.value.lower() == 'ring':\n",
    "        _, ring_set_path = fwd.simulate_set(leds=leds, d=dist.value,\n",
    "                       amplitude=bw_img_path)\n",
    "        phr.get_photo(leds=leds, d=dist.value,\n",
    "              inpath=ring_set_path,\n",
    "              show=True)\n",
    "    elif gridtype.value.lower() == 'grid':\n",
    "        _, grid_set_path = fwd.simulate_set(leds=leds[0], d=dist.value,\n",
    "                       amplitude=bw_img_path)\n",
    "        phr.get_photo(leds=leds[0], d=dist.value,\n",
    "              inpath=grid_set_path,\n",
    "              show=True)\n",
    "    toggle_button(btn, True)       "
   ]
  },
  {
   "cell_type": "markdown",
   "metadata": {},
   "source": [
    "### Photogrammetry"
   ]
  },
  {
   "cell_type": "code",
   "execution_count": null,
   "metadata": {
    "collapsed": true
   },
   "outputs": [],
   "source": [
    "def phg_form(width=100):\n",
    "    \"\"\"\n",
    "    A simple UI interface form in accordion style\n",
    "    \"\"\"    \n",
    "    #Step 1 parameters\n",
    "    path = Text(value='', placeholder='Image Set Path', \n",
    "                disabled=True)\n",
    "    path.layout.width = '50%'\n",
    "    btn1 = Button(description='Get Image Set', button_style='warning')\n",
    "    getpathbox = HBox([path,btn1]) \n",
    "    scale = IntSlider(min=35, max=100, value=100, \n",
    "                      continuous_update=False)\n",
    "    scale.layout.width='50%'\n",
    "    scalebox = VBox([Label('Image Scaling Factor:'), scale])\n",
    "    reslevel = IntSlider(min=0, max=4, value=1, \n",
    "                         continuous_update=False)\n",
    "    reslevel.layout.width='20%'\n",
    "    reslevelbox = VBox([Label('Resolution Level:'), reslevel])\n",
    "    bw = Checkbox()\n",
    "    bwbox = VBox([Label('Use Gray-Scale images:'), bw])\n",
    "    sample = Checkbox(value = False)\n",
    "    samplebox = VBox([Label('Use Sample Set:'), sample])\n",
    "    btn2 = Button(description='Begin Process', \n",
    "                 button_style='success')\n",
    "    cont1 = Box([getpathbox, samplebox, \n",
    "                         scalebox, reslevelbox, \n",
    "                         bwbox, btn2])   \n",
    "    #Step 2 parameters\n",
    "    proj_path = Text(value='', placeholder='Project Path', \n",
    "                disabled=True)\n",
    "    rmodel = RadioButtons(options=['Textured', 'Model'], \n",
    "                          description='Mesh:')\n",
    "    btn3 = Button(description=\"Get 3D Model\", \n",
    "                 button_style='danger', disabled=True) \n",
    "    cont2 = Box(children=[proj_path,rmodel,btn3])\n",
    "    cont = [cont1,cont2]\n",
    "    accord = Accordion(children=cont, width=width)\n",
    "    accord.set_title(0, 'Step 1 - Photogrammetry Parameters')\n",
    "    accord.set_title(1, 'Get 3D Model')\n",
    "    btn1.on_click(lambda btn: get_dir(path,btn,file = \"PATH\"))\n",
    "    btn2.on_click(lambda btn: phg_process(path,sample,scale,reslevel,bw,proj_path,btn,btn3))\n",
    "    btn3.on_click(lambda btn: phg_open(proj_path,rmodel))\n",
    "    return accord"
   ]
  },
  {
   "cell_type": "code",
   "execution_count": null,
   "metadata": {
    "collapsed": true
   },
   "outputs": [],
   "source": [
    "def phg_process(phg_path,sample,scale,reslevel,bw,proj_path,btn,btn1):\n",
    "    toggle_button(btn, False)   \n",
    "    toggle_button(btn1, False)\n",
    "    proj_path.value = phg.create_3d_model(inpath=phg_path.value,\n",
    "                                        sample=sample.value,\n",
    "                                          scale=scale.value/100, \n",
    "                                        bw=bw.value,\n",
    "                                          reslevel=reslevel.value)\n",
    "    toggle_button(btn, True)\n",
    "    toggle_button(btn1, True)       "
   ]
  },
  {
   "cell_type": "code",
   "execution_count": null,
   "metadata": {
    "collapsed": true
   },
   "outputs": [],
   "source": [
    "def phg_open(projpath,mesh):\n",
    "    \"\"\"\n",
    "    Open a 3d model with meshlab\n",
    "    \"\"\"\n",
    "    #Open 3d Model\n",
    "    phg.open_3d_model(projpath.value,\n",
    "                      mesh=mesh.value)"
   ]
  }
 ],
 "metadata": {
  "kernelspec": {
   "display_name": "Blender env",
   "language": "python",
   "name": "blender"
  },
  "language_info": {
   "codemirror_mode": {
    "name": "ipython",
    "version": 3
   },
   "file_extension": ".py",
   "mimetype": "text/x-python",
   "name": "python",
   "nbconvert_exporter": "python",
   "pygments_lexer": "ipython3",
   "version": "3.5.2"
  }
 },
 "nbformat": 4,
 "nbformat_minor": 1
}
