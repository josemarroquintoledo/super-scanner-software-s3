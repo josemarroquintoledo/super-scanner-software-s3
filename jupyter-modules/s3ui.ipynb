{
 "cells": [
  {
   "cell_type": "markdown",
   "metadata": {},
   "source": [
    "# Super Scanner Software UI Module\n",
    "\n",
    "This module was written to set up a simple user interface **(UI)** with **ipywidgets**."
   ]
  },
  {
   "cell_type": "code",
   "execution_count": null,
   "metadata": {
    "collapsed": false
   },
   "outputs": [],
   "source": [
    "from ipywidgets import *\n",
    "from IPython.display import display\n",
    "import phg\n",
    "import phgbpy"
   ]
  },
  {
   "cell_type": "code",
   "execution_count": null,
   "metadata": {
    "collapsed": true
   },
   "outputs": [],
   "source": [
    "def accordion_ui(width=100):\n",
    "    \"\"\"\n",
    "    A simple UI interface in accordion style for a complete simulation\n",
    "    \"\"\"\n",
    "    cont = []\n",
    "    cont.append(step0_ui()) \n",
    "    cont.append(step1_ui()) \n",
    "    cont.append(step2_ui())\n",
    "    cont.append(step3_ui())\n",
    "    accord = Accordion(children=cont, width=width)\n",
    "    accord.set_title(0, 'Step 1 - Blender Simulated Set Parameters')\n",
    "    accord.set_title(1, 'Step 2 - Fourier Reconstruction Parameters')    \n",
    "    accord.set_title(2, 'Step 3 - Photogrammetry Parameters')\n",
    "    accord.set_title(3, 'Get 3D Model')\n",
    "    return accord, cont, cont[2].children[5], cont[3].children[2]"
   ]
  },
  {
   "cell_type": "code",
   "execution_count": null,
   "metadata": {
    "collapsed": true
   },
   "outputs": [],
   "source": [
    "def step0_ui():\n",
    "    movetype = RadioButtons(options=['Cam', 'Object'])\n",
    "    movetypebox = VBox([Label('Movement:'), movetype])\n",
    "    xysteps = IntSlider(min=8, max=16, value=14, \n",
    "                        continuous_update=False)\n",
    "    xysteps.layout.width='30%'\n",
    "    xystepbox = VBox([Label('X-Y Steps:'), xysteps])\n",
    "    zsteps = IntSlider(min=1, max=4, value=3, \n",
    "                       continuous_update=False)\n",
    "    zsteps.layout.width='30%'    \n",
    "    zstepsbox = VBox([Label('Z Steps:'),zsteps])\n",
    "    cont = Box([movetypebox,xystepbox,zstepsbox])\n",
    "    return cont"
   ]
  },
  {
   "cell_type": "code",
   "execution_count": null,
   "metadata": {
    "collapsed": true
   },
   "outputs": [],
   "source": [
    "def step1_ui():\n",
    "    path = Text(value='', placeholder='Fourier Path', disabled=True)\n",
    "    path.layout.width = '50%'\n",
    "    iluminator = RadioButtons(options=['Ring', 'Grid'])\n",
    "    iluminatorbox = VBox([Label('Led Ilumination Style:'), iluminator]) \n",
    "    cont = Box(children=[path, iluminatorbox])\n",
    "    return cont"
   ]
  },
  {
   "cell_type": "code",
   "execution_count": null,
   "metadata": {
    "collapsed": true
   },
   "outputs": [],
   "source": [
    "def step2_ui():\n",
    "    path = Text(value='', placeholder='Photogrammetry Path', \n",
    "                disabled=True)\n",
    "    path.layout.width = '50%'\n",
    "    scale = IntSlider(min=35, max=100, value=100, \n",
    "                      continuous_update=False)\n",
    "    scale.layout.width='50%'\n",
    "    scalebox = VBox([Label('Image Scaling Factor:'), scale])\n",
    "    reslevel = IntSlider(min=1, max=4, value=1, \n",
    "                         continuous_update=False)\n",
    "    reslevel.layout.width='20%'\n",
    "    reslevelbox = VBox([Label('Resolution Level:'), reslevel])\n",
    "    bw = Checkbox()\n",
    "    bwbox = VBox([Label('Use Gray-Scale images:'), bw])\n",
    "    sample = Checkbox(disabled=False)\n",
    "    samplebox = VBox([Label('Use Sample Set:'), sample])\n",
    "    btn = Button(description='Begin Process', \n",
    "                 button_style='success')\n",
    "    cont = Box(children=[path, samplebox, \n",
    "                         scalebox, reslevelbox, \n",
    "                         bwbox, btn])\n",
    "    return cont"
   ]
  },
  {
   "cell_type": "code",
   "execution_count": null,
   "metadata": {
    "collapsed": true
   },
   "outputs": [],
   "source": [
    "def step3_ui():\n",
    "    path = Text(value='', placeholder='Project Path', \n",
    "                disabled=True)\n",
    "    path.layout.width = '50%'\n",
    "    rmodel = RadioButtons(options=['Textured', 'Model'], \n",
    "                          description='Mesh:')\n",
    "    btn = Button(description=\"Get 3D Model\", \n",
    "                 button_style='danger', disabled=True) \n",
    "    cont = Box(children=[path,rmodel,btn])\n",
    "    return cont"
   ]
  },
  {
   "cell_type": "code",
   "execution_count": null,
   "metadata": {
    "collapsed": true
   },
   "outputs": [],
   "source": [
    "def btn1(cont):\n",
    "    #Step 1 parameters    \n",
    "    movetype = cont[0].children[0].children[1]\n",
    "    xysteps = cont[0].children[1].children[1]\n",
    "    zsteps = cont[0].children[2].children[1]\n",
    "    #Step 2 parameters\n",
    "    fp_path = cont[1].children[0]\n",
    "    iluminator = cont[1].children[1].children[1]\n",
    "    #Step 3 parameters\n",
    "    phg_path = cont[2].children[0]\n",
    "    sample = cont[2].children[1].children[1]\n",
    "    scale = cont[2].children[2].children[1]\n",
    "    reslevel = cont[2].children[3].children[1]\n",
    "    bw = cont[2].children[4].children[1]\n",
    "    #Step 4 parameters\n",
    "    proj_path = cont[3].children[0]\n",
    "    btn2 = cont[3].children[2]\n",
    "    fp_path.value = ''\n",
    "    phg_path.value = ''\n",
    "    proj_path.value = ''        \n",
    "    toggle_button(btn2, False)\n",
    "    #The functions goes here!!!\n",
    "    \n",
    "    fp_path.value = phgbpy.take_phg_photos(movetype=movetype.value, \n",
    "                                           z0angle=20,\n",
    "                                  zeangle=60, xysteps=xysteps.value,\n",
    "                                           zsteps=zsteps.value,\n",
    "                                  camloc0=(0, 0, 3),\n",
    "                                           demoss = True)\n",
    "    \n",
    "    #SOLO FALTA ESTO\n",
    "    phg_path.value = ''\n",
    "    \n",
    "    proj_path.value = phg.create_3d_model(inpath=phg_path.value,\n",
    "                                        sample=sample.value,\n",
    "                                          scale=scale.value/100, \n",
    "                                        bw=bw.value,\n",
    "                                          reslevel=reslevel.value)\n",
    "    \n",
    "    #End of the functions!!!\n",
    "    toggle_button(btn2, True)"
   ]
  },
  {
   "cell_type": "code",
   "execution_count": null,
   "metadata": {
    "collapsed": true
   },
   "outputs": [],
   "source": [
    "def btn2(cont):\n",
    "    projpath = cont[3].children[0]    \n",
    "    mesh = cont[3].children[1]\n",
    "    #Open 3d Model\n",
    "    phg.open_3d_model(projpath.value,\n",
    "                      mesh=mesh.value)"
   ]
  },
  {
   "cell_type": "code",
   "execution_count": null,
   "metadata": {
    "collapsed": true
   },
   "outputs": [],
   "source": [
    "def toggle_button(btn, val):\n",
    "    if val is True:\n",
    "        btn.disabled = False\n",
    "        btn.button_style = 'success'\n",
    "    else:\n",
    "        btn.disabled = True\n",
    "        btn.button_style = 'danger'"
   ]
  }
 ],
 "metadata": {
  "kernelspec": {
   "display_name": "Blender env",
   "language": "python",
   "name": "blender"
  },
  "language_info": {
   "codemirror_mode": {
    "name": "ipython",
    "version": 3
   },
   "file_extension": ".py",
   "mimetype": "text/x-python",
   "name": "python",
   "nbconvert_exporter": "python",
   "pygments_lexer": "ipython3",
   "version": "3.5.2"
  }
 },
 "nbformat": 4,
 "nbformat_minor": 1
}
