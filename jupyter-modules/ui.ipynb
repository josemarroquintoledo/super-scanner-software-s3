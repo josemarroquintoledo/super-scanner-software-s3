{
 "cells": [
  {
   "cell_type": "markdown",
   "metadata": {},
   "source": [
    "# UI Beta Module\n",
    "\n",
    "This module was written to set up a simple user interface **(UI)** with **ipywidgets**."
   ]
  },
  {
   "cell_type": "code",
   "execution_count": 1,
   "metadata": {
    "collapsed": true
   },
   "outputs": [],
   "source": [
    "from ipywidgets import *\n",
    "from IPython.display import display\n",
    "import phg"
   ]
  },
  {
   "cell_type": "code",
   "execution_count": 3,
   "metadata": {
    "collapsed": true
   },
   "outputs": [],
   "source": [
    "def accordion_ui(width=100):\n",
    "    \"\"\"\n",
    "    A simple UI interface in accordion style for a complete simulation\n",
    "    \"\"\"\n",
    "    cont = []\n",
    "    cont.append(step1_ui())    \n",
    "    cont.append(step2_ui())\n",
    "    cont.append(step3_ui())\n",
    "    accord = Accordion(children=cont, width=width)\n",
    "    accord.set_title(0, 'Step 1 - Simulate Set Parameters')\n",
    "    accord.set_title(1, 'Step 2 - Photogrammetry Parameters')\n",
    "    accord.set_title(2, 'Get 3D Model')\n",
    "    return accord, cont, cont[1].children[4], cont[2].children[2]"
   ]
  },
  {
   "cell_type": "code",
   "execution_count": null,
   "metadata": {
    "collapsed": true
   },
   "outputs": [],
   "source": [
    "def step1_ui():\n",
    "    movetype = RadioButtons(options=['Cam', 'Object'], description='Move:')\n",
    "    cont = Box([movetype])\n",
    "    return cont"
   ]
  },
  {
   "cell_type": "code",
   "execution_count": null,
   "metadata": {
    "collapsed": true
   },
   "outputs": [],
   "source": [
    "def step2_ui():\n",
    "    scale = IntSlider(min=35, max=100, value=100, continuous_update=False)\n",
    "    scale.layout.width='50%'\n",
    "    scalebox = VBox([Label('Image Scaling Factor:'), scale])\n",
    "    reslevel = IntSlider(min=1, max=4, value=1, continuous_update=False)\n",
    "    reslevel.layout.width='20%'\n",
    "    reslevelbox = VBox([Label('Resolution Level:'),reslevel])\n",
    "    bw = Checkbox()\n",
    "    bwbox = VBox([Label('Use Gray-Scale images:'), bw])\n",
    "    sample = Checkbox(disabled=False)\n",
    "    samplebox = VBox([Label('Use Sample Set:'), sample])\n",
    "    btn = Button(description='Begin Process', button_style='success')\n",
    "    cont = Box(children=[samplebox, scalebox, reslevelbox, bwbox, btn])\n",
    "    return cont"
   ]
  },
  {
   "cell_type": "code",
   "execution_count": 2,
   "metadata": {
    "collapsed": true
   },
   "outputs": [],
   "source": [
    "def step3_ui():\n",
    "    projpath = Text(value='',placeholder='Project Path',disabled=True)\n",
    "    projpath.layout.width = '50%'\n",
    "    rmodel = RadioButtons(options=['Textured', 'Model'], description='Mesh:')\n",
    "    btn = Button(description=\"Get 3D Model\", button_style='danger', disabled=True) \n",
    "    cont = Box(children=[projpath,rmodel,btn])\n",
    "    return cont"
   ]
  },
  {
   "cell_type": "code",
   "execution_count": 1,
   "metadata": {
    "collapsed": true
   },
   "outputs": [],
   "source": [
    "def btn1(cont):\n",
    "    sample = cont[1].children[0].children[1]\n",
    "    scale = cont[1].children[1].children[1]\n",
    "    reslevel = cont[1].children[2].children[1]\n",
    "    bw = cont[1].children[3].children[1]\n",
    "    projpath = cont[2].children[0]\n",
    "    btn2 = cont[2].children[2]\n",
    "    projpath.value = \"\"        \n",
    "    toggle_button(btn2, False)\n",
    "    #The functions goes here!!!\n",
    "    \n",
    "    \n",
    "    projpath.value = phg.create_3dmodel(inpath='',\n",
    "                         sample=sample.value, scale=scale.value/100, \n",
    "                                    bw=bw.value, reslevel=reslevel.value)\n",
    "    \n",
    "    #End of the functions!!!\n",
    "    toggle_button(btn2, True)"
   ]
  },
  {
   "cell_type": "code",
   "execution_count": null,
   "metadata": {
    "collapsed": true
   },
   "outputs": [],
   "source": [
    "def btn2(cont):\n",
    "    mesh = cont[2].children[1]\n",
    "    projpath = cont[2].children[0]\n",
    "    #Open 3d Model\n",
    "    phg.open_3d_model(projpath.value, mesh=mesh.value)"
   ]
  },
  {
   "cell_type": "code",
   "execution_count": null,
   "metadata": {
    "collapsed": true
   },
   "outputs": [],
   "source": [
    "def toggle_button(btn, val):\n",
    "    if val is True:\n",
    "        btn.disabled = False\n",
    "        btn.button_style = 'success'\n",
    "    else:\n",
    "        btn.disabled = True\n",
    "        btn.button_style = 'danger'"
   ]
  }
 ],
 "metadata": {
  "kernelspec": {
   "display_name": "Blender env",
   "language": "python",
   "name": "blender"
  },
  "language_info": {
   "codemirror_mode": {
    "name": "ipython",
    "version": 3
   },
   "file_extension": ".py",
   "mimetype": "text/x-python",
   "name": "python",
   "nbconvert_exporter": "python",
   "pygments_lexer": "ipython3",
   "version": "3.5.2"
  }
 },
 "nbformat": 4,
 "nbformat_minor": 1
}
