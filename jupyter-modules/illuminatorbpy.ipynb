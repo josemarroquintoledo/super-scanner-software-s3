{
 "cells": [
  {
   "cell_type": "code",
   "execution_count": null,
   "metadata": {
    "collapsed": true
   },
   "outputs": [],
   "source": [
    "__author__ = \"Jose David Marroquin Toledo\"\n",
    "__credits__ = [\"Jose David Marroquin Toledo\", ]\n",
    "__email__ = \"jose@marroquin.cl\"\n",
    "__status__ = \"Development\""
   ]
  },
  {
   "cell_type": "markdown",
   "metadata": {},
   "source": [
    "## Simulate Image Sets with Blender for Fourier Ptychography\n",
    "With these functions, it is possible to generate **Lo-Res image sets to be used with a Fourier Ptychography algorithm**. We suggest to see the [fpblend-examples notebook](../examples/fpblend-examples.ipynb).\n",
    "\n",
    "[blendjupyter.ipynb](blendjupyter.ipynb) is a shared Jupyter module &#171;written to set up and manipulate cameras (`'bpy.types.Camera'`), scenes (`'bpy.context.scene'`)&#187;, among other things.\n",
    "\n",
    "This notebook **does not use** a Python kernel, it [uses a Blender kernel](https://github.com/panzi/blender_ipython)."
   ]
  },
  {
   "cell_type": "code",
   "execution_count": null,
   "metadata": {
    "collapsed": false
   },
   "outputs": [],
   "source": [
    "import bpy\n",
    "import math\n",
    "import blendjupyter as blendj"
   ]
  },
  {
   "cell_type": "code",
   "execution_count": null,
   "metadata": {
    "collapsed": false
   },
   "outputs": [],
   "source": [
    "def gen_xyz_led_ring(leds, d, h):\n",
    "    \"\"\"Returns a list with the coordinates of each LED of a LED ring.\n",
    "    \n",
    "    Args:\n",
    "        leds: A list with the number of LEDs per ring from the center\n",
    "            to the edge of the illuminator.\n",
    "        d: The distance in mm between neighboring LEDs.\n",
    "        h: The distance in mm between the sample and the LED\n",
    "            illuminator.\n",
    "    \"\"\"\n",
    "    l_coords = list()\n",
    "    if isinstance(leds, list):\n",
    "        for led in leds:\n",
    "            if isinstance(led, int) and led > 0:\n",
    "                r = (d * led) / (2.0 * math.pi)\n",
    "                theta_step = 360 // led\n",
    "                range_theta = range(0, 360, theta_step)\n",
    "                range_theta = range_theta[:led]\n",
    "                for theta in range_theta:\n",
    "                    x = r * math.cos(math.radians(theta))\n",
    "                    y = r * math.sin(math.radians(theta))\n",
    "                    z = h\n",
    "                    l_coords.append((x, y, z))\n",
    "    return l_coords"
   ]
  },
  {
   "cell_type": "code",
   "execution_count": null,
   "metadata": {
    "collapsed": true
   },
   "outputs": [],
   "source": [
    "def gen_xyz_led_grid(n, d, h):\n",
    "    \"\"\"Returns a list with the coordinates of each LED of a n-by-n LED\n",
    "    grid.\n",
    "    \n",
    "    Args:\n",
    "        n: Number of LEDs (int) per row or column in the LED grid.\n",
    "        d: The distance in mm between neighboring LEDs.\n",
    "        h: The distance in mm between the sample and the LED\n",
    "            illuminator.\n",
    "    \"\"\"\n",
    "    l_coords = list()\n",
    "    x_max = math.floor((n / 2)) * d\n",
    "    x_min = -x_max\n",
    "    y_max = x_max\n",
    "    y_min = x_min\n",
    "    l_range = list(range(x_min, x_max + 1, d))\n",
    "    for i in l_range:\n",
    "        for j in l_range:\n",
    "            l_coords.append((j, -i, h))  # (x, y, z) coordinate.\n",
    "    return l_coords"
   ]
  },
  {
   "cell_type": "code",
   "execution_count": null,
   "metadata": {
    "collapsed": false
   },
   "outputs": [],
   "source": [
    "def create_led_illuminator(sc, l_coords, **kwargs):\n",
    "    \"\"\"Creates a LED grid in Blender with lamps type 'POINT' and\n",
    "    returns them contained in a list.\n",
    "    \n",
    "    Args:\n",
    "        sc: A Blender scene.\n",
    "        l_coords: A list with (x, y, z) coordinates.\n",
    "    \"\"\"\n",
    "    radiusled = kwargs.pop('radiusled', 1.25)  # Radius in mm of the\n",
    "                                               # LED.\n",
    "    coordcam = kwargs.pop('coorcam', (0, 0, l_coords[0][2] - 1))\n",
    "    l_lamps = list()\n",
    "    len_lcoords = len(l_coords)\n",
    "    for i in range(len_lcoords):\n",
    "        lamp_name = \"lamp\" + blendj.num_str_zeros(i,\n",
    "                                                  len_lcoords,\n",
    "                                                  firstis1=True)\n",
    "        lamp_data = bpy.data.lamps.new(name=lamp_name,\n",
    "                                       type='POINT')\n",
    "        lamp_data.energy = 0.0 # The lamp is off.\n",
    "        lamp_object = bpy.data.objects.new(name=lamp_name,\n",
    "                                           object_data=lamp_data)\n",
    "        sc.objects.link(lamp_object)\n",
    "        lamp_object.location = l_coords[i]\n",
    "        lamp_object.select = True\n",
    "        sc.objects.active = lamp_object\n",
    "        bpy.ops.mesh.primitive_cylinder_add(location=l_coords[i],\n",
    "                         radius=radiusled,\n",
    "                         depth=0)  # Base model for the LED.\n",
    "        l_lamps.append(lamp_object)\n",
    "    return l_lamps"
   ]
  },
  {
   "cell_type": "code",
   "execution_count": null,
   "metadata": {
    "collapsed": false
   },
   "outputs": [],
   "source": [
    "def illuminate_step_by_step(cam, sc, l_lamps):\n",
    "    \"\"\"Turns on a lamp at time of the LED illuminator, takes a photo\n",
    "    of the mesh and saves it.\n",
    "    \n",
    "    Args:\n",
    "        cam: A Blender camera ('CAMERA').\n",
    "        sc: A Blender scene.\n",
    "        l_lamps: A list with Blender lamps ('LAMP').\n",
    "    \"\"\"\n",
    "    len_llamps = len(l_lamps)\n",
    "    path = blendj.find_out_dir(dirname='blend-lores-set-0001',\n",
    "                               parentdir='microscope')\n",
    "    for i in range(len_llamps):\n",
    "        l_lamps[i].data.energy = 2.0\n",
    "        blendj.shoot_cam(cam,\n",
    "                         sc,\n",
    "                         i,\n",
    "                         len_llamps,\n",
    "                         path,\n",
    "                         prefix='lores-img_')\n",
    "        l_lamps[i].data.energy = 0.0"
   ]
  }
 ],
 "metadata": {
  "anaconda-cloud": {},
  "kernelspec": {
   "display_name": "Blender",
   "language": "python",
   "name": "blender"
  },
  "language_info": {
   "codemirror_mode": {
    "name": "ipython",
    "version": 3
   },
   "file_extension": ".py",
   "mimetype": "text/x-python",
   "name": "python",
   "nbconvert_exporter": "python",
   "pygments_lexer": "ipython3",
   "version": "3.5.2"
  }
 },
 "nbformat": 4,
 "nbformat_minor": 0
}
