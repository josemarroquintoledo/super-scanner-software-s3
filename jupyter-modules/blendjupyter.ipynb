{
 "cells": [
  {
   "cell_type": "code",
   "execution_count": null,
   "metadata": {
    "collapsed": true
   },
   "outputs": [],
   "source": [
    "__author__ = \"Jose David Marroquin Toledo\"\n",
    "__credits__ = [\"Jose David Marroquin Toledo\", ]\n",
    "__email__ = \"jose@marroquin.cl\"\n",
    "__status__ = \"Development\""
   ]
  },
  {
   "cell_type": "markdown",
   "metadata": {},
   "source": [
    "This module was written to set up and manipulate cameras (`'bpy.types.Camera'`), scenes (`'bpy.context.scene'`) and other things in Blender from Jupyter without opening it.\n",
    "\n",
    "This notebook **does not use** a Python kernel, [uses a Blender kernel](https://github.com/panzi/blender_ipython)."
   ]
  },
  {
   "cell_type": "code",
   "execution_count": null,
   "metadata": {
    "collapsed": false
   },
   "outputs": [],
   "source": [
    "import bpy\n",
    "import os\n",
    "from PIL import Image\n",
    "import pyexiv2\n",
    "import math"
   ]
  },
  {
   "cell_type": "code",
   "execution_count": null,
   "metadata": {
    "collapsed": true
   },
   "outputs": [],
   "source": [
    "def open_blend(**kwargs):\n",
    "    \"\"\"Opens a Blender file to be used with scripts.\"\"\"\n",
    "    s3path = kwargs.pop('s3path',\n",
    "                        os.path.join(os.path.expanduser('~'),\n",
    "                                     'super-scanner-software-s3'))\n",
    "    name = kwargs.pop('name', 'phstudio_ArtemisStatue.blend')\n",
    "    path = kwargs.pop('path',\n",
    "                      os.path.join(s3path, 'blend-meshes', name))\n",
    "    if kwargs:\n",
    "        raise TypeError('{!s}() got an unexpected keyword argument {!r}'.format(open_blend.__name__,\n",
    "                  list(kwargs.keys())[-1]))\n",
    "    try:\n",
    "        bpy.ops.wm.open_mainfile(filepath=path)\n",
    "        print('Opened:', path)\n",
    "    except IOError:\n",
    "        print('No such file:', path)"
   ]
  },
  {
   "cell_type": "code",
   "execution_count": null,
   "metadata": {
    "collapsed": true
   },
   "outputs": [],
   "source": [
    "def set_up_sc(**kwargs):\n",
    "    \"\"\"Set up a scene ('bpy.context.scene') and returns it.\"\"\"\n",
    "    wpx = kwargs.pop('wpx', 320)  # Capture width in pixels.\n",
    "    hpx = kwargs.pop('hpx', 240)  # Capture hight in pixels.\n",
    "    antialias = kwargs.pop('antialias', '8')  # ('5', '8', '11', '16')\n",
    "    bw = kwargs.pop('bw', True)  # True for capture in grayscale.\n",
    "    cam = kwargs.pop('cam', 'iph4s')\n",
    "    scalepercent = kwargs.pop('scalepercent', 100)\n",
    "    ext = kwargs.pop('ext', 'TIFF')  # Extension of the ouput file.\n",
    "    transp = kwargs.pop('transp', False)\n",
    "    if kwargs:\n",
    "        raise TypeError('{!s}() got an unexpected keyword argument {!r}'.format(set_up_sc.__name__,\n",
    "                  list(kwargs.keys())[-1]))\n",
    "    sc = bpy.context.scene\n",
    "    if transp:\n",
    "        sc.render.image_settings.file_format = 'PNG'\n",
    "        sc.render.alpha_mode = 'TRANSPARENT'\n",
    "        sc.render.image_settings.color_mode = 'RGBA'\n",
    "    else:  # 'RGBA' is not supported by JPEG files.\n",
    "        sc.render.image_settings.file_format = ext\n",
    "        sc.world.horizon_color = (1, 1, 1)\n",
    "        if bw:\n",
    "            sc.render.image_settings.color_mode = 'BW'\n",
    "        else:\n",
    "            sc.render.image_settings.color_mode ='RGB'\n",
    "    sc.render.use_stamp_lens = True\n",
    "    sc.render.resolution_percentage = scalepercent\n",
    "    sc.render.resolution_x = wpx\n",
    "    sc.render.resolution_y = hpx\n",
    "    sc.render.antialiasing_samples = antialias\n",
    "    sc.render.use_overwrite = True\n",
    "    return sc"
   ]
  },
  {
   "cell_type": "code",
   "execution_count": null,
   "metadata": {
    "collapsed": true
   },
   "outputs": [],
   "source": [
    "def get_camera():\n",
    "    \"\"\"Returns the first camera ('bpy.types.Camera') of the current\n",
    "    Blender file.\"\"\"\n",
    "    for i in bpy.data.objects:\n",
    "        if i.type == 'CAMERA':\n",
    "            return i"
   ]
  },
  {
   "cell_type": "code",
   "execution_count": null,
   "metadata": {
    "collapsed": true
   },
   "outputs": [],
   "source": [
    "def get_mesh(name, **kwargs):\n",
    "    \"\"\"Makes a 'PLAIN_AXEXS' parent of an object. name (str) is\n",
    "    the name of the child.\"\"\"\n",
    "    loc0 = kwargs.pop('loc0', (0, 0, 0))  # Initial location of the\n",
    "                                          # axes. \n",
    "    if kwargs:\n",
    "        raise TypeError('{!s}() got an unexpected keyword argument {!r}'.format(get_mesh.__name__,\n",
    "                  list(kwargs.keys())[-1]))\n",
    "    bpy.ops.object.empty_add(type='PLAIN_AXES', location=loc0)\n",
    "    axis = bpy.context.active_object\n",
    "    axis.name = 'axis'\n",
    "    for obj in bpy.data.objects:\n",
    "        if obj.name == name:\n",
    "            obj.parent = axis\n",
    "            return axis, obj\n",
    "    return -1"
   ]
  },
  {
   "cell_type": "code",
   "execution_count": null,
   "metadata": {
    "collapsed": true
   },
   "outputs": [],
   "source": [
    "def set_up_cam(cam, **kwargs):\n",
    "    \"\"\"Set up a camera ('bpy.types.Camera') as a real camera.\n",
    "    \n",
    "    Add more camera presets to d_cams ('dict') transcribing the values\n",
    "    from the files in /usr/share/blender/scripts/presets/camera/ to\n",
    "    the d_cams (keyword argument of type dictt).\"\"\"\n",
    "    idcam = kwargs.pop('idcam', 'iph4s')\n",
    "    loc = kwargs.pop('loc', (0, 0, 0))\n",
    "    rot = kwargs.pop('rot', (0, 0, 0))\n",
    "    if kwargs:\n",
    "        raise TypeError('{!s}() got an unexpected keyword argument {!r}'.format(set_up_cam.__name__,\n",
    "                  list(kwargs.keys())[-1]))\n",
    "    d_cams = {'iph4s': ['iPhone 4S', 4.54, 3.42, 4.28, 'HORIZONTAL'], }\n",
    "    cam.location = loc\n",
    "    for i in range(len(rot)):\n",
    "        cam.rotation_euler[i] = rot[i]\n",
    "    cam.data.sensor_width = d_cams[idcam][1]\n",
    "    cam.data.sensor_height = d_cams[idcam][2]\n",
    "    cam.data.lens = d_cams[idcam][3]\n",
    "    cam.data.sensor_fit = d_cams[idcam][4]"
   ]
  },
  {
   "cell_type": "code",
   "execution_count": null,
   "metadata": {
    "collapsed": true
   },
   "outputs": [],
   "source": [
    "def num_str_zeros(num, n_digs, firstis1=False):\n",
    "    \"\"\"Returns a string that contains a sequence of n_digs - len(num)\n",
    "    zeros followed by num (int).\n",
    "    \n",
    "    Args:\n",
    "        num: A non-negative integer number (int).\n",
    "        n_digs: The length of the string that will contains zeros and\n",
    "            num (int).\n",
    "        firstis1: Plus 1 to num if it is True. It is useful for\n",
    "            filenames.\n",
    "            \n",
    "    From fwdimaging.ipynb (Python kernel).\n",
    "    \n",
    "    >>> num_str_zeros(89, 5)\n",
    "    '00089'\n",
    "    >>> num_str_zeros(0, 4, True)\n",
    "    '0001'\n",
    "    \"\"\"\n",
    "    if num < 0:\n",
    "        num = 0\n",
    "    if firstis1:\n",
    "        num += 1\n",
    "    len_num = len(str(int(num)))\n",
    "    str_num = ''\n",
    "    for i in range(n_digs - len_num):\n",
    "        str_num += '0'\n",
    "    str_num += str(int(num))\n",
    "    return str_num"
   ]
  },
  {
   "cell_type": "code",
   "execution_count": null,
   "metadata": {
    "collapsed": true
   },
   "outputs": [],
   "source": [
    "def find_out_dir(**kwargs):\n",
    "    \"\"\"Find out a directory and returns the route.\n",
    "    \n",
    "    With replace (bool) equal to False, this will create a new\n",
    "    directory if dirname (string) exists in <s3out>/<parentdir>/\"\"\"\n",
    "    s3out = kwargs.pop('s3out',\n",
    "                       os.path.join(os.path.expanduser('~'),\n",
    "                                    's3-out'))\n",
    "    dirname = kwargs.pop('dirname', 'blend-phg-set-0001')\n",
    "    parentdir = kwargs.pop('parentdir', 'scanner')\n",
    "    path = kwargs.pop('path', os.path.join(s3out, parentdir, dirname))\n",
    "    replace = kwargs.pop('replace', False)\n",
    "    if kwargs:\n",
    "        raise TypeError('{!s}() got an unexpected keyword argument {!r}'.format(find_out_dir.__name__,\n",
    "                  list(kwargs.keys())[-1]))\n",
    "    if not replace:\n",
    "        # Create a new direcctory with a different name.\n",
    "        while True:\n",
    "            if not os.path.exists(path):\n",
    "                print('Make directory:', path)\n",
    "                os.makedirs(path)\n",
    "                break\n",
    "            else:\n",
    "                str_num = path.split('-')[-1]\n",
    "                num_dir = int(str_num)\n",
    "                num_dir += 1\n",
    "                str_num_dir = num_str_zeros(num_dir, len(str_num))\n",
    "                path = ('-'.join(path.split('-')[:-1]) + '-'\n",
    "                        + str_num_dir)\n",
    "    return path"
   ]
  },
  {
   "cell_type": "code",
   "execution_count": null,
   "metadata": {
    "collapsed": false
   },
   "outputs": [],
   "source": [
    "def copy_exif(dest_path, src_path):\n",
    "    \"\"\"Copies the Exif metadata from a source image in src_path (str)\n",
    "    to another in dest_path (str).\"\"\"\n",
    "    dest_img = Image.open(dest_path)\n",
    "    wpx = dest_img.size[0]\n",
    "    hpx = dest_img.size[1]\n",
    "    dest_img.close()\n",
    "    src_img = pyexiv2.ImageMetadata(src_path)\n",
    "    src_img.read()\n",
    "    dest_img = pyexiv2.ImageMetadata(dest_path)\n",
    "    dest_img.read()\n",
    "    src_img.copy(dest_img, exif=True)\n",
    "    dest_img[\"Exif.Photo.PixelXDimension\"] = wpx\n",
    "    dest_img[\"Exif.Photo.PixelYDimension\"] = hpx\n",
    "    dest_img.write()"
   ]
  },
  {
   "cell_type": "code",
   "execution_count": null,
   "metadata": {
    "collapsed": false
   },
   "outputs": [],
   "source": [
    "def shoot_cam(cam, sc, n_photo, len_img_set, path, **kwargs):\n",
    "    \"\"\"Renders a scena (sc, 'bpy.context.scene') with a camera\n",
    "    (cam, 'bpy.types.Camera') and saves the result in paht.\n",
    "    \n",
    "    Args:\n",
    "        n_photo: A number of a photo in set (int).\n",
    "        len_img_set: The number of photos (int) that will contain the\n",
    "            image set.\n",
    "    \"\"\"\n",
    "    s3path = kwargs.pop('s3path',\n",
    "                        os.path.join(os.path.expanduser('~'),\n",
    "                                     'super-scanner-software-s3'))\n",
    "    prefix = kwargs.pop('prefix', 'view_')\n",
    "    exif = kwargs.pop('exif',\n",
    "                      os.path.join(s3path,\n",
    "                                   'img',\n",
    "                                   'Photo 25-09-16 11 11 00.jpg'))\n",
    "    base_file_name = prefix + num_str_zeros(n_photo,\n",
    "                                            len(str(len_img_set)),\n",
    "                                            firstis1=True)\n",
    "    base_file_path = os.path.join(path, base_file_name)\n",
    "    separatedir = kwargs.pop('separatedir', False)\n",
    "    if kwargs:\n",
    "        raise TypeError('{!s}() got an unexpected keyword argument {!r}'.format(shoot_cam.__name__,\n",
    "                  list(kwargs.keys())[-1]))\n",
    "    if separatedir and not os.path.exists(base_file_path):\n",
    "        print('Make directory:', base_file_path)\n",
    "        os.mkdir(base_file_path)\n",
    "        base_file_path = os.path.join(base_file_path, os.path.basename(base_file_path))\n",
    "    # sc.render.filepath does not require the explicit extension.\n",
    "    sc.render.filepath = base_file_path\n",
    "    # The next line will save the rendered scene with .tif\n",
    "    # extension.\n",
    "    bpy.ops.render.render(write_still=True)\n",
    "    # The file format is chosen in set_up_sc().\n",
    "    ext = sc.render.image_settings.file_format\n",
    "    ext = ext.lower()\n",
    "    if ext == 'jpeg':\n",
    "        ext = 'jpg'\n",
    "    elif ext == 'tiff':\n",
    "        ext = 'tif'\n",
    "    file_path = base_file_path + '.' + ext\n",
    "    # PNG and TIFF/TIF files does not support Exif metadata.\n",
    "    if ext == 'png' or ext == 'tif':\n",
    "        print('Saved view without Exif metadata:', file_path)\n",
    "    else:\n",
    "        copy_exif(file_path, exif)\n",
    "        print('Saved view with Exif metadata:', file_path)"
   ]
  },
  {
   "cell_type": "code",
   "execution_count": null,
   "metadata": {
    "collapsed": false
   },
   "outputs": [],
   "source": [
    "def put_mesh(path, l_locs, **kwargs):\n",
    "    \"\"\"Imports and clones (if keyword argument 'copies' is greater\n",
    "    than 1) a STL mesh from path (str), and locates it and its copies\n",
    "    in the the (x, y, z) coordinates of l_locs (list).\"\"\"\n",
    "    copies = kwargs.pop('copies', 1)  # Number of copies of the mesh.\n",
    "    scale = kwargs.pop('scale', 0.001)\n",
    "    rotation = kwargs.pop('rotation', (0, 0, 0))\n",
    "    inrad = kwargs.pop('inrad', False)  # Are the rotation angles\n",
    "                                        # expressend in radians? \n",
    "    parent = kwargs.pop('parent', None)  # The name in Blender of the\n",
    "                                         # parent object. \n",
    "    offset = kwargs.pop('offset', (0, 0, 0))\n",
    "    if kwargs:\n",
    "        raise TypeError('{!s}() got an unexpected keyword argument {!r}'.format(put_mesh.__name__,\n",
    "                  list(kwargs.keys())[-1]))\n",
    "    bpy.ops.object.select_all(action='DESELECT')\n",
    "    # Impor the STL mesh.\n",
    "    #\n",
    "    # The majority of Super Scanner's parts must be scalated to 0.001\n",
    "    # in Blender.\n",
    "    bpy.ops.import_mesh.stl(filepath=path, global_scale=scale)\n",
    "    for i in range(copies):\n",
    "        if isinstance(l_locs[i], tuple):\n",
    "            clone = bpy.context.scene.objects.active\n",
    "            rel_loc_clone = l_locs[i]  # Clone's relative positione\n",
    "                                       # to the parent. If parent\n",
    "                                       # does not exist, rel_loc_clones\n",
    "                                       # will be an absolute location. \n",
    "            if parent:\n",
    "                parent_obj = bpy.data.objects[parent]\n",
    "                clone.parent = parent_obj\n",
    "            for j in range(3):\n",
    "                if inrad:\n",
    "                    clone.rotation_euler[j] = rotation[j]\n",
    "                else:\n",
    "                    clone.rotation_euler[j] = math.radians(rotation[j])\n",
    "                clone.location[j] = rel_loc_clone[j] + offset[j]\n",
    "        bpy.ops.object.duplicate()"
   ]
  }
 ],
 "metadata": {
  "anaconda-cloud": {},
  "kernelspec": {
   "display_name": "Blender",
   "language": "python",
   "name": "blender"
  },
  "language_info": {
   "codemirror_mode": {
    "name": "ipython",
    "version": 3
   },
   "file_extension": ".py",
   "mimetype": "text/x-python",
   "name": "python",
   "nbconvert_exporter": "python",
   "pygments_lexer": "ipython3",
   "version": "3.5.2"
  }
 },
 "nbformat": 4,
 "nbformat_minor": 0
}
