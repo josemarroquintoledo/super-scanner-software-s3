{
 "cells": [
  {
   "cell_type": "code",
   "execution_count": null,
   "metadata": {
    "collapsed": true
   },
   "outputs": [],
   "source": [
    "__author__ = \"Jose David Marroquin Toledo\"\n",
    "__credits__ = [\"Jose David Marroquin Toledo\", ]\n",
    "__email__ = \"jose@marroquin.cl\"\n",
    "__status__ = \"Development\""
   ]
  },
  {
   "cell_type": "markdown",
   "metadata": {},
   "source": [
    "This module was written to set up and manipulate cameras (`'bpy.types.Camera'`), scenes (`'bpy.context.scene'`) and other things in Blender from Jupyter without opening it.\n",
    "\n",
    "This notebook **does not use** a Python kernel, [uses a Blender kernel](https://github.com/panzi/blender_ipython)."
   ]
  },
  {
   "cell_type": "code",
   "execution_count": null,
   "metadata": {
    "collapsed": false
   },
   "outputs": [],
   "source": [
    "import bpy\n",
    "import os\n",
    "from PIL import Image\n",
    "import pyexiv2"
   ]
  },
  {
   "cell_type": "code",
   "execution_count": null,
   "metadata": {
    "collapsed": true
   },
   "outputs": [],
   "source": [
    "def open_blend(**kwargs):\n",
    "    \"\"\"Open a Blender file to be used with scripts.\"\"\"\n",
    "    s3path = kwargs.pop('s3path',\n",
    "                        os.path.join(os.path.expanduser('~'),\n",
    "                                     'super-scanner-software-s3'))\n",
    "    name = kwargs.pop('name', 'phstudio_ArtemisStatue.blend')\n",
    "    path = kwargs.pop('path',\n",
    "                      os.path.join(s3path, 'blend-meshes', name))\n",
    "    try:\n",
    "        bpy.ops.wm.open_mainfile(filepath=path)\n",
    "        print('Opened:', path)\n",
    "    except IOError:\n",
    "        print('No such file:', path)"
   ]
  },
  {
   "cell_type": "code",
   "execution_count": null,
   "metadata": {
    "collapsed": true
   },
   "outputs": [],
   "source": [
    "def set_up_sc(**kwargs):\n",
    "    \"\"\"Set up a scene ('bpy.context.scene') and return it.\"\"\"\n",
    "    wpx = kwargs.pop('wpx', 320)\n",
    "    hpx = kwargs.pop('hpx', 240)\n",
    "    antialias = kwargs.pop('antialias', '8')\n",
    "    bw = kwargs.pop('bw', True)\n",
    "    cam = kwargs.pop('cam', 'iph4s')\n",
    "    quality = kwargs.pop('quality', 100)\n",
    "    extension = kwargs.pop('extension', 'TIFF')\n",
    "    transparent = kwargs.pop('transparent', False)\n",
    "    sc = bpy.context.scene\n",
    "    if transparent:\n",
    "        sc.render.image_settings.file_format = 'PNG'\n",
    "        sc.render.alpha_mode = 'TRANSPARENT'\n",
    "        sc.render.image_settings.color_mode = 'RGBA'\n",
    "    else:  # 'RGBA' is not supported by JPEG files.\n",
    "        sc.render.image_settings.file_format = extension\n",
    "        sc.world.horizon_color = (1, 1, 1)\n",
    "        if bw:\n",
    "            sc.render.image_settings.color_mode = 'BW'\n",
    "        else:\n",
    "            sc.render.image_settings.color_mode ='RGB'\n",
    "    sc.render.use_stamp_lens = True\n",
    "    sc.render.resolution_percentage = quality\n",
    "    sc.render.resolution_x = wpx\n",
    "    sc.render.resolution_y = hpx\n",
    "    sc.render.antialiasing_samples = antialias\n",
    "    sc.render.use_overwrite = True\n",
    "    return sc"
   ]
  },
  {
   "cell_type": "code",
   "execution_count": null,
   "metadata": {
    "collapsed": true
   },
   "outputs": [],
   "source": [
    "def get_camera():\n",
    "    \"\"\"Return the first camera ('bpy.types.Camera') of the Blender\n",
    "    file.('bpy.types.Camera') \"\"\"\n",
    "    for i in bpy.data.objects:\n",
    "        if i.type == 'CAMERA':\n",
    "            return i\n",
    "    return -1"
   ]
  },
  {
   "cell_type": "code",
   "execution_count": null,
   "metadata": {
    "collapsed": true
   },
   "outputs": [],
   "source": [
    "def set_up_cam(cam, **kwargs):\n",
    "    \"\"\"Set up a camera ('bpy.types.Camera') as a real camera.\n",
    "    \n",
    "    Add more camera presets to d_cams ('dict') transcribing the values\n",
    "    from the files in /usr/share/blender/scripts/presets/camera/ to\n",
    "    the dictionary.\"\"\"\n",
    "    idcam = kwargs.pop('idcam', 'iph4s')\n",
    "    camloc = kwargs.pop('camloc', (0, 0, 0))\n",
    "    camrot = kwargs.pop('camrot', (0, 0, 0))\n",
    "    d_cams = {'iph4s': ['iPhone 4S', 4.54, 3.42, 4.28,'HORIZONTAL'], }\n",
    "    cam.location = camloc\n",
    "    for i in range(len(camrot)):\n",
    "        cam.rotation_euler[i] = camrot[i]\n",
    "    cam.data.sensor_width = d_cams[idcam][1]\n",
    "    cam.data.sensor_height = d_cams[idcam][2]\n",
    "    cam.data.lens = d_cams[idcam][3]\n",
    "    cam.data.sensor_fit = d_cams[idcam][4]"
   ]
  },
  {
   "cell_type": "code",
   "execution_count": null,
   "metadata": {
    "collapsed": true
   },
   "outputs": [],
   "source": [
    "def num_str_zeros(num, n_digs, matlab=False):\n",
    "    \"\"\"Return a string that contains a sequence n-zeros followed by\n",
    "    num ('int') as 'str', for example, num_str_zeros(89, 4) returns\n",
    "    '0089'. From fwdimaging.ipynbSet a cammera ('bpy.types.Camera')\n",
    "    as  Jupyter notebook.\"\"\"\n",
    "    if matlab:  # Begin the numeration with 1 in the filename.\n",
    "        num += 1\n",
    "    str_num = ''\n",
    "    for i in range(n_digs - len(str(num))):\n",
    "        str_num += '0'\n",
    "    str_num += str(num)\n",
    "    return str_num"
   ]
  },
  {
   "cell_type": "code",
   "execution_count": null,
   "metadata": {
    "collapsed": true
   },
   "outputs": [],
   "source": [
    "def find_out_dir(**kwargs):\n",
    "    \"\"\"Return a string that contains a route of a directory.\n",
    "    \n",
    "    With replace ('bool') equal to False, this will create a new\n",
    "    directory if dirname ('string') exists in <s3out>/<parentdir>/\"\"\"\n",
    "    s3out = kwargs.pop('s3out',\n",
    "                       os.path.join(os.path.expanduser('~'),\n",
    "                                    's3-out'))\n",
    "    dirname = kwargs.pop('dirname', 'blend-phg-set-0001')\n",
    "    parentdir = kwargs.pop('parentdir', 'scanner')\n",
    "    path = kwargs.pop('path', os.path.join(s3out, parentdir, dirname))\n",
    "    replace = kwargs.pop('replace', False)\n",
    "    if not replace:  # Then, create a new direcctory with a different\n",
    "                     # name.\n",
    "        while True:\n",
    "            if not os.path.exists(path):\n",
    "                print('Make directory:', path)\n",
    "                os.makedirs(path)\n",
    "                break\n",
    "            else:\n",
    "                str_num = path.split('-')[-1]\n",
    "                num_dir = int(str_num)\n",
    "                num_dir += 1\n",
    "                str_num_dir = num_str_zeros(num_dir, len(str_num))\n",
    "                path = '-'.join(path.split('-')[:-1]) + '-' + str_num_dir\n",
    "    return path"
   ]
  },
  {
   "cell_type": "code",
   "execution_count": null,
   "metadata": {
    "collapsed": false
   },
   "outputs": [],
   "source": [
    "def copy_exif(dest_path, src_path):\n",
    "    \"\"\"Copy the Exif metadata of a source image to another.\"\"\"\n",
    "    dest_img = Image.open(dest_path)\n",
    "    wpx = dest_img.size[0]\n",
    "    hpx = dest_img.size[1]\n",
    "    dest_img.close()\n",
    "    src_img = pyexiv2.ImageMetadata(src_path)\n",
    "    src_img.read()\n",
    "    dest_img = pyexiv2.ImageMetadata(dest_path)\n",
    "    dest_img.read()\n",
    "    src_img.copy(dest_img, exif=True)\n",
    "    dest_img[\"Exif.Photo.PixelXDimension\"] = wpx\n",
    "    dest_img[\"Exif.Photo.PixelYDimension\"] = hpx\n",
    "    dest_img.write()"
   ]
  },
  {
   "cell_type": "code",
   "execution_count": null,
   "metadata": {
    "collapsed": false
   },
   "outputs": [],
   "source": [
    "def shoot_cam(cam, sc, n_photo, len_img_set, path, **kwargs):\n",
    "    \"\"\"Render a scene ('bpy.context.scene') with a camera\n",
    "    ('bpy.types.Camera') and save the result in outpath\n",
    "    route (base_file_path, 'string') as image file.\"\"\"\n",
    "    s3path = kwargs.pop('s3path',\n",
    "                        os.path.join(os.path.expanduser('~'),\n",
    "                                     'super-scanner-software-s3'))\n",
    "    prefix = kwargs.pop('prefix', 'view_')\n",
    "    exif = kwargs.pop('exif',\n",
    "                      os.path.join(s3path,\n",
    "                                   'img',\n",
    "                                   'Photo 25-09-16 11 11 00.jpg'))\n",
    "    base_file_name = prefix + num_str_zeros(n_photo,\n",
    "                                            len(str(len_img_set)),\n",
    "                                            matlab=True)\n",
    "    base_file_path = os.path.join(path, base_file_name)\n",
    "    sc.render.filepath = base_file_path\n",
    "    # The next line will save the rendered scene with .tif\n",
    "    # extension.\n",
    "    bpy.ops.render.render(write_still=True)\n",
    "    # The file format is chosen in set_up_sc().\n",
    "    ext = sc.render.image_settings.file_format\n",
    "    ext = ext.lower()\n",
    "    if ext == 'jpeg':\n",
    "        ext = 'jpg'\n",
    "    elif ext == 'tiff':\n",
    "        ext = 'tif'\n",
    "    file_path = base_file_path + '.' + ext\n",
    "    if ext == 'tif':\n",
    "        print('Saved view without Exif metadata:', file_path)\n",
    "    else:\n",
    "        copy_exif(file_path, exif)\n",
    "        print('Saved view with Exif metadata:', file_path)"
   ]
  }
 ],
 "metadata": {
  "anaconda-cloud": {},
  "kernelspec": {
   "display_name": "Blender",
   "language": "python",
   "name": "blender"
  },
  "language_info": {
   "codemirror_mode": {
    "name": "ipython",
    "version": 3
   },
   "file_extension": ".py",
   "mimetype": "text/x-python",
   "name": "python",
   "nbconvert_exporter": "python",
   "pygments_lexer": "ipython3",
   "version": "3.5.2"
  }
 },
 "nbformat": 4,
 "nbformat_minor": 0
}
