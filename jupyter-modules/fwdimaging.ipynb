{
 "cells": [
  {
   "cell_type": "code",
   "execution_count": null,
   "metadata": {
    "collapsed": true
   },
   "outputs": [],
   "source": [
    "__author__ = \"Jose David Marroquin Toledo\"\n",
    "__credits__ = [\"Jose David Marroquin Toledo\", ]\n",
    "__email__ = \"jose@marroquin.cl\"\n",
    "__status__ = \"Development\""
   ]
  },
  {
   "cell_type": "markdown",
   "metadata": {},
   "source": [
    "# Fourier Ptychographic Imaging\n",
    "\n",
    "## 1. Forward Imaging Model\n",
    "\n",
    "In this process, the sample is illuminated with one LED of the LED illuminator at time and a camera captures Lo-Res images under different incident angles. To simulate it, we have to:\n",
    "\n",
    "1. Create a Hi-Res complex image.\n",
    "\n",
    "2. Generate the incident wave vectors.\n",
    "\n",
    "3. Produce the ouput Lo-Res images.\n",
    "\n",
    "#####  [2. The Recovery Process](phaseretrieval.ipynb)"
   ]
  },
  {
   "cell_type": "code",
   "execution_count": null,
   "metadata": {
    "collapsed": false
   },
   "outputs": [],
   "source": [
    "from PIL import Image\n",
    "import numpy as np\n",
    "import math\n",
    "import matplotlib.pyplot as plt\n",
    "import decimal\n",
    "import scipy.misc\n",
    "import os"
   ]
  },
  {
   "cell_type": "code",
   "execution_count": null,
   "metadata": {
    "collapsed": true
   },
   "outputs": [],
   "source": [
    "%matplotlib inline"
   ]
  },
  {
   "cell_type": "markdown",
   "metadata": {},
   "source": [
    "#### 1.1. Create the Hi-Res complex image."
   ]
  },
  {
   "cell_type": "code",
   "execution_count": null,
   "metadata": {
    "collapsed": true
   },
   "outputs": [],
   "source": [
    "def generate_obj(amplitude, phase, **kwargs):\n",
    "    \"\"\"Returns the Hi-Res complex object ('numpy.ndarray'),\n",
    "    the sample.\"\"\"\n",
    "    # Show the output image in the notebook.\n",
    "    show = kwargs.pop('show', False)\n",
    "    if kwargs:\n",
    "        raise TypeError('{!s}() got an unexpected keyword argument {!r}'.format(generate_obj.__name__, list(kwargs.keys())[-1]))\n",
    "    amplitude = Image.open(amplitude)\n",
    "    phase = Image.open(phase)\n",
    "    w, h = amplitude.size  # It is not the same that\n",
    "                           # numpy.ndarray.shape\n",
    "    # Some programming languages such as MATLAB, the resize methods\n",
    "    # use bicubic interpolation by default.\n",
    "    phase = phase.resize((w, h), resample=Image.BICUBIC)\n",
    "    # 'd' ('str') is a character code for a double-precision\n",
    "    # floating-point number.\n",
    "    arr_amplitude = np.array(amplitude, dtype='d')\n",
    "    arr_phase = np.array(phase, dtype='d')\n",
    "    amplitude.close()\n",
    "    phase.close()\n",
    "    arr_phase = math.pi * arr_phase / np.amax(arr_phase)\n",
    "    obj = arr_amplitude * np.exp(1j * arr_phase)\n",
    "    obj = np.absolute(obj)  # The Hi-Res complex image.\n",
    "    if show:\n",
    "        # Using PIL, the objects is shown as an image almost\n",
    "        # completely white.\n",
    "        # img_obj = Image.fromarray(obj)\n",
    "        # img_obj.show()\n",
    "        # Using matplotlib anc 'Greys_r' ('str') as value for 'cmap'\n",
    "        # key [1], the object is shown like in Matlab R2009b.\n",
    "        #\n",
    "        # [1] unutbu. (2010). Display image as grayscale using matplotlib [Msg 1]. Message posted to\n",
    "        # http://stackoverflow.com/questions/3823752/display-image-as-grayscale-using-matplotlib?answertab=votes#tab-top\n",
    "        plt_img = plt.imshow(obj, cmap='Greys_r')\n",
    "    return obj"
   ]
  },
  {
   "cell_type": "markdown",
   "metadata": {},
   "source": [
    "#### 1.2. Generate the incident wave vectors."
   ]
  },
  {
   "cell_type": "code",
   "execution_count": null,
   "metadata": {
    "collapsed": false
   },
   "outputs": [],
   "source": [
    "def gen_xy_led_ring(ledsperring, d):\n",
    "    \"\"\"Returns a partitioned list with the (x, y) coordinates of each\n",
    "    LED of the LED ring.\n",
    "\n",
    "    d ('int') is the distance in mm between LEDs and ledsperring\n",
    "    ('int') is a list with the number of LEDs per ring from the\n",
    "    center to the edge of this.\"\"\"\n",
    "    l_xy = list()\n",
    "    l_row = list()\n",
    "    l = list()\n",
    "    for nleds in ledsperring:\n",
    "        r = (d * nleds) / (2.0 * math.pi)\n",
    "        theta_step = int(360 / nleds)\n",
    "        range_theta = range(0, 360, theta_step)\n",
    "        range_theta = range_theta[:nleds]\n",
    "        for theta in range_theta:\n",
    "            x = r * math.cos(math.radians(theta))\n",
    "            y = r * math.sin(math.radians(theta))\n",
    "            l_xy.append((x, y))\n",
    "    order = math.ceil(math.sqrt(len(l_xy)))\n",
    "    for i in range(order):\n",
    "        for j in range(order):\n",
    "            l_row.append((0.0, 0.0))\n",
    "        l.append(l_row)\n",
    "        l_row = list()\n",
    "    len_lxy = len(l_xy)\n",
    "    for i in range(order):\n",
    "        for j in range(order):\n",
    "            idx = i * (order + 1) + j\n",
    "            if idx < len(l_xy):\n",
    "                l[i][j] = l_xy[idx]\n",
    "    return l"
   ]
  },
  {
   "cell_type": "code",
   "execution_count": null,
   "metadata": {
    "collapsed": true
   },
   "outputs": [],
   "source": [
    "def gen_xy_led_grid(n, d):\n",
    "    \"\"\"Returns a list with the (x, y) coordinates of each LED of a\n",
    "    n-by-n LED grid.\n",
    "    \n",
    "    n ('int') is the number of LEDs per row or per column in the grid\n",
    "    LED and d is the distance in mm between LEDs.\n",
    "    \"\"\"\n",
    "    l_xy = list()\n",
    "    x_max = math.floor((n / 2)) * d\n",
    "    x_min = -x_max\n",
    "    y_max = x_max\n",
    "    y_min = x_min\n",
    "    l_range = list(range(x_min, x_max + 1, d))\n",
    "    l_row = list()\n",
    "    for i in l_range:\n",
    "        for j in l_range:\n",
    "            l_row.append((j, -i))  # (x, y)\n",
    "        l_xy.append(l_row)\n",
    "        l_row = list()\n",
    "    return l_xy"
   ]
  },
  {
   "cell_type": "code",
   "execution_count": null,
   "metadata": {
    "collapsed": false
   },
   "outputs": [],
   "source": [
    "def generate_wave_vectors(l_xy, height):\n",
    "    \"\"\"Returns an array ('numpy.ndarray') with the magnitude of\n",
    "    the x-component and y-component of the incident wave vectors that\n",
    "    emerge from a LED illuminator. Each LED is represented by a \n",
    "    (x, y) tuple in l_xy ('list').\n",
    "    \n",
    "    height ('int') is the distance between the LED illuminator and\n",
    "    the sample.\n",
    "    \"\"\"\n",
    "    arr = np.array(l_xy)  # arr ('numpy.ndarray') contains (x, y)\n",
    "                          # coordinates.\n",
    "    arr = arr / height\n",
    "    arr = np.arctan(arr)\n",
    "    arr = np.sin(arr)\n",
    "    arr = -arr\n",
    "    return arr"
   ]
  },
  {
   "cell_type": "code",
   "execution_count": null,
   "metadata": {
    "collapsed": true
   },
   "outputs": [],
   "source": [
    "def round_half_up(num):\n",
    "    \"\"\"In Python 3, the round() function had changed. For example,\n",
    "    round(2.5) returns 2 ('int') like round(1.5). It is possible to\n",
    "    obtain 3 ('int') for 2.5 rounded using the decimal module [2].\n",
    "    \n",
    "    [2] Barthelemy. (2014). Python 3.x rounding behavior. Message\n",
    "    posted to\n",
    "    http://stackoverflow.com/questions/10825926/python-3-x-rounding-behavior\n",
    "    \"\"\"\n",
    "    return int(decimal.Decimal(num).quantize(decimal.Decimal(1),\n",
    "                                             rounding=decimal.ROUND_HALF_UP))"
   ]
  },
  {
   "cell_type": "code",
   "execution_count": null,
   "metadata": {
    "collapsed": false
   },
   "outputs": [],
   "source": [
    "def get_cft(wave_vectors, wavelen, ccdpx, zoom, na, w, h):\n",
    "    \"\"\"Returns the number of rows and columns of the Hi-Res output,\n",
    "    vector waves, dkx ('float') and dky ('float'), and the coherent\n",
    "    transfer function of the objective.\n",
    "    \n",
    "    wave_vectors is a numpy.ndarray and wavelen is a int. ccdpx\n",
    "    ('float') is the sampling pixel size of the CCD, hirespx ('float') is the\n",
    "    pixel size of the reconstruction, na ('float') is the numerical\n",
    "    aperture of the lens, w ('int') the width in pixels of the output\n",
    "    Hi-Res image and h ('int') its height. zoom ('int') is a STRANGE\n",
    "    PARAMETER but it acts as it were a zoom.\n",
    "    \"\"\"\n",
    "    k_0 = 2 * math.pi / wavelen\n",
    "    hirespx = ccdpx / zoom\n",
    "    dkx = 2 * math.pi / (hirespx * w)\n",
    "    dky = 2 * math.pi / (hirespx * h)\n",
    "    p = int(h / (ccdpx / hirespx))  # Number of rows of the output.\n",
    "    q = int(w / (ccdpx / hirespx))  # Number of columns of the output.\n",
    "    k = k_0 * wave_vectors;\n",
    "    # From all rows, all columns, extract the first element.\n",
    "    kx = k[:, :, 0]\n",
    "    # Reshape xk ('numpy.ndarray') in 1-D array.\n",
    "    kx = np.reshape(kx, len(kx.flat))\n",
    "    ky = k[:, :, 1]\n",
    "    ky = np.reshape(ky, len(ky.flat))\n",
    "    cutoff_freq = na * k_0\n",
    "    k_max = math.pi / ccdpx\n",
    "    kxm, kym = np.meshgrid(np.arange(-k_max, k_max + 1,\n",
    "                                     k_max / ((q - 1) / 2)),\n",
    "                           np.arange(-k_max, k_max + 1,\n",
    "                                     k_max / ((p - 1) / 2)))\n",
    "    coherent_transfer_funct = ((kxm ** 2 + kym ** 2) < cutoff_freq ** 2)\n",
    "    coherent_transfer_funct = coherent_transfer_funct.astype(float)\n",
    "    return p, q, dkx, dky, kx, ky, coherent_transfer_funct"
   ]
  },
  {
   "cell_type": "markdown",
   "metadata": {},
   "source": [
    "#### 3. Produce the ouput Lo-Res images."
   ]
  },
  {
   "cell_type": "code",
   "execution_count": null,
   "metadata": {
    "collapsed": false
   },
   "outputs": [],
   "source": [
    "def num_str_zeros(num, n_digs, firstis1=False):\n",
    "    \"\"\"Returns a string that contains a sequence n-zeros followed by\n",
    "    num ('int') as 'str', for example, num_str_zeros(89, 4) returns\n",
    "    '0089'.\n",
    "    \"\"\"\n",
    "    if firstis1:  # Begin the numeration in the filenames with 1.\n",
    "        num += 1\n",
    "    len_num = len(str(num))\n",
    "    str_num = ''\n",
    "    for i in range(n_digs - len_num):\n",
    "        str_num += '0'\n",
    "    str_num += str(num)\n",
    "    return str_num"
   ]
  },
  {
   "cell_type": "code",
   "execution_count": null,
   "metadata": {
    "collapsed": true
   },
   "outputs": [],
   "source": [
    "def find_out_dir(**kwargs):\n",
    "    \"\"\"Returns a string that contains a route of a directory.\n",
    "    \n",
    "    With replace ('bool') equal to False, this will create a new\n",
    "    directory if dirname ('string') exists in <s3out>/<parentdir>/\n",
    "    \n",
    "    From blendjupyter.ipynb (Blender kernel).\"\"\"\n",
    "    s3out = kwargs.pop('s3out',\n",
    "                       os.path.join(os.path.expanduser('~'),\n",
    "                                    's3-out'))\n",
    "    dirname = kwargs.pop('dirname', 'blend-phg-set-0001')\n",
    "    parentdir = kwargs.pop('parentdir', 'scanner')\n",
    "    path = kwargs.pop('path', os.path.join(s3out, parentdir, dirname))\n",
    "    replace = kwargs.pop('replace', False)\n",
    "    if kwargs:\n",
    "        raise TypeError('{!s}() got an unexpected keyword argument {!r}'.format(find_out_dir.__name__, list(kwargs.keys())[-1]))\n",
    "    if not replace:  # Then, create a new direcctory with a different\n",
    "                     # name.\n",
    "        while True:\n",
    "            if not os.path.exists(path):\n",
    "                print('Make directory:', path)\n",
    "                os.makedirs(path)\n",
    "                break\n",
    "            else:\n",
    "                str_num = path.split('-')[-1]\n",
    "                num_dir = int(str_num)\n",
    "                num_dir += 1\n",
    "                str_num_dir = num_str_zeros(num_dir, len(str_num))\n",
    "                path = '-'.join(path.split('-')[:-1]) + '-' + str_num_dir\n",
    "    return path"
   ]
  },
  {
   "cell_type": "code",
   "execution_count": null,
   "metadata": {
    "collapsed": false
   },
   "outputs": [],
   "source": [
    "def generate_lores_set(obj, cft, leds, kx, ky, w, h, dkx, dky, p, q,\n",
    "                       outpath, **kwargs):\n",
    "    \"\"\"Returns an array ('numpy.ndarray') with the sequence of Lo-Res\n",
    "    images which are also stored.\n",
    "    \n",
    "    Each image only contains the amplitude information.\"\"\"\n",
    "    # Prefix in the name of each output file.\n",
    "    prefix = kwargs.pop('prefix', 'lores-img_')\n",
    "    # Extension of the output file.\n",
    "    extension = kwargs.pop('extension', '.tif')\n",
    "    if kwargs:\n",
    "        raise TypeError('{!s}() got an unexpected keyword argument {!r}'.format(generate_lores_set.__name__, list(kwargs.keys())[-1]))\n",
    "    obj_ft = np.fft.fftshift(np.fft.fft2(obj))\n",
    "    lores_imgs_seq = list()  # The Lo-Res images sequence.\n",
    "    for i in range(leds):\n",
    "        kxc = round_half_up((w + 1) / 2.0 + kx[i] / dkx)\n",
    "        kyc = round_half_up((h + 1) / 2.0 + ky[i] / dky)\n",
    "        kyl = round_half_up(kyc - (p - 1) / 2.0);\n",
    "        kyh = round_half_up(kyc + (p - 1) / 2.0);\n",
    "        kxl = round_half_up(kxc - (q - 1) / 2.0);\n",
    "        kxh = round_half_up(kxc + (q - 1) / 2.0);\n",
    "        lores_imgs_seq_ft = (p / h) ** 2\n",
    "        lores_imgs_seq_ft *= obj_ft[kyl - 1:kyh, kxl - 1:kxh]\n",
    "        lores_imgs_seq_ft *= cft\n",
    "        img_lores = np.absolute(np.fft.ifft2(np.fft.ifftshift(lores_imgs_seq_ft)))\n",
    "        lores_imgs_seq.append(img_lores)\n",
    "        str_i = num_str_zeros(i, len(str(leds)), True)\n",
    "        filename = prefix + str_i + extension\n",
    "        img_path = os.path.join(outpath, filename)\n",
    "        # scipy.misc.imsave() rescales the dynamic range of the\n",
    "        # pixel values [3]. Add cmin and cmax as parameters to\n",
    "        # scipy.misc.toimage() as follow to prevent the rescaling.\n",
    "        # Before, giving the np.uint8 to dtype('type') to img_lores\n",
    "        # (numpy.ndarray) there was no effect by the rescaling.\n",
    "        # \n",
    "        # [3] Lippens, S. (2016). Saving of images in scipy and\n",
    "        # preventing dynamic range rescaling.\n",
    "        scipy.misc.toimage(img_lores, cmin=0, cmax=255).save(img_path)\n",
    "        print('Saved Lo-Res image:', img_path)\n",
    "    return np.array(lores_imgs_seq)"
   ]
  },
  {
   "cell_type": "code",
   "execution_count": null,
   "metadata": {
    "collapsed": true
   },
   "outputs": [],
   "source": [
    "def simulate_set(**kwargs):\n",
    "    \"\"\"Returns the Lo-Res image sequence as a list of arrays\n",
    "    ('numpy.ndarray') of the generate_lores_set() function.\n",
    "    \n",
    "    It calls all funtions in order to simulate the process of\n",
    "    capturing photos in the Fourier Ptychography algorithm.\"\"\"\n",
    "    s3path = kwargs.pop('s3path',\n",
    "                        os.path.join(os.path.expanduser('~'),\n",
    "                                     'super-scanner-software-s3'))\n",
    "    ext = kwargs.pop('ext', '.tif')  # Extension of the output files.\n",
    "    illuminator = kwargs.pop('illuminator', 'GRID')\n",
    "    # For a LED illuminator type 'GRID', leds ('int') is the number of\n",
    "    # LEDs per row or per column of a squared LED grid, e.g. 15;\n",
    "    # instead, for a one type 'RING', leds is a list that contains the\n",
    "    # number of LEDs by ring from the center to the edge of the LED\n",
    "    # illuminator, e.g., [12, 18, 36].\n",
    "    leds = kwargs.pop('leds', 15)\n",
    "    d = kwargs.pop('d', 4)  # Distance in mm between LEDs.\n",
    "    # Distance in mm between the LED grid and the sample.\n",
    "    h = kwargs.pop('h', 90)\n",
    "    # Does the first image have 1 at the end of its filename?\n",
    "    namefrom1 = kwargs.pop('namefrom1', True)\n",
    "    wavelen = kwargs.pop('wavelen', 0.63e-6)\n",
    "    # Sampling pixel size of the CCD.\n",
    "    ccdpx = kwargs.pop('ccdpx', 2.75e-6)\n",
    "    # Pixel size of the reconstruction.\n",
    "    hirespx = kwargs.pop('hirespx', ccdpx / 4)\n",
    "    na = kwargs.pop('na', 0.08)  # Numerical aperture of the employed\n",
    "                                 # objective lens.\n",
    "    # DANGER! IT COULD PIXELATE the output image.\n",
    "    zoom = kwargs.pop('zoom', 4)\n",
    "    amplitude = kwargs.pop('amplitude', os.path.join(s3path, 'img',\n",
    "                                        'Alberto-Romero_Tornillos_flickr_1024x683.tif'))\n",
    "    phase = kwargs.pop('phase', os.path.join(s3path, 'img',\n",
    "                               'pabloaez_Valparaiso-054_flickr_4000x3000.png'))\n",
    "    outpath = kwargs.pop('outpath',\n",
    "                         find_out_dir(dirname='lores-set-0001',\n",
    "                                      parentdir='microscope'))\n",
    "    if kwargs:\n",
    "        raise TypeError('{!s}() got an unexpected keyword argument {!r}'.format(simulate_set.__name__, list(kwargs.keys())[-1]))\n",
    "    l_xy_leds = list()\n",
    "    if illuminator.lower() == 'grid' and isinstance(leds, int):\n",
    "        l_xy_leds = gen_xy_led_grid(leds, d)\n",
    "        leds = leds ** 2\n",
    "    elif illuminator.lower() == 'ring' and isinstance(leds, list):\n",
    "        l_xy_leds = gen_xy_led_ring(leds, d)\n",
    "        leds = sum(leds)\n",
    "    wvs = generate_wave_vectors(l_xy_leds, h)\n",
    "    in_obj = generate_obj(amplitude, phase)\n",
    "    hpx, wpx = in_obj.shape\n",
    "    p, q, dkx, dky, kx, ky, cft = get_cft(wvs, wavelen, ccdpx, zoom,\n",
    "                                          na, wpx, hpx)\n",
    "    lores_imgs_seq = generate_lores_set(in_obj, cft, leds, kx, ky,\n",
    "                                        wpx, hpx, dkx, dky, p, q,\n",
    "                                        outpath, extension=ext)\n",
    "    return lores_imgs_seq"
   ]
  }
 ],
 "metadata": {
  "anaconda-cloud": {},
  "kernelspec": {
   "display_name": "Python [default]",
   "language": "python",
   "name": "python3"
  },
  "language_info": {
   "codemirror_mode": {
    "name": "ipython",
    "version": 3
   },
   "file_extension": ".py",
   "mimetype": "text/x-python",
   "name": "python",
   "nbconvert_exporter": "python",
   "pygments_lexer": "ipython3",
   "version": "3.5.2"
  }
 },
 "nbformat": 4,
 "nbformat_minor": 0
}
