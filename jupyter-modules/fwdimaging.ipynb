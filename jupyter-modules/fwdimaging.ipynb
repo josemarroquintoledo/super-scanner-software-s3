{
 "cells": [
  {
   "cell_type": "markdown",
   "metadata": {},
   "source": [
    "## 1. Forward Imaging Model\n",
    "In this process, the sample is illuminated with one LED of the grid at time and a camera captures Lo-Res images under different incident angle. To simulate it, we have to:\n",
    "\n",
    "1. Create a Hi-Res complex image.\n",
    "\n",
    "2. Generate the incident wave vectors.\n",
    "\n",
    "3. Produce the ouput images."
   ]
  },
  {
   "cell_type": "code",
   "execution_count": 1,
   "metadata": {
    "collapsed": false
   },
   "outputs": [],
   "source": [
    "from PIL import Image\n",
    "import numpy as np\n",
    "from math import pi, floor\n",
    "import matplotlib.pyplot as plt\n",
    "import matplotlib.image as mpimg"
   ]
  },
  {
   "cell_type": "code",
   "execution_count": 2,
   "metadata": {
    "collapsed": false
   },
   "outputs": [],
   "source": [
    "%matplotlib inline"
   ]
  },
  {
   "cell_type": "code",
   "execution_count": 10,
   "metadata": {
    "collapsed": true
   },
   "outputs": [],
   "source": [
    "# 1. Create the Hi-Res complex image.\n",
    "# Return the complex object ('numpy.ndarray'). It can also show it in the notebook.\n",
    "def generate_input_obj(**kwargs):\n",
    "    amplitude = kwargs.pop('amplitude', '../img/cameraman.tif')\n",
    "    phase = kwargs.pop('phase', '../img/westconcordorthophoto.png')\n",
    "    show_img = kwargs.pop('show', False)\n",
    "    amplitude = Image.open(amplitude)\n",
    "    phase = Image.open(phase)\n",
    "    phase = phase.resize((256, 256), resample=Image.BICUBIC)  # In MATLAB, imresize uses bicubic interpolation\n",
    "                                                              # by default.\n",
    "    arr_amplitude = np.array(amplitude, dtype='d')  # 'd' ('str') is a character code for a\n",
    "                                                    # double-precision floating-point number.\n",
    "    arr_phase = np.array(phase, dtype='d')\n",
    "    arr_phase = pi * arr_phase / np.amax(arr_phase)\n",
    "    arr_obj = arr_amplitude * np.exp(pi * arr_phase)\n",
    "    arr_obj = np.absolute(arr_obj)  # The Hi-Res complex image.\n",
    "    if show_img:\n",
    "        # Using PIL, the objects is shown as an image almost completely white.\n",
    "        # img_obj = Image.fromarray(arr_obj)\n",
    "        # img_obj.show()\n",
    "        # Using matplotlib anc 'Greys_r' ('str') as value for cmap key [1],\n",
    "        # the object is shown like in Matlab R2009b.\n",
    "        #\n",
    "        # [1] unutbu. (2010). Display image as grayscale using matplotlib [Msg 1]. Message posted to\n",
    "        # http://stackoverflow.com/questions/3823752/display-image-as-grayscale-using-matplotlib?answertab=votes#tab-top\n",
    "        plt_img = plt.imshow(arr_obj, cmap='Greys_r')\n",
    "    return arr_obj"
   ]
  },
  {
   "cell_type": "code",
   "execution_count": 11,
   "metadata": {
    "collapsed": false
   },
   "outputs": [],
   "source": [
    "# 2. Generate the incident wave vectors.\n",
    "# Return a n-by-n array with magnitude of the x-component, kx, and y-component, ky, of\n",
    "# the wave vectors of the incident waves that emerge from the LED grid.\n",
    "def generate_wave_vectors(**kwargs):\n",
    "    n = kwargs.pop('n', 15)  # Order of the n-by-n array.\n",
    "    dist = kwargs.pop('dist', 4)  # Distance in mm between LEDs.\n",
    "    h = kwargs.pop('h', 90)  # Distance in mm between the LED grid and the sample.\n",
    "    x_max = floor((n / 2)) * dist\n",
    "    x_min = -x_max\n",
    "    y_max = x_max\n",
    "    y_min = x_min\n",
    "    l_row = list()\n",
    "    l_arr = list()\n",
    "    l_range = list(range(x_min, x_max + 1, dist))  # xy_max (int) + 1 to include xy_max.\n",
    "    for i in l_range:\n",
    "        for j in l_range:\n",
    "            l_row.append((j, i))\n",
    "        l_arr.append(l_row)\n",
    "        l_row = list()\n",
    "    arr = np.array(l_arr)  # arr ('numpy.ndarray') contains (x, y) coordinates.\n",
    "    arr = arr / h\n",
    "    arr = np.arctan(arr)\n",
    "    arr = np.sin(arr)\n",
    "    arr = -arr # arr contains [kx, ky] elements.\n",
    "    return arr"
   ]
  },
  {
   "cell_type": "markdown",
   "metadata": {},
   "source": [
    "## References\n",
    "Zheng, G. (2015). Forward imaging model. In *Fourier Ptychographic Imaging: A MATLAB&reg; tutorial*. San Rafael, CA: Morgan &amp; Claypool Publishers.  "
   ]
  }
 ],
 "metadata": {
  "anaconda-cloud": {},
  "kernelspec": {
   "display_name": "Python [Root]",
   "language": "python",
   "name": "Python [Root]"
  },
  "language_info": {
   "codemirror_mode": {
    "name": "ipython",
    "version": 3
   },
   "file_extension": ".py",
   "mimetype": "text/x-python",
   "name": "python",
   "nbconvert_exporter": "python",
   "pygments_lexer": "ipython3",
   "version": "3.5.2"
  }
 },
 "nbformat": 4,
 "nbformat_minor": 0
}
