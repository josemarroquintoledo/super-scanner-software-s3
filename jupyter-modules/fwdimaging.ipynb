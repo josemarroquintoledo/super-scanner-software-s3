{
 "cells": [
  {
   "cell_type": "code",
   "execution_count": null,
   "metadata": {
    "collapsed": true
   },
   "outputs": [],
   "source": [
    "__author__ = \"Jose David Marroquin Toledo\"\n",
    "__credits__ = [\"Jose David Marroquin Toledo\",]\n",
    "__email__ = \"jose@marroquin.cl\"\n",
    "__status__ = \"Development\""
   ]
  },
  {
   "cell_type": "markdown",
   "metadata": {},
   "source": [
    "## 1. Forward Imaging Model\n",
    "In this process, the sample is illuminated with one LED of the grid at time and a camera captures Lo-Res images under different incident angles. To simulate it, we have to:\n",
    "\n",
    "1. Create a Hi-Res complex image.\n",
    "\n",
    "2. Generate the incident wave vectors.\n",
    "\n",
    "3. Produce the ouput Lo-Res images.\n",
    "\n",
    "###  [2. The Recovery Process](phaseretrieval.ipynb)"
   ]
  },
  {
   "cell_type": "code",
   "execution_count": null,
   "metadata": {
    "collapsed": false
   },
   "outputs": [],
   "source": [
    "from PIL import Image\n",
    "import numpy as np\n",
    "import math\n",
    "import matplotlib.pyplot as plt\n",
    "import decimal\n",
    "import scipy.misc\n",
    "import os"
   ]
  },
  {
   "cell_type": "code",
   "execution_count": null,
   "metadata": {
    "collapsed": false
   },
   "outputs": [],
   "source": [
    "%matplotlib inline"
   ]
  },
  {
   "cell_type": "code",
   "execution_count": null,
   "metadata": {
    "collapsed": true
   },
   "outputs": [],
   "source": [
    "# 1. Create the Hi-Res complex image.\n",
    "# Return the Hi-Res complex object ('numpy.ndarray'), the sample.\n",
    "def generate_obj(amplitude, phase, **kwargs):\n",
    "    # Show the output image in the notebook.\n",
    "    show = kwargs.pop('show', False)\n",
    "    amplitude = Image.open(amplitude)\n",
    "    phase = Image.open(phase)\n",
    "    h, w = amplitude.size\n",
    "    # In MATLAB, imresize uses bicubic interpolation by default.\n",
    "    phase = phase.resize((w, h), resample=Image.BICUBIC)\n",
    "    # 'd' ('str') is a character code for a double-precision\n",
    "    # floating-point number.\n",
    "    arr_amplitude = np.array(amplitude, dtype='d')\n",
    "    arr_phase = np.array(phase, dtype='d')\n",
    "    amplitude.close()\n",
    "    phase.close()\n",
    "    arr_phase = math.pi * arr_phase / np.amax(arr_phase)\n",
    "    obj = arr_amplitude * np.exp(1j * arr_phase)\n",
    "    obj = np.absolute(obj)  # The Hi-Res complex image.\n",
    "    if show:\n",
    "        # Using PIL, the objects is shown as an image almost\n",
    "        # completely white.\n",
    "        # img_obj = Image.fromarray(obj)\n",
    "        # img_obj.show()\n",
    "        # Using matplotlib anc 'Greys_r' ('str') as value for 'cmap'\n",
    "        # key [1], the object is shown like in Matlab R2009b.\n",
    "        #\n",
    "        # [1] unutbu. (2010). Display image as grayscale using matplotlib [Msg 1]. Message posted to\n",
    "        # http://stackoverflow.com/questions/3823752/display-image-as-grayscale-using-matplotlib?answertab=votes#tab-top\n",
    "        plt_img = plt.imshow(obj, cmap='Greys_r')\n",
    "    return obj, w, h"
   ]
  },
  {
   "cell_type": "code",
   "execution_count": null,
   "metadata": {
    "collapsed": false
   },
   "outputs": [],
   "source": [
    "# 2. Generate the incident wave vectors.\n",
    "# Return a leds_prc-by-leds_prc array ('numpy.ndarray') with the\n",
    "# magnitude of the x-component, kx, and y-component, ky, of the wave\n",
    "# vectors of the incident waves that emerge from the LED grid.\n",
    "#\n",
    "# led_dist ('int') and height ('int') are distances between LEDs and\n",
    "# the grid and the sample, respectively. leds_prc by \"LEDs per row and\n",
    "# column\".\n",
    "def generate_wave_vectors(leds_prc, led_dist, height):\n",
    "    x_max = math.floor((leds_prc / 2)) * led_dist\n",
    "    x_min = -x_max\n",
    "    y_max = x_max\n",
    "    y_min = x_min\n",
    "    l_row = list()\n",
    "    l_arr = list()\n",
    "    # xy_max (int) + 1 to include xy_max.\n",
    "    l_range = list(range(x_min, x_max + 1, led_dist))\n",
    "    for i in l_range:\n",
    "        for j in l_range:\n",
    "            l_row.append((j, -i))\n",
    "        l_arr.append(l_row)\n",
    "        l_row = list()\n",
    "    arr = np.array(l_arr)  # arr ('numpy.ndarray') contains (x, y)\n",
    "                           # coordinates.\n",
    "    arr = arr / height\n",
    "    arr = np.arctan(arr)\n",
    "    arr = np.sin(arr)\n",
    "    arr = -arr\n",
    "    return arr"
   ]
  },
  {
   "cell_type": "code",
   "execution_count": null,
   "metadata": {
    "collapsed": true
   },
   "outputs": [],
   "source": [
    "# In Python 3, the round() function had changed. For example,\n",
    "# round(2.5) returns 2 ('int') like round(1.5). It is possible to\n",
    "# obtain 3 ('int') for 2.5 rounded using the decimal module [2].\n",
    "#\n",
    "# [2] Barthelemy. (2014). Python 3.x rounding behavior. Message posted to\n",
    "# http://stackoverflow.com/questions/10825926/python-3-x-rounding-behavior\n",
    "def round_half_up(num):\n",
    "    return int(decimal.Decimal(num).quantize(decimal.Decimal(1),\n",
    "                                             rounding=decimal.ROUND_HALF_UP))"
   ]
  },
  {
   "cell_type": "code",
   "execution_count": null,
   "metadata": {
    "collapsed": false
   },
   "outputs": [],
   "source": [
    "# Return the number of rows and columns of the Hi-Res output, vector\n",
    "# waves, dkx ('float') and dky ('float'), and the coherent transfer\n",
    "# function of the objective.\n",
    "#\n",
    "# wave_vectors is a numpy.ndarray, wavelen is a int, ccdpx ('float')\n",
    "# is the sampling pixel size of the CCD, hirespx ('float') is the\n",
    "# pixel size of the reconstruction, na ('float') is the numerical\n",
    "# aperture of the lens, w ('int') the width in pixels of the output\n",
    "# Hi-Res image and h ('int') its height. zoom ('int') is a STRANGE\n",
    "# PARAMETER but it acts as it were a zoom.\n",
    "def get_cft(wave_vectors, wavelen, ccdpx, zoom, na, h, w):\n",
    "    k_0 = 2 * math.pi / wavelen\n",
    "    hirespx = ccdpx / zoom\n",
    "    dkx = 2 * math.pi / (hirespx * w)\n",
    "    dky = 2 * math.pi / (hirespx * h)\n",
    "    p = int(h / (ccdpx / hirespx))  # Number of rows of the output.\n",
    "    q = int(w / (ccdpx / hirespx))  # Number of columns of the output.\n",
    "    img_seq_lores = list()\n",
    "    k = k_0 * wave_vectors;\n",
    "    # From all rows, all columns, extract the first element.\n",
    "    kx = k[:, :, 0]\n",
    "    # Reshape xk ('numpy.ndarray') in 1-D array.\n",
    "    kx = np.reshape(kx, len(kx.flat))\n",
    "    ky = k[:, :, 1]\n",
    "    ky = np.reshape(ky, len(ky.flat))\n",
    "    cutoff_freq = na * k_0\n",
    "    k_max = math.pi / ccdpx\n",
    "    kxm, kym = np.meshgrid(np.arange(-k_max, k_max + 1,\n",
    "                                     k_max / ((q - 1) / 2)),\n",
    "                           np.arange(-k_max, k_max + 1,\n",
    "                                     k_max / ((q - 1) / 2)))\n",
    "    coherent_transfer_funct = ((kxm ** 2 + kym ** 2) < cutoff_freq ** 2)\n",
    "    # E.g., convert from [[False, True, ..., False, False],\n",
    "    #                     ...,\n",
    "    #                     [True, False, ..., True, True]]\n",
    "    #                 to [[0, 1, ..., 0, 0],\n",
    "    #                     , ...,\n",
    "    #                     [1, 0, ..., 1, 1]] ('numpy.ndarray').\n",
    "    coherent_transfer_funct = coherent_transfer_funct.astype(float)\n",
    "    return p, q, dkx, dky, kx, ky, coherent_transfer_funct"
   ]
  },
  {
   "cell_type": "code",
   "execution_count": null,
   "metadata": {
    "collapsed": false
   },
   "outputs": [],
   "source": [
    "# Return a string that contains a sequence n-zeros followed by\n",
    "# num ('int') as 'str', for example, num_str_zeros(89, 4) returns\n",
    "# '0089'.\n",
    "def num_str_zeros(num, n_digs, matlab=False):\n",
    "    if matlab:  # Begin the numeration in the filenames with 1.\n",
    "        num += 1\n",
    "    len_num = len(str(num))\n",
    "    str_num = ''\n",
    "    for i in range(n_digs - len_num):\n",
    "        str_num += '0'\n",
    "    str_num += str(num)\n",
    "    return str_num"
   ]
  },
  {
   "cell_type": "code",
   "execution_count": null,
   "metadata": {
    "collapsed": false
   },
   "outputs": [],
   "source": [
    "# Return an array ('numpy.ndarray') with the sequence of Lo-Res\n",
    "# images which are also stored. Each image only contains the\n",
    "# amplitude information.\n",
    "def generate_lores_set(obj, cft, leds_prc, kx, ky, m, n, dkx, dky, p,\n",
    "                       q, **kwargs):\n",
    "    outpath = kwargs.pop('outpath', 'img-lores/')\n",
    "    prefix = kwargs.pop('prefix', 'lores_')\n",
    "    extension = kwargs.pop('extension', '.tiff')\n",
    "    obj_ft = np.fft.fftshift(np.fft.fft2(obj))\n",
    "    img_seq_lores = list()\n",
    "    for i in range(leds_prc ** 2):\n",
    "        kxc = round_half_up((m + 1) / 2.0 + kx[i] / dkx)\n",
    "        kyc = round_half_up((m + 1) / 2.0 + ky[i] / dky)\n",
    "        kyl = round_half_up(kyc - (p - 1) / 2.0);\n",
    "        kyh = round_half_up(kyc + (p - 1) / 2.0);\n",
    "        kxl = round_half_up(kxc - (q - 1) / 2.0);\n",
    "        kxh = round_half_up(kxc + (q - 1) / 2.0);\n",
    "        img_seq_lores_ft = (p / m) ** 2\n",
    "        img_seq_lores_ft *= obj_ft[kyl - 1:kyh, kxl - 1:kxh]\n",
    "        img_seq_lores_ft *= cft\n",
    "        img_lores = np.absolute(np.fft.ifft2(np.fft.ifftshift(img_seq_lores_ft)))\n",
    "        img_seq_lores.append(img_lores)\n",
    "        str_i = num_str_zeros(i, len(str(leds_prc ** 2)), True)\n",
    "        # scipy.misc.save() saves the TIFF file as 'uint8' [3].\n",
    "        #\n",
    "        # [3] Olsson, T. (2015). Saving 16-bit tiff files using Python. Retrieved from\n",
    "        # http://tjelvarolsson.com/blog/saving-16bit-tiff-files-using-python/\n",
    "        if not os.path.exists(outpath):\n",
    "            os.makedirs(outpath)\n",
    "        scipy.misc.imsave(outpath + prefix + str_i + extension, img_lores)\n",
    "    # plt_img = plt.imshow(img_seq_lores[109], cmap='Greys_r')\n",
    "    return np.array(img_seq_lores)    "
   ]
  },
  {
   "cell_type": "code",
   "execution_count": null,
   "metadata": {
    "collapsed": false
   },
   "outputs": [],
   "source": [
    "# Return a list with the image indexes to use. Using shift ('int'), it\n",
    "# is possible to change the central image.\n",
    "def get_idx_img_to_use(lenrow, lenuse, **kwargs):\n",
    "    matlab = kwargs.pop('matlab', False)\n",
    "    # To approximate even numbers.\n",
    "    lower = kwargs.pop('lower', False)\n",
    "    # Begin the selection down ('int') rows down.\n",
    "    down = kwargs.pop('down', 0)\n",
    "    # Begin the selection right ('int') columns right.\n",
    "    right = kwargs.pop('right', 0)\n",
    "    shift = kwargs.pop('shift', 0)\n",
    "    # The even numbers are approximated to the nearest lower integer.\n",
    "    if lower:\n",
    "        if lenrow % 2 == 0:\n",
    "            lenrow -= 1\n",
    "        if lenuse % 2 == 0:\n",
    "            lenuse -= 1\n",
    "    else:\n",
    "        if lenrow % 2 == 0:\n",
    "            lenrow += 1\n",
    "        if lenuse % 2 == 0:\n",
    "            lenuse += 1\n",
    "    arr = np.arange(lenrow ** 2)\n",
    "    if matlab:  # In Matlab, the indexes begin in 1.\n",
    "        arr = np.arange(1, lenrow ** 2 + 1)\n",
    "    arr = np.split(arr, lenrow)  # Here, arr is type 'list'.\n",
    "    # Convert arr ('list') to 'numpy.ndarray' to use advanced\n",
    "    # indexing, for example, arr[0:2, 9:89].\n",
    "    arr = np.array(arr)\n",
    "    limit_l_up = int((lenrow - lenuse) / 2)\n",
    "    limit_r_down = lenrow - limit_l_up\n",
    "    if shift != 0:  # Roll arr ('numpy.ndarray'). A negative\n",
    "                    # rotate it to left and positive number, to\n",
    "                    # right.\n",
    "        arr = np.roll(arr, shift)\n",
    "    arr = arr[limit_l_up - down :limit_r_down - down, limit_l_up + right:limit_r_down + right]\n",
    "    return list(arr.flat)"
   ]
  },
  {
   "cell_type": "code",
   "execution_count": null,
   "metadata": {
    "collapsed": false
   },
   "outputs": [],
   "source": [
    "# Return a array with the Lo-Res images as arrays.\n",
    "def get_set_from_folder(subsel, **kwargs):\n",
    "    path = kwargs.pop('path', 'img-lores/')\n",
    "    prefix = kwargs.pop('prefix', 'lores_')\n",
    "    extension = kwargs.pop('extension', '.tif')\n",
    "    # Sub selection of the set. subsel ('numpy.ndarray') contains\n",
    "    # the indexes of the images.\n",
    "    len_max_suffix = max(subsel)\n",
    "    n = kwargs.pop('n', 293)\n",
    "    l_imgs = list()\n",
    "    path = path + prefix\n",
    "    for i in range(len(subsel)):\n",
    "        filepath = path + num_str_zeros(subsel[i], len(str(len_max_suffix))) + extension \n",
    "        try:\n",
    "            img = Image.open(filepath)\n",
    "            arr_img = np.array(img, dtype='d')\n",
    "            img.close()\n",
    "            l_imgs.append(arr_img)\n",
    "        except IOError:\n",
    "            print('No such file or directory: ' + filepath)\n",
    "    return np.array(l_imgs)"
   ]
  }
 ],
 "metadata": {
  "anaconda-cloud": {},
  "kernelspec": {
   "display_name": "Python [Root]",
   "language": "python",
   "name": "Python [Root]"
  },
  "language_info": {
   "codemirror_mode": {
    "name": "ipython",
    "version": 3
   },
   "file_extension": ".py",
   "mimetype": "text/x-python",
   "name": "python",
   "nbconvert_exporter": "python",
   "pygments_lexer": "ipython3",
   "version": "3.5.2"
  }
 },
 "nbformat": 4,
 "nbformat_minor": 0
}
