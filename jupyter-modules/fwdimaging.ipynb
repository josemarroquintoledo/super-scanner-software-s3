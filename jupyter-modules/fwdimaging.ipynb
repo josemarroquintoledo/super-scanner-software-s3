{
 "cells": [
  {
   "cell_type": "code",
   "execution_count": null,
   "metadata": {
    "collapsed": true
   },
   "outputs": [],
   "source": [
    "__author__ = \"Jose David Marroquin Toledo\"\n",
    "__credits__ = [\"Jose David Marroquin Toledo\", ]\n",
    "__email__ = \"jose@marroquin.cl\"\n",
    "__status__ = \"Development\""
   ]
  },
  {
   "cell_type": "markdown",
   "metadata": {},
   "source": [
    "# Fourier Ptychographic Imaging\n",
    "\n",
    "## 1. Forward Imaging Model\n",
    "\n",
    "In this process, the sample is illuminated with one LED of the LED illuminator at time and a camera captures Lo-Res images under different incident angles. To simulate it, we have to:\n",
    "\n",
    "1. Create a Hi-Res complex image.\n",
    "\n",
    "2. Generate the incident wave vectors.\n",
    "\n",
    "3. Produce the ouput Lo-Res images.\n",
    "\n",
    "#####  [2. The Recovery Process](phaseretrieval.ipynb)"
   ]
  },
  {
   "cell_type": "code",
   "execution_count": null,
   "metadata": {
    "collapsed": false
   },
   "outputs": [],
   "source": [
    "from PIL import Image\n",
    "import numpy as np\n",
    "import math\n",
    "import matplotlib.pyplot as plt\n",
    "import decimal\n",
    "import scipy.misc\n",
    "import os"
   ]
  },
  {
   "cell_type": "code",
   "execution_count": null,
   "metadata": {
    "collapsed": true
   },
   "outputs": [],
   "source": [
    "%matplotlib inline"
   ]
  },
  {
   "cell_type": "markdown",
   "metadata": {},
   "source": [
    "#### 1.1. Create the Hi-Res complex image."
   ]
  },
  {
   "cell_type": "code",
   "execution_count": null,
   "metadata": {
    "collapsed": true
   },
   "outputs": [],
   "source": [
    "def generate_obj(amplitude, phase, **kwargs):\n",
    "    \"\"\"Generates the object to be photographed and returns it as a\n",
    "    numpy.ndarray.\n",
    "    \n",
    "    The object is a Hi-Res complex image.\"\"\"\n",
    "    show = kwargs.pop('show', False)  # Do I show the image in the\n",
    "                                      # current notebook?\n",
    "    if kwargs:\n",
    "        raise TypeError('{!s}() got an unexpected keyword argument {!r}'.format(generate_obj.__name__,\n",
    "                  list(kwargs.keys())[-1]))\n",
    "    amplitude = Image.open(amplitude)\n",
    "    phase = Image.open(phase)\n",
    "    w, h = amplitude.size\n",
    "    # Some programming languages such as MATLAB, the resize methods\n",
    "    # use bicubic interpolation by default.\n",
    "    phase = phase.resize((w, h), resample=Image.BICUBIC)\n",
    "    arr_ampl = np.array(amplitude,\n",
    "                        dtype='d')  # 'd' (str) for a double-precision\n",
    "                                    # floating-point number. \n",
    "    arr_phase = np.array(phase, dtype='d')\n",
    "    amplitude.close()\n",
    "    phase.close()\n",
    "    arr_phase = math.pi * arr_phase / np.amax(arr_phase)\n",
    "    obj = arr_ampl * np.exp(1j * arr_phase)\n",
    "    obj = np.absolute(obj)\n",
    "    if show:\n",
    "        # Using PIL, the objects are shown as images almost completely\n",
    "        # white.\n",
    "        #\n",
    "        # Using matplotlib anc 'Greys_r' (str) as value for cmap key\n",
    "        # [1], the object is shown such as in Matlab R2009b.\n",
    "        #\n",
    "        # [1] unutbu. (2010). Display image as grayscale using\n",
    "        # matplotlib [Msg 1]. Message posted to\n",
    "        # http://stackoverflow.com/questions/3823752/display-image-as-grayscale-using-matplotlib?answertab=votes#tab-top\n",
    "        plt_img = plt.imshow(obj, cmap='Greys_r')\n",
    "    return obj"
   ]
  },
  {
   "cell_type": "markdown",
   "metadata": {},
   "source": [
    "#### 1.2. Generate the incident wave vectors."
   ]
  },
  {
   "cell_type": "code",
   "execution_count": null,
   "metadata": {
    "collapsed": false
   },
   "outputs": [],
   "source": [
    "def gen_xy_led_ring(ledsperring, d):\n",
    "    \"\"\"Returns a partitioned list with the (x, y) coordinates of each\n",
    "    LED of ledsperring (list) spaced d (float) mm from another\n",
    "    neighboring in a LED ring.\"\"\"\n",
    "    l_xy = list()\n",
    "    l_row = list()\n",
    "    l = list()\n",
    "    for nleds in ledsperring:\n",
    "        r = (d * nleds) / (2.0 * math.pi)\n",
    "        theta_step = 360 // nleds  # For the next line, theta_step\n",
    "                                   # must be str.\n",
    "        range_theta = range(0, 360, theta_step)\n",
    "        range_theta = range_theta[:nleds]\n",
    "        for theta in range_theta:\n",
    "            x = r * math.cos(math.radians(theta))\n",
    "            y = r * math.sin(math.radians(theta))\n",
    "            l_xy.append((x, y))\n",
    "    order = math.ceil(math.sqrt(len(l_xy)))\n",
    "    for i in range(order):\n",
    "        for j in range(order):\n",
    "            l_row.append((0.0, 0.0))\n",
    "        l.append(l_row)\n",
    "        l_row = list()\n",
    "    len_lxy = len(l_xy)\n",
    "    for i in range(order):\n",
    "        for j in range(order):\n",
    "            idx = i * (order + 1) + j\n",
    "            if idx < len(l_xy):\n",
    "                l[i][j] = l_xy[idx]\n",
    "    return l"
   ]
  },
  {
   "cell_type": "code",
   "execution_count": null,
   "metadata": {
    "collapsed": true
   },
   "outputs": [],
   "source": [
    "def gen_xy_led_grid(n, d):\n",
    "    \"\"\"Returns a list with the (x, y) coordinates of each LED spaced d\n",
    "    (int) mm from another in a n-by-n LED grid.\"\"\"\n",
    "    l_xy = list()\n",
    "    x_max = math.floor((n / 2)) * d\n",
    "    x_min = -x_max\n",
    "    y_max = x_max\n",
    "    y_min = x_min\n",
    "    l_range = list(range(x_min, x_max + 1, int(d)))\n",
    "    l_row = list()\n",
    "    for i in l_range:\n",
    "        for j in l_range:\n",
    "            l_row.append((j, -i))  # (x, y)\n",
    "        l_xy.append(l_row)\n",
    "        l_row = list()\n",
    "    return l_xy"
   ]
  },
  {
   "cell_type": "code",
   "execution_count": null,
   "metadata": {
    "collapsed": false
   },
   "outputs": [],
   "source": [
    "def generate_wave_vectors(l_xy, height):\n",
    "    \"\"\"Returns a numpy.ndarray with tuples with magnitudes of the\n",
    "    components of the incident wave vectors that emerge from a LED\n",
    "    illuminator spaced height (float) mm from the sample. The location\n",
    "    of each LED in the illuminator is a tuple in l_xy (list).\"\"\"\n",
    "    arr = np.array(l_xy)\n",
    "    arr = arr / height\n",
    "    arr = np.arctan(arr)\n",
    "    arr = np.sin(arr)\n",
    "    return -arr"
   ]
  },
  {
   "cell_type": "code",
   "execution_count": null,
   "metadata": {
    "collapsed": true
   },
   "outputs": [],
   "source": [
    "def round_half_up(num):\n",
    "    \"\"\"In Python 3, the round() function had changed from Python 2.\n",
    "    For example, in Python 3, round(2.5) returns 2 ('int') such\n",
    "    round(1.5). It is possible to obtain 3 ('int') instead 2 using\n",
    "    the decimal module [2].\n",
    "    \n",
    "    [2] Barthelemy. (2014). Python 3.x rounding behavior. Message\n",
    "    posted to\n",
    "    http://stackoverflow.com/questions/10825926/python-3-x-rounding-behavior\n",
    "    \"\"\"\n",
    "    return int(decimal.Decimal(num).quantize(decimal.Decimal(1),\n",
    "                                             rounding=decimal.ROUND_HALF_UP))"
   ]
  },
  {
   "cell_type": "code",
   "execution_count": null,
   "metadata": {
    "collapsed": false
   },
   "outputs": [],
   "source": [
    "def get_cft(wave_vectors, wavelen, ccdpx, na, w, h):\n",
    "    \"\"\"Generates the coherent transfer function of the coherent\n",
    "    imaging system.\n",
    "    \n",
    "    Args:\n",
    "        wave_vectors: A numpy.ndarray with components (tuples) of wave\n",
    "            vectors.\n",
    "        wavelen: A wavelength in mm.\n",
    "        ccdpx: A sampling pixel size of the CCD (float).\n",
    "        na: A numerical aperture (float) of the objective lens.\n",
    "        w: The width in pixels (int) of the output Hi-Res output\n",
    "            image.\n",
    "        h: The height (int) of the output Hi-Res output.\n",
    "    \n",
    "    Returns:\n",
    "        p: The height of the output in pixels (int).\n",
    "        q: The width of the output (int).\n",
    "        dkx: A float number. See its formula in its assignment line.\n",
    "        dky: A float number. See its formula in its assignment line.\n",
    "        kx: A numpy.ndarray with x-components of k_0 * wave_vectors.\n",
    "        ky: A numpy.ndarray with y-components of k_0 * wave_vctors.\n",
    "        cft: The coherent transfer function (numpy.ndarray).\n",
    "    \"\"\"\n",
    "    k_0 = 2 * math.pi / wavelen\n",
    "    hirespx = ccdpx / 4  # Pixel size of the reconstruction.\n",
    "    dkx = 2 * math.pi / (hirespx * w)\n",
    "    dky = 2 * math.pi / (hirespx * h)\n",
    "    p = int(h / (ccdpx / hirespx))  \n",
    "    q = int(w / (ccdpx / hirespx))  # Number of columns of the output.\n",
    "    k = k_0 * wave_vectors;\n",
    "    # From all rows, all columns, extract the first element.\n",
    "    kx = k[:, :, 0]\n",
    "    # Reshape xk ('numpy.ndarray') in 1-D array.\n",
    "    kx = np.reshape(kx, len(kx.flat))\n",
    "    ky = k[:, :, 1]\n",
    "    ky = np.reshape(ky, len(ky.flat))\n",
    "    cutoff_freq = na * k_0\n",
    "    k_max = math.pi / ccdpx\n",
    "    kxm, kym = np.meshgrid(np.arange(-k_max, k_max + 1,\n",
    "                                     k_max / ((q - 1) / 2)),\n",
    "                           np.arange(-k_max, k_max + 1,\n",
    "                                     k_max / ((p - 1) / 2)))\n",
    "    cft = ((kxm ** 2 + kym ** 2) < cutoff_freq ** 2)\n",
    "    cft = cft.astype(float)\n",
    "    return p, q, dkx, dky, kx, ky, cft"
   ]
  },
  {
   "cell_type": "markdown",
   "metadata": {},
   "source": [
    "#### 3. Produce the ouput Lo-Res images."
   ]
  },
  {
   "cell_type": "code",
   "execution_count": null,
   "metadata": {
    "collapsed": false
   },
   "outputs": [],
   "source": [
    "def num_str_zeros(num, n_digs, firstis1=False):\n",
    "    \"\"\"Returns a string that contains a sequence of n_digs - len(num)\n",
    "    zeros followed by num (int).\n",
    "    \n",
    "    Args:\n",
    "        num: A non-negative integer number.\n",
    "        n_digs: The length of the string that will contains zeros and\n",
    "            num.\n",
    "        firstis1: Plus 1 to num if it is True. It is useful for\n",
    "            filenames.\n",
    "    \n",
    "    >>> num_str_zeros(89, 5)\n",
    "    '00089'\n",
    "    >>> num_str_zeros(0, 4, True)\n",
    "    '0001'\n",
    "    \"\"\"\n",
    "    if num < 0:\n",
    "        num = 0\n",
    "    if firstis1:\n",
    "        num += 1\n",
    "    len_num = len(str(int(num)))\n",
    "    str_num = ''\n",
    "    for i in range(n_digs - len_num):\n",
    "        str_num += '0'\n",
    "    str_num += str(int(num))\n",
    "    return str_num"
   ]
  },
  {
   "cell_type": "code",
   "execution_count": null,
   "metadata": {
    "collapsed": true
   },
   "outputs": [],
   "source": [
    "def find_out_dir(**kwargs):\n",
    "    \"\"\"Find out a directory and returns the route.\n",
    "    \n",
    "    With replace (bool) equal to False, this will create a new\n",
    "    directory if dirname (string) exists in <s3out>/<parentdir>/\n",
    "    \n",
    "    From blendjupyter.ipynb (Blender kernel).\"\"\"\n",
    "    s3out = kwargs.pop('s3out',\n",
    "                       os.path.join(os.path.expanduser('~'),\n",
    "                                    's3-out'))\n",
    "    dirname = kwargs.pop('dirname', 'blend-phg-set-0001')\n",
    "    parentdir = kwargs.pop('parentdir', 'scanner')\n",
    "    path = kwargs.pop('path', os.path.join(s3out, parentdir, dirname))\n",
    "    replace = kwargs.pop('replace', False)\n",
    "    if kwargs:\n",
    "        raise TypeError('{!s}() got an unexpected keyword argument {!r}'.format(find_out_dir.__name__,\n",
    "                  list(kwargs.keys())[-1]))\n",
    "    if not replace:\n",
    "        # Create a new direcctory with a different name.\n",
    "        while True:\n",
    "            if not os.path.exists(path):\n",
    "                print('Make directory:', path)\n",
    "                os.makedirs(path)\n",
    "                break\n",
    "            else:\n",
    "                str_num = path.split('-')[-1]\n",
    "                num_dir = int(str_num)\n",
    "                num_dir += 1\n",
    "                str_num_dir = num_str_zeros(num_dir, len(str_num))\n",
    "                path = ('-'.join(path.split('-')[:-1]) + '-'\n",
    "                        + str_num_dir)\n",
    "    return path"
   ]
  },
  {
   "cell_type": "code",
   "execution_count": null,
   "metadata": {
    "collapsed": false
   },
   "outputs": [],
   "source": [
    "def generate_lores_set(obj, cft, leds, kx, ky, w, h, dkx, dky, p, q,\n",
    "                       outpath, **kwargs):\n",
    "    \"\"\"Generates a low-resolution photo set and returns it as a\n",
    "    numpy.ndarray in which each photo is immediately taken after a LED\n",
    "    lights the sample.\n",
    "    \n",
    "    Each image only contains the amplitude information.\n",
    "    \n",
    "    Args:\n",
    "        obj: A Hi-Res complex input image.\n",
    "        cft: The coherent transfer function (numpy.ndarray).\n",
    "        leds: A number of LEDs used during the photo capture process.\n",
    "        kx: A numpy.ndarray with x-components of k_0 * wave_vectors.\n",
    "            See get_cft().\n",
    "        ky: A numpy.ndarray with y-components of k_0 * wave_vctors.\n",
    "            See get_cft().\n",
    "        w: The width in pixels (int) of the output Hi-Res output\n",
    "            image.\n",
    "        h: The height (int) of the output Hi-Res output.\n",
    "        dkx: A float number. See get_cft().\n",
    "        dky: A float number. See get_cft().\n",
    "        p: The height of the output in pixels (int).\n",
    "        q: The width of the output (int).\n",
    "        outpath: A route for the output Lo-Res images.\n",
    "        **kwargs: Keyword arguments. See inline comments.\n",
    "    \"\"\"\n",
    "    prefix = kwargs.pop('prefix', 'lores-img_')  # Prefix in the name\n",
    "                                                 # of the output file.\n",
    "    extension = kwargs.pop('extension', '.tif')  # Extension of the\n",
    "                                                 # output file.\n",
    "    if kwargs:\n",
    "        raise TypeError('{!s}() got an unexpected keyword argument {!r}'.format(generate_lores_set.__name__,\n",
    "                  list(kwargs.keys())[-1]))\n",
    "    obj_ft = np.fft.fftshift(np.fft.fft2(obj))\n",
    "    lores_imgs_seq = list()  # The Lo-Res images sequence.\n",
    "    for i in range(leds):\n",
    "        kxc = round_half_up((w + 1) / 2.0 + kx[i] / dkx)\n",
    "        kyc = round_half_up((h + 1) / 2.0 + ky[i] / dky)\n",
    "        kyl = round_half_up(kyc - (p - 1) / 2.0);\n",
    "        kyh = round_half_up(kyc + (p - 1) / 2.0);\n",
    "        kxl = round_half_up(kxc - (q - 1) / 2.0);\n",
    "        kxh = round_half_up(kxc + (q - 1) / 2.0);\n",
    "        lores_imgs_seq_ft = (p / h) ** 2\n",
    "        lores_imgs_seq_ft *= obj_ft[kyl - 1:kyh, kxl - 1:kxh]\n",
    "        lores_imgs_seq_ft *= cft\n",
    "        img_lores = np.fft.ifft2(np.fft.ifftshift(lores_imgs_seq_ft))\n",
    "        img_lores = np.absolute(img_lores)\n",
    "        lores_imgs_seq.append(img_lores)\n",
    "        str_i = num_str_zeros(i, len(str(leds)), True)\n",
    "        filename = prefix + str_i + extension\n",
    "        img_path = os.path.join(outpath, filename)\n",
    "        # scipy.misc.imsave() rescales the dynamic range of the pixel\n",
    "        # values [3]. Add cmin and cmax as parameters to\n",
    "        # scipy.misc.toimage() as follow to prevent the rescaling.\n",
    "        # \n",
    "        # [3] Lippens, S. (2016). Saving of images in scipy and\n",
    "        # preventing dynamic range rescaling.\n",
    "        scipy.misc.toimage(img_lores, cmin=0, cmax=255).save(img_path)\n",
    "        print('Saved Lo-Res image:', img_path)\n",
    "    return np.array(lores_imgs_seq)"
   ]
  },
  {
   "cell_type": "code",
   "execution_count": null,
   "metadata": {
    "collapsed": true
   },
   "outputs": [],
   "source": [
    "def simulate_set(leds, **kwargs):\n",
    "    \"\"\"Carries out all steps of capturing photos process in the\n",
    "    Fourier Ptychography algorithm and returns the images as a\n",
    "    three-dimensional numpy.ndarray.\n",
    "    \n",
    "    Args:\n",
    "        leds: A number of LEDs (int) per row or column of a squared\n",
    "            LED illuminator or a list of positive integer numbers that\n",
    "            represent the number of LEDs per ring from the center to\n",
    "            the edge in a LED ring illuminator.\n",
    "        **kwargs: Keyword arguments. See inline comments.\n",
    "    \"\"\"\n",
    "    s3path = kwargs.pop('s3path',\n",
    "                        os.path.join(os.path.expanduser('~'),\n",
    "                                     'super-scanner-software-s3'))\n",
    "    outpath = kwargs.pop('outpath',\n",
    "                         find_out_dir(dirname='lores-set-0001',\n",
    "                                      parentdir='microscope'))\n",
    "    ext = kwargs.pop('ext', '.tif')  # Extension of the output files.\n",
    "    # Does the first image have a 1 at the end of its filename?\n",
    "    namefrom1 = kwargs.pop('namefrom1', True)\n",
    "    wavelen = kwargs.pop('wavelen', 0.63e-6)  # In mm.\n",
    "    ccdpx = kwargs.pop('ccdpx', 2.75e-6)  # Sampling pixel size of the\n",
    "                                          # CCD.\n",
    "    na = kwargs.pop('na', 0.08)  # Numerical aperture of the employed\n",
    "                                 # objective lens.\n",
    "    d = kwargs.pop('d', 5)  # Distance in mm between neighboring LEDs.\n",
    "    h = kwargs.pop('h', 90)  # Distance in mm between the LED\n",
    "                             # illuminator and the sample.\n",
    "    amplitude = kwargs.pop('amplitude', os.path.join(s3path, 'img',\n",
    "                    'Alberto-Romero_Tornillos_flickr_1024x683.tif'))\n",
    "    phase = kwargs.pop('phase', os.path.join(s3path, 'img',\n",
    "                'pabloaez_Valparaiso-054_flickr_4000x3000.png'))\n",
    "    if kwargs:\n",
    "        raise TypeError('{!s}() got an unexpected keyword argument {!r}'.format(simulate_set.__name__,\n",
    "                  list(kwargs.keys())[-1]))\n",
    "    hirespx = ccdpx / 4  # Pixel size of the reconstruction.\n",
    "    l_xy_leds = list()  # List for the (x, y) coordinates of the LED\n",
    "                        # illuminator.\n",
    "    if isinstance(leds, int):\n",
    "        l_xy_leds = gen_xy_led_grid(leds, d)\n",
    "        n_leds = leds ** 2\n",
    "    elif all(isinstance(led, int) and led > 0 for led in leds):\n",
    "        # leds is a list of integer numbers.\n",
    "        l_xy_leds = gen_xy_led_ring(leds, d)\n",
    "        n_leds = sum(leds)        \n",
    "    wvs = generate_wave_vectors(l_xy_leds, h)\n",
    "    in_obj = generate_obj(amplitude, phase)\n",
    "    hpx, wpx = in_obj.shape\n",
    "    p, q, dkx, dky, kx, ky, cft = get_cft(wvs, wavelen, ccdpx, na,\n",
    "                                          wpx, hpx)\n",
    "    lores_imgs_seq = generate_lores_set(in_obj, cft, n_leds, kx, ky,\n",
    "                                        wpx, hpx, dkx, dky, p, q,\n",
    "                                        outpath, extension=ext)\n",
    "    return lores_imgs_seq"
   ]
  }
 ],
 "metadata": {
  "anaconda-cloud": {},
  "kernelspec": {
   "display_name": "Python [default]",
   "language": "python",
   "name": "python3"
  },
  "language_info": {
   "codemirror_mode": {
    "name": "ipython",
    "version": 3
   },
   "file_extension": ".py",
   "mimetype": "text/x-python",
   "name": "python",
   "nbconvert_exporter": "python",
   "pygments_lexer": "ipython3",
   "version": "3.5.2"
  }
 },
 "nbformat": 4,
 "nbformat_minor": 0
}
