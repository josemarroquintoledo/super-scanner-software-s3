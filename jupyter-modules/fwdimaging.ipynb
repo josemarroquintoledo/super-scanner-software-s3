{
 "cells": [
  {
   "cell_type": "markdown",
   "metadata": {},
   "source": [
    "## 1. Forward Imaging Model\n",
    "In this process, the sample is illuminated with one LED of the grid at time and a camera captures Lo-Res images under different incident angles. To simulate it, we have to:\n",
    "\n",
    "1. Create a Hi-Res complex image.\n",
    "\n",
    "2. Generate the incident wave vectors.\n",
    "\n",
    "3. Produce the ouput Lo-Res images."
   ]
  },
  {
   "cell_type": "code",
   "execution_count": 1,
   "metadata": {
    "collapsed": false
   },
   "outputs": [],
   "source": [
    "from PIL import Image\n",
    "import numpy as np\n",
    "import math\n",
    "import matplotlib.pyplot as plt\n",
    "import decimal\n",
    "import scipy.misc\n",
    "import os"
   ]
  },
  {
   "cell_type": "code",
   "execution_count": 2,
   "metadata": {
    "collapsed": false
   },
   "outputs": [],
   "source": [
    "%matplotlib inline"
   ]
  },
  {
   "cell_type": "code",
   "execution_count": 3,
   "metadata": {
    "collapsed": true
   },
   "outputs": [],
   "source": [
    "# 1. Create the Hi-Res complex image.\n",
    "# Return the complex object ('numpy.ndarray'). It can also show it in the notebook.\n",
    "def generate_input_obj(**kwargs):\n",
    "    amplitude = kwargs.pop('amplitude', '../img/cameraman.tif')\n",
    "    phase = kwargs.pop('phase', '../img/westconcordorthophoto.png')\n",
    "    show = kwargs.pop('show', False)\n",
    "    amplitude = Image.open(amplitude)\n",
    "    phase = Image.open(phase)\n",
    "    phase = phase.resize((256, 256), resample=Image.BICUBIC)  # In MATLAB, imresize uses bicubic interpolation\n",
    "                                                              # by default.\n",
    "    arr_amplitude = np.array(amplitude, dtype='d')  # 'd' ('str') is a character code for a\n",
    "                                                    # double-precision floating-point number.\n",
    "    arr_phase = np.array(phase, dtype='d')\n",
    "    arr_phase = 1j * arr_phase / np.amax(arr_phase)\n",
    "    arr_obj = arr_amplitude * np.exp(math.pi * arr_phase)\n",
    "    arr_obj = np.absolute(arr_obj)  # The Hi-Res complex image.\n",
    "    if show:\n",
    "        # Using PIL, the objects is shown as an image almost completely white.\n",
    "        # img_obj = Image.fromarray(arr_obj)\n",
    "        # img_obj.show()\n",
    "        # Using matplotlib anc 'Greys_r' ('str') as value for cmap key [1],\n",
    "        # the object is shown like in Matlab R2009b.\n",
    "        #\n",
    "        # [1] unutbu. (2010). Display image as grayscale using matplotlib [Msg 1]. Message posted to\n",
    "        # http://stackoverflow.com/questions/3823752/display-image-as-grayscale-using-matplotlib?answertab=votes#tab-top\n",
    "        plt_img = plt.imshow(arr_obj, cmap='Greys_r')\n",
    "    return arr_obj"
   ]
  },
  {
   "cell_type": "code",
   "execution_count": 4,
   "metadata": {
    "collapsed": false
   },
   "outputs": [],
   "source": [
    "# 2. Generate the incident wave vectors.\n",
    "# Return a n-by-n array ('numpy.ndarray') with magnitude of the x-component, kx, and y-component,\n",
    "# ky, of the wave vectors of the incident waves that emerge from the LED grid, and the length\n",
    "# ('int') of the grid.\n",
    "def generate_wave_vectors(**kwargs):\n",
    "    n = kwargs.pop('n', 15)  # Order of the n-by-n array.\n",
    "    dist = kwargs.pop('dist', 4)  # Distance in mm between LEDs.\n",
    "    h = kwargs.pop('h', 90)  # Distance in mm between the LED grid and the sample.\n",
    "    x_max = math.floor((n / 2)) * dist\n",
    "    x_min = -x_max\n",
    "    y_max = x_max\n",
    "    y_min = x_min\n",
    "    l_row = list()\n",
    "    l_arr = list()\n",
    "    l_range = list(range(x_min, x_max + 1, dist))  # xy_max (int) + 1 to include xy_max.\n",
    "    for i in l_range:\n",
    "        for j in l_range:\n",
    "            l_row.append((j, -i))\n",
    "        l_arr.append(l_row)\n",
    "        l_row = list()\n",
    "    arr = np.array(l_arr)  # arr ('numpy.ndarray') contains (x, y) coordinates.\n",
    "    arr = arr / h\n",
    "    arr = np.arctan(arr)\n",
    "    arr = np.sin(arr)\n",
    "    arr = -arr\n",
    "    return arr, n"
   ]
  },
  {
   "cell_type": "code",
   "execution_count": 5,
   "metadata": {
    "collapsed": true
   },
   "outputs": [],
   "source": [
    "# In Python 3, the round() function had changed. For example, round(2.5) returns 2 ('int') like\n",
    "# round(1.5). It is possible to obtain 3 ('int') for 2.5 rounded using the decimal module [2].\n",
    "#\n",
    "# [2] Barthelemy. (2014). Python 3.x rounding behavior. Message posted to\n",
    "# http://stackoverflow.com/questions/10825926/python-3-x-rounding-behavior\n",
    "def round_half_up(num):\n",
    "    return int(decimal.Decimal(num).quantize(decimal.Decimal(1),\n",
    "                                         rounding=decimal.ROUND_HALF_UP))"
   ]
  },
  {
   "cell_type": "code",
   "execution_count": 8,
   "metadata": {
    "collapsed": false
   },
   "outputs": [],
   "source": [
    "# 3. Produce the output images.\n",
    "# Return an array ('numpy.ndarray') with the sequence of Lo-Res images. Each image only contains\n",
    "# the amplitude information.\n",
    "def generate_output_img(hires_obj, wave_vectors, grid_len, **kwargs):\n",
    "    outpath = kwargs.pop('outpath', '../out-img-lores/')\n",
    "    prefix = kwargs.pop('prefix', 'lores_')\n",
    "    extension = kwargs.pop('extension', '.tiff')\n",
    "    wavelen = kwargs.pop('wavelen', 0.63e-6)\n",
    "    ccdpx = kwargs.pop('ccdpx', 2.75e-6)  # Sampling pixel size of the CCD.\n",
    "    hirespx = kwargs.pop('hirespx', ccdpx / 4)  # Pixel size of the reconstruction\n",
    "    pathlores = kwargs.pop('pathlores', '../img-lores/')\n",
    "    na = kwargs.pop('na', 0.08)  # Numerical aperture of the employed objective lens.\n",
    "    k_0 = 2 * math.pi / wavelen;\n",
    "    m, n = np.shape(hires_obj)\n",
    "    p = int(m / (ccdpx / hirespx))  # Number of rows of the output image.\n",
    "    q = int(n / (ccdpx / hirespx))  # Number of columns of the output image.\n",
    "    img_seq_lores = list()\n",
    "    k = k_0 * wave_vectors;\n",
    "    kx = k[:, :, 0]  # From all rows, all columns, extract the first element.\n",
    "    kx = np.reshape(kx, len(kx.flat))  # Reshape xk ('numpy.ndarray') in 1-D array.\n",
    "    ky = k[:, :, 1]\n",
    "    ky = np.reshape(ky, len(ky.flat))\n",
    "    dkx = 2 * math.pi / (hirespx * n)\n",
    "    dky = 2 * math.pi / (hirespx * m)\n",
    "    cutoff_freq = na * k_0\n",
    "    k_max = math.pi / ccdpx\n",
    "    kxm, kym = np.meshgrid(np.arange(-k_max, k_max + 1, k_max / ((q - 1) / 2)),\n",
    "                           np.arange(-k_max, k_max + 1, k_max / ((q - 1) / 2)))\n",
    "    coherent_transfer_funct = ((kxm ** 2 + kym ** 2) < cutoff_freq ** 2)\n",
    "    # E.g., convert from [[False, True, ..., False, False],\n",
    "    #                     ...,\n",
    "    #                     [True, False, ..., True, True]]\n",
    "    #                 to [[0, 1, ..., 0, 0],\n",
    "    #                     , ...,\n",
    "    #                     [1, 0, ..., 1, 1]] ('numpy.ndarray').\n",
    "    coherent_transfer_funct = coherent_transfer_funct.astype(float)\n",
    "    obj_ft = np.fft.fftshift(np.fft.fft2(hires_obj))\n",
    "    for i in range(0, grid_len ** 2):\n",
    "        kxc = round_half_up((m + 1) / 2 + kx[i] / dkx)\n",
    "        kyc = round_half_up((m + 1) / 2 + ky[i] / dky)\n",
    "        kyl = round_half_up(kyc - (p - 1) / 2.0);\n",
    "        kyh = round_half_up(kyc + (p - 1) / 2.0);\n",
    "        kxl = round_half_up(kxc - (q - 1) / 2.0);\n",
    "        kxh = round_half_up(kxc + (q - 1) / 2.0);\n",
    "        img_seq_lores_ft = (p / m) ** 2\n",
    "        img_seq_lores_ft *= obj_ft[kyl - 1:kyh, kxl - 1:kxh]\n",
    "        img_seq_lores_ft *= coherent_transfer_funct\n",
    "        img_lores = np.absolute(np.fft.ifft2(np.fft.ifftshift(img_seq_lores_ft)))\n",
    "        img_seq_lores.append(img_lores)\n",
    "        # scipy.misc.save() saves the TIFF file as 'uint8' [3].\n",
    "        #\n",
    "        # Olsson, T. (2015). Saving 16-bit tiff files using Python. Retrieved from\n",
    "        # http://tjelvarolsson.com/blog/saving-16bit-tiff-files-using-python/\n",
    "        if not os.path.exists(outpath):\n",
    "            os.makedirs(outpath)\n",
    "        scipy.misc.imsave(outpath + prefix + str(i) + extension, img_lores)\n",
    "    # plt_img = plt.imshow(img_seq_lores[109], cmap='Greys_r')\n",
    "    return np.array(img_seq_lores)"
   ]
  },
  {
   "cell_type": "markdown",
   "metadata": {},
   "source": [
    "## References\n",
    "Zheng, G. (2015). *Fourier Ptychographic Imaging: A MATLAB&reg; tutorial*. San Rafael, CA: Morgan &amp; Claypool Publishers.  "
   ]
  }
 ],
 "metadata": {
  "anaconda-cloud": {},
  "kernelspec": {
   "display_name": "Python [Root]",
   "language": "python",
   "name": "Python [Root]"
  },
  "language_info": {
   "codemirror_mode": {
    "name": "ipython",
    "version": 3
   },
   "file_extension": ".py",
   "mimetype": "text/x-python",
   "name": "python",
   "nbconvert_exporter": "python",
   "pygments_lexer": "ipython3",
   "version": "3.5.2"
  }
 },
 "nbformat": 4,
 "nbformat_minor": 0
}
