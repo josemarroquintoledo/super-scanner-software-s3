{
 "cells": [
  {
   "cell_type": "code",
   "execution_count": null,
   "metadata": {
    "collapsed": true
   },
   "outputs": [],
   "source": [
    "__author__ = \"Jose David Marroquin Toledo\"\n",
    "__credits__ = [\"Jose David Marroquin Toledo\", ]\n",
    "__email__ = \"jose@marroquin.cl\"\n",
    "__status__ = \"Development\""
   ]
  },
  {
   "cell_type": "markdown",
   "metadata": {},
   "source": [
    "# Fourier Ptychographic Imaging\n",
    "\n",
    "## 1. Forward Imaging Model\n",
    "\n",
    "In this process, the sample is illuminated with one LED of the grid at time and a camera captures Lo-Res images under different incident angles. To simulate it, we have to:\n",
    "\n",
    "1. Create a Hi-Res complex image.\n",
    "\n",
    "2. Generate the incident wave vectors.\n",
    "\n",
    "3. Produce the ouput Lo-Res images.\n",
    "\n",
    "#####  [2. The Recovery Process](phaseretrieval.ipynb)"
   ]
  },
  {
   "cell_type": "code",
   "execution_count": null,
   "metadata": {
    "collapsed": false
   },
   "outputs": [],
   "source": [
    "from PIL import Image\n",
    "import numpy as np\n",
    "import math\n",
    "import matplotlib.pyplot as plt\n",
    "import decimal\n",
    "import scipy.misc\n",
    "import os"
   ]
  },
  {
   "cell_type": "markdown",
   "metadata": {},
   "source": [
    "#### 1.1. Create the Hi-Res complex image."
   ]
  },
  {
   "cell_type": "code",
   "execution_count": null,
   "metadata": {
    "collapsed": true
   },
   "outputs": [],
   "source": [
    "def generate_obj(amplitude, phase, **kwargs):\n",
    "    \"\"\"Return the Hi-Res complex object ('numpy.ndarray'), the sample.\n",
    "    \"\"\"\n",
    "    # Show the output image in the notebook.\n",
    "    show = kwargs.pop('show', False)\n",
    "    if kwargs:\n",
    "        raise TypeError('{!s}() got an unexpected keyword argument {!r}'.format(generate_obj.__name__, list(kwargs.keys())[-1]))\n",
    "    amplitude = Image.open(amplitude)\n",
    "    phase = Image.open(phase)\n",
    "    w, h = amplitude.size  # It is not the same that\n",
    "                           # np.ndarray.shape()\n",
    "    # In MATLAB, imresize uses bicubic interpolation by default.\n",
    "    phase = phase.resize((w, h), resample=Image.BICUBIC)\n",
    "    # 'd' ('str') is a character code for a double-precision\n",
    "    # floating-point number.\n",
    "    arr_amplitude = np.array(amplitude, dtype='d')\n",
    "    arr_phase = np.array(phase, dtype='d')\n",
    "    amplitude.close()\n",
    "    phase.close()\n",
    "    arr_phase = math.pi * arr_phase / np.amax(arr_phase)\n",
    "    obj = arr_amplitude * np.exp(1j * arr_phase)\n",
    "    obj = np.absolute(obj)  # The Hi-Res complex image.\n",
    "    if show:\n",
    "        # Using PIL, the objects is shown as an image almost\n",
    "        # completely white.\n",
    "        # img_obj = Image.fromarray(obj)\n",
    "        # img_obj.show()\n",
    "        # Using matplotlib anc 'Greys_r' ('str') as value for 'cmap'\n",
    "        # key [1], the object is shown like in Matlab R2009b.\n",
    "        #\n",
    "        # [1] unutbu. (2010). Display image as grayscale using matplotlib [Msg 1]. Message posted to\n",
    "        # http://stackoverflow.com/questions/3823752/display-image-as-grayscale-using-matplotlib?answertab=votes#tab-top\n",
    "        plt_img = plt.imshow(obj, cmap='Greys_r')\n",
    "    return obj"
   ]
  },
  {
   "cell_type": "markdown",
   "metadata": {},
   "source": [
    "#### 1.2. Generate the incident wave vectors."
   ]
  },
  {
   "cell_type": "code",
   "execution_count": null,
   "metadata": {
    "collapsed": false
   },
   "outputs": [],
   "source": [
    "def gen_xy_ring_led(d, ledsperring):\n",
    "    \"\"\"Return a list with the (x, y) coordinates of each LED of a LED\n",
    "    ring.\n",
    "    \n",
    "    d ('int') is the distance in mm between LEDs and ledsperring\n",
    "    ('int') is a list with the number of LEDs per ring from the\n",
    "    center of this.\"\"\"\n",
    "    l_coord = list()\n",
    "    l_row = list()\n",
    "    for nleds in ledsperring:\n",
    "        r = (d * nleds) / (2.0 * math.pi)\n",
    "        theta_step = int(360 / nleds)\n",
    "        range_theta = range(0, 360, theta_step)\n",
    "        range_theta = range_theta[:nleds]\n",
    "        for theta in range_theta:\n",
    "            x = r * math.cos(math.radians(theta))\n",
    "            y = r * math.sin(math.radians(theta))\n",
    "            l_row.append((x, y))\n",
    "        l_coord.append(l_row)\n",
    "        l_row = list()\n",
    "    return l_coord"
   ]
  },
  {
   "cell_type": "code",
   "execution_count": null,
   "metadata": {
    "collapsed": true
   },
   "outputs": [],
   "source": [
    "def gen_xy_led_grid(n, d):\n",
    "    \"\"\"Return a list with the (x, y) coordinates of each LED of a\n",
    "    n-by-n LED grid.\n",
    "    \n",
    "    n ('int') is the number of LEDs per row or per column in the grid\n",
    "    LED and d is the distance in mm between LEDs.\n",
    "    \"\"\"\n",
    "    l_coord = list()\n",
    "    x_max = math.floor((n / 2)) * d\n",
    "    x_min = -x_max\n",
    "    y_max = x_max\n",
    "    y_min = x_min\n",
    "    l_range = list(range(x_min, x_max + 1, d))\n",
    "    l_row = list()\n",
    "    for i in l_range:\n",
    "        for j in l_range:\n",
    "            l_row.append((j, -i))  # (x, y, z)\n",
    "        l_coord.append(l_row)\n",
    "        l_row = list()\n",
    "    return l_coord"
   ]
  },
  {
   "cell_type": "code",
   "execution_count": null,
   "metadata": {
    "collapsed": false
   },
   "outputs": [],
   "source": [
    "def generate_wave_vectors(l_coord, height):\n",
    "    \"\"\"Return an array ('numpy.ndarray') with the magnitude of\n",
    "    the x-component and y-component of the incident wave vectors that\n",
    "    emerge from a LED illuminator. Each LED is represented by a \n",
    "    (x, y) tuple in l_coord ('list').\n",
    "    \n",
    "    height ('int') is the distance between the LED illuminator and\n",
    "    the sample.\n",
    "    \"\"\"\n",
    "    arr = np.array(l_coord)  # arr ('numpy.ndarray') contains (x, y)\n",
    "                             # coordinates.\n",
    "    arr = arr / height\n",
    "    arr = np.arctan(arr)\n",
    "    arr = np.sin(arr)\n",
    "    arr = -arr\n",
    "    return arr"
   ]
  },
  {
   "cell_type": "code",
   "execution_count": null,
   "metadata": {
    "collapsed": true
   },
   "outputs": [],
   "source": [
    "def round_half_up(num):\n",
    "    \"\"\"In Python 3, the round() function had changed. For example,\n",
    "    round(2.5) returns 2 ('int') like round(1.5). It is possible to\n",
    "    obtain 3 ('int') for 2.5 rounded using the decimal module [2].\n",
    "    \n",
    "    [2] Barthelemy. (2014). Python 3.x rounding behavior. Message\n",
    "    posted to\n",
    "    http://stackoverflow.com/questions/10825926/python-3-x-rounding-behavior\n",
    "    \"\"\"\n",
    "    return int(decimal.Decimal(num).quantize(decimal.Decimal(1),\n",
    "                                             rounding=decimal.ROUND_HALF_UP))"
   ]
  },
  {
   "cell_type": "code",
   "execution_count": null,
   "metadata": {
    "collapsed": false
   },
   "outputs": [],
   "source": [
    "def get_cft(wave_vectors, wavelen, ccdpx, zoom, na, w, h):\n",
    "    \"\"\"Return the number of rows and columns of the Hi-Res output,\n",
    "    vector waves, dkx ('float') and dky ('float'), and the coherent\n",
    "    transfer function of the objective.\n",
    "    \n",
    "    wave_vectors is a numpy.ndarray, wavelen is a int, ccdpx ('float')\n",
    "    is the sampling pixel size of the CCD, hirespx ('float') is the\n",
    "    pixel size of the reconstruction, na ('float') is the numerical\n",
    "    aperture of the lens, w ('int') the width in pixels of the output\n",
    "    Hi-Res image and h ('int') its height. zoom ('int') is a STRANGE\n",
    "    PARAMETER but it acts as it were a zoom.\n",
    "    \"\"\"\n",
    "    k_0 = 2 * math.pi / wavelen\n",
    "    hirespx = ccdpx / zoom\n",
    "    dkx = 2 * math.pi / (hirespx * w)\n",
    "    dky = 2 * math.pi / (hirespx * h)\n",
    "    p = int(h / (ccdpx / hirespx))  # Number of rows of the output.\n",
    "    q = int(w / (ccdpx / hirespx))  # Number of columns of the output.\n",
    "    img_seq_lores = list()\n",
    "    k = k_0 * wave_vectors;\n",
    "    # From all rows, all columns, extract the first element.\n",
    "    kx = k[:, :, 0]\n",
    "    # Reshape xk ('numpy.ndarray') in 1-D array.\n",
    "    kx = np.reshape(kx, len(kx.flat))\n",
    "    ky = k[:, :, 1]\n",
    "    ky = np.reshape(ky, len(ky.flat))\n",
    "    cutoff_freq = na * k_0\n",
    "    k_max = math.pi / ccdpx\n",
    "    kxm, kym = np.meshgrid(np.arange(-k_max, k_max + 1,\n",
    "                                     k_max / ((q - 1) / 2)),\n",
    "                           np.arange(-k_max, k_max + 1,\n",
    "                                     k_max / ((p - 1) / 2)))\n",
    "    coherent_transfer_funct = ((kxm ** 2 + kym ** 2) < cutoff_freq ** 2)\n",
    "    # E.g., convert from [[False, True, ..., False, False],\n",
    "    #                     ...,\n",
    "    #                     [True, False, ..., True, True]]\n",
    "    #                 to [[0, 1, ..., 0, 0],\n",
    "    #                     , ...,\n",
    "    #                     [1, 0, ..., 1, 1]] ('numpy.ndarray').\n",
    "    coherent_transfer_funct = coherent_transfer_funct.astype(float)\n",
    "    return p, q, dkx, dky, kx, ky, coherent_transfer_funct"
   ]
  },
  {
   "cell_type": "markdown",
   "metadata": {},
   "source": [
    "#### 3. Produce the ouput Lo-Res images."
   ]
  },
  {
   "cell_type": "code",
   "execution_count": null,
   "metadata": {
    "collapsed": false
   },
   "outputs": [],
   "source": [
    "def num_str_zeros(num, n_digs, matlab=False):\n",
    "    \"\"\"Return a string that contains a sequence n-zeros followed by\n",
    "    num ('int') as 'str', for example, num_str_zeros(89, 4) returns\n",
    "    '0089'.\n",
    "    \"\"\"\n",
    "    if matlab:  # Begin the numeration in the filenames with 1.\n",
    "        num += 1\n",
    "    len_num = len(str(num))\n",
    "    str_num = ''\n",
    "    for i in range(n_digs - len_num):\n",
    "        str_num += '0'\n",
    "    str_num += str(num)\n",
    "    return str_num"
   ]
  },
  {
   "cell_type": "code",
   "execution_count": null,
   "metadata": {
    "collapsed": true
   },
   "outputs": [],
   "source": [
    "def find_out_dir(**kwargs):\n",
    "    \"\"\"Return a string that contains a route of a directory.\n",
    "    \n",
    "    With replace ('bool') equal to False, this will create a new\n",
    "    directory if dirname ('string') exists in <s3out>/<parentdir>/\n",
    "    \n",
    "    From blendjupyter.ipynb (Blender kernel).\"\"\"\n",
    "    s3out = kwargs.pop('s3out',\n",
    "                       os.path.join(os.path.expanduser('~'),\n",
    "                                    's3-out'))\n",
    "    dirname = kwargs.pop('dirname', 'blend-phg-set-0001')\n",
    "    parentdir = kwargs.pop('parentdir', 'scanner')\n",
    "    path = kwargs.pop('path', os.path.join(s3out, parentdir, dirname))\n",
    "    replace = kwargs.pop('replace', False)\n",
    "    if not replace:  # Then, create a new direcctory with a different\n",
    "                     # name.\n",
    "        while True:\n",
    "            if not os.path.exists(path):\n",
    "                print('Make directory:', path)\n",
    "                os.makedirs(path)\n",
    "                break\n",
    "            else:\n",
    "                str_num = path.split('-')[-1]\n",
    "                num_dir = int(str_num)\n",
    "                num_dir += 1\n",
    "                str_num_dir = num_str_zeros(num_dir, len(str_num))\n",
    "                path = '-'.join(path.split('-')[:-1]) + '-' + str_num_dir\n",
    "    return path"
   ]
  },
  {
   "cell_type": "code",
   "execution_count": null,
   "metadata": {
    "collapsed": false
   },
   "outputs": [],
   "source": [
    "def generate_lores_set(obj, cft, leds_prc, kx, ky, w, h,\n",
    "                       dkx, dky, p, q, **kwargs):\n",
    "    \"\"\"Return an array ('numpy.ndarray') with the sequence of Lo-Res\n",
    "    images which are also stored.\n",
    "    \n",
    "    Each image only contains the amplitude information.\"\"\"\n",
    "    prefix = kwargs.pop('prefix', 'lores-img_')\n",
    "    extension = kwargs.pop('extension', '.tif')\n",
    "    outpath = kwargs.pop('outpath',\n",
    "                         find_out_dir(dirname='lores-set-0001',\n",
    "                                      parentdir='microscope'))\n",
    "    if kwargs:\n",
    "        raise TypeError('{!s}() got an unexpected keyword argument {!r}'.format(generate_lores_set.__name__, list(kwargs.keys())[-1]))\n",
    "    obj_ft = np.fft.fftshift(np.fft.fft2(obj))\n",
    "    img_seq_lores = list()\n",
    "    for i in range(leds_prc ** 2):\n",
    "        kxc = round_half_up((w + 1) / 2.0 + kx[i] / dkx)\n",
    "        kyc = round_half_up((h + 1) / 2.0 + ky[i] / dky)\n",
    "        kyl = round_half_up(kyc - (p - 1) / 2.0);\n",
    "        kyh = round_half_up(kyc + (p - 1) / 2.0);\n",
    "        kxl = round_half_up(kxc - (q - 1) / 2.0);\n",
    "        kxh = round_half_up(kxc + (q - 1) / 2.0);\n",
    "        img_seq_lores_ft = (p / h) ** 2\n",
    "        img_seq_lores_ft *= obj_ft[kyl - 1:kyh, kxl - 1:kxh]\n",
    "        img_seq_lores_ft *= cft\n",
    "        img_lores = np.absolute(np.fft.ifft2(np.fft.ifftshift(img_seq_lores_ft)))\n",
    "        img_seq_lores.append(img_lores)\n",
    "        str_i = num_str_zeros(i, len(str(leds_prc ** 2)), True)\n",
    "        filename = prefix + str_i + extension\n",
    "        img_path = os.path.join(outpath, filename)\n",
    "        # scipy.misc.imsave() rescales the dynamic range of the\n",
    "        # pixel values [3]. Add cmin and cmax as parameters to\n",
    "        # scipy.misc.toimage() as follow to prevent the rescaling.\n",
    "        # Before, giving the np.uint8 to dtype('type') to img_lores\n",
    "        # (numpy.ndarray) there was no effect by the rescaling.\n",
    "        # \n",
    "        # [3] Lippens, S. (2016). Saving of images in scipy and\n",
    "        # preventing dynamic range rescaling.\n",
    "        scipy.misc.toimage(img_lores, cmin=0, cmax=255).save(img_path)\n",
    "        print('Saved Lo-Res image:', img_path)\n",
    "    return np.array(img_seq_lores)"
   ]
  },
  {
   "cell_type": "code",
   "execution_count": null,
   "metadata": {
    "collapsed": false
   },
   "outputs": [],
   "source": [
    "def get_centered_img_subset(leds_prc, leds2use, **kwargs):\n",
    "    \"\"\"Return a personalized set with the images' indexes to use.\n",
    "    \n",
    "    In the lighting process with the LED grid, the lower incidence\n",
    "    angle belongs to the central lamp. This function allow to select a\n",
    "    square subset of images with a shifted center.\n",
    "    \n",
    "    ONLY USE IT with an external Lo-Res image set. For odd or even\n",
    "    numbers of rows, the result is the same.\n",
    "    \"\"\"\n",
    "    matlab = kwargs.pop('matlab', False)\n",
    "    # To approximate even numbers.\n",
    "    lower = kwargs.pop('lower', False)\n",
    "    # Begin the selection down ('int') rows down.\n",
    "    down = kwargs.pop('down', 0)\n",
    "    # Begin the selection right ('int') columns right.\n",
    "    right = kwargs.pop('right', 0)\n",
    "    shift = kwargs.pop('shift', 0)\n",
    "    if kwargs:\n",
    "        raise TypeError('{!s}() got an unexpected keyword argument {!r}'.format(get_idx_img2use.__name__, list(kwargs.keys())[-1]))\n",
    "    # The even numbers are approximated to the nearest lower integer.\n",
    "    if lower:\n",
    "        if leds_prc % 2 == 0:\n",
    "            leds_prc -= 1\n",
    "        if leds2use % 2 == 0:\n",
    "            leds2use -= 1\n",
    "    else:\n",
    "        if leds_prc % 2 == 0:\n",
    "            leds_prc += 1\n",
    "        if leds2use % 2 == 0:\n",
    "            leds2use += 1\n",
    "    arr = np.arange(leds_prc ** 2)\n",
    "    if matlab:  # In Matlab, the indexes begin in 1.\n",
    "        arr = np.arange(1, leds_prc ** 2 + 1)\n",
    "    arr = np.split(arr, leds_prc)  # Here, arr is type 'list'.\n",
    "    # Convert arr ('list') to 'numpy.ndarray' to use advanced\n",
    "    # indexing, for example, arr[0:2, 9:89].\n",
    "    arr = np.array(arr)\n",
    "    limit_l_up = int((leds_prc - leds2use) / 2)\n",
    "    limit_r_down = leds_prc - limit_l_up\n",
    "    if shift != 0:  # Roll arr ('numpy.ndarray'). A negative number\n",
    "                    # rotate it to left and positive number, to\n",
    "                    # right.\n",
    "        arr = np.roll(arr, shift)\n",
    "    arr = arr.flat\n",
    "    arr[:shift] = -1  # Replace with 1's the shifted positions.\n",
    "    arr = np.reshape(arr, (leds_prc, leds_prc))\n",
    "    arr = arr[limit_l_up - down :limit_r_down - down, limit_l_up + right:limit_r_down + right]\n",
    "    my_set = list(arr.flat)\n",
    "    return my_set"
   ]
  },
  {
   "cell_type": "code",
   "execution_count": null,
   "metadata": {
    "collapsed": false
   },
   "outputs": [],
   "source": [
    "def get_set_from_folder(subsel, **kwargs):\n",
    "    \"\"\"Return an array with the Lo-Res images as arrays and a list\n",
    "    with the indexes of np.zeros() in the l_imgs ('list').\"\"\"\n",
    "    s3out = kwargs.pop('s3out',\n",
    "                       os.path.join(os.path.expanduser('~'),\n",
    "                                    's3-out'))\n",
    "    dirname = kwargs.pop('dirname', 'lores-set-0001')\n",
    "    # Path of the directory that contains the low-resolution image\n",
    "    # set.\n",
    "    path = kwargs.pop('path', os.path.join(s3out,\n",
    "                                           'microscope',\n",
    "                                           dirname))\n",
    "    prefix = kwargs.pop('prefix', 'lores-img_')\n",
    "    extension = kwargs.pop('extension', '.tiff')\n",
    "    lensuffix = kwargs.pop('lensuffix', len(str(max(subsel))))\n",
    "    if kwargs:\n",
    "        raise TypeError('{!s}() got an unexpected keyword argument {!r}'.format(get_set_from_folder.__name__, list(kwargs.keys())[-1]))\n",
    "    l_imgs = list()\n",
    "    l_idx_zeros = list()\n",
    "    for i in range(len(subsel)):\n",
    "        if subsel[i] != -1:\n",
    "            filepath = os.path.join(path, prefix + num_str_zeros(subsel[i], lensuffix) + extension)\n",
    "            try:\n",
    "                img = Image.open(filepath)\n",
    "                arr_img = np.array(img)\n",
    "                print('Opened Lo-Res image:', filepath)\n",
    "                img.close()\n",
    "                l_imgs.append(arr_img)\n",
    "            except IOError:\n",
    "                print('No such file:', filepath)\n",
    "                l_imgs.append(np.zeros((0, 0)))\n",
    "                l_idx_zeros.append(i)\n",
    "        else:\n",
    "            l_imgs.append(np.zeros((0, 0)))\n",
    "            l_idx_zeros.append(i)\n",
    "    return np.array(l_imgs), l_idx_zeros"
   ]
  }
 ],
 "metadata": {
  "anaconda-cloud": {},
  "kernelspec": {
   "display_name": "Python [default]",
   "language": "python",
   "name": "python3"
  },
  "language_info": {
   "codemirror_mode": {
    "name": "ipython",
    "version": 3
   },
   "file_extension": ".py",
   "mimetype": "text/x-python",
   "name": "python",
   "nbconvert_exporter": "python",
   "pygments_lexer": "ipython3",
   "version": "3.5.2"
  }
 },
 "nbformat": 4,
 "nbformat_minor": 0
}
