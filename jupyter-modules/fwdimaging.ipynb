{
 "cells": [
  {
   "cell_type": "code",
   "execution_count": null,
   "metadata": {
    "collapsed": true
   },
   "outputs": [],
   "source": [
    "__author__ = \"Jose David Marroquin Toledo\"\n",
    "__credits__ = [\"Jose David Marroquin Toledo\", ]\n",
    "__email__ = \"jose@marroquin.cl\"\n",
    "__status__ = \"Development\""
   ]
  },
  {
   "cell_type": "markdown",
   "metadata": {},
   "source": [
    "# Fourier Ptychographic Imaging\n",
    "\n",
    "## 1 Forward Imaging Model\n",
    "\n",
    "In this process, the LED grid illuminates the sample with one LED at a time and the camera takes a photo. Each ilumination has a different incident angle. This process consists of three stages:\n",
    "\n",
    "1. Create a Hi-Res complex image.\n",
    "\n",
    "2. Generate the incident wave vectors.\n",
    "\n",
    "3. Produce the ouput Lo-Res images.\n",
    "\n",
    "#####  [2 The Recovery Process](phaseretrieval.ipynb)"
   ]
  },
  {
   "cell_type": "code",
   "execution_count": null,
   "metadata": {
    "collapsed": true
   },
   "outputs": [],
   "source": [
    "from PIL import Image\n",
    "import numpy as np\n",
    "import math\n",
    "import decimal\n",
    "import scipy.misc"
   ]
  },
  {
   "cell_type": "markdown",
   "metadata": {},
   "source": [
    "#### 1.1 Create the Hi-Res complex image."
   ]
  },
  {
   "cell_type": "code",
   "execution_count": null,
   "metadata": {
    "collapsed": true
   },
   "outputs": [],
   "source": [
    "def sim_sample(amplitude, phase):\n",
    "    \"\"\"Simulates a sample, a Hi-Res complex object, to be used as the\n",
    "    input of the forward imaging process of Fourier Ptychography and\n",
    "    returns it as a numpy.ndarray.\n",
    "    \"\"\"\n",
    "    print('<Amplitude-FileOpen>')\n",
    "    amplitude = Image.open(amplitude)\n",
    "    print('<Phase-FileOpen>')\n",
    "    phase = Image.open(phase)\n",
    "    w, h = amplitude.size  # Size of the complex input object.\n",
    "    # Resize the phase image to the amplitude image's size. Some\n",
    "    # programming languages such as MATLAB, the resize methods use\n",
    "    # bicubic interpolation by default.\n",
    "    phase = phase.resize((w, h), resample=Image.BICUBIC)\n",
    "    \n",
    "    arr_ampl = np.array(amplitude,\n",
    "                        dtype='d')  # 'd' (str) for a double-precision\n",
    "                                    # floating-point number. \n",
    "    arr_phase = np.array(phase, dtype='d')\n",
    "    print('<Amplitude-FileClose>')\n",
    "    amplitude.close()\n",
    "    print('<Phasee-FileClose>')\n",
    "    phase.close()\n",
    "    arr_phase = math.pi * arr_phase / np.amax(arr_phase)\n",
    "    obj = arr_ampl * np.exp(1j * arr_phase)\n",
    "    obj = np.absolute(obj)\n",
    "    return obj, w, h"
   ]
  },
  {
   "cell_type": "code",
   "execution_count": null,
   "metadata": {
    "collapsed": true
   },
   "outputs": [],
   "source": [
    "def sim_sqr_grid(leds_per_row, distance):\n",
    "    \"\"\"Simulates a LED leds_per_row-by-leds_per_row matrix. Returns it\n",
    "    as a list of (x, y) coordinates (tuple). The central LEDs are the\n",
    "    closest to (0, 0).\n",
    "    \"\"\"\n",
    "    if leds_per_row % 2 != 0:\n",
    "        # In Python 3, the fraction is not lost when dividing by an\n",
    "        # integer.\n",
    "        x_max = math.floor(leds_per_row / 2) * distance\n",
    "    else:\n",
    "        x_max = (leds_per_row - 1) / 2 * distance\n",
    "    x_min = -x_max\n",
    "    row = list()\n",
    "    grid = list()\n",
    "    lst_range = list()\n",
    "    for i in range(leds_per_row):\n",
    "        lst_range.append(x_min)\n",
    "        x_min += distance\n",
    "    for y in lst_range:\n",
    "        for x in lst_range:\n",
    "            row.append((x, -y))\n",
    "        grid.append(row)\n",
    "        row = list()\n",
    "    return grid"
   ]
  },
  {
   "cell_type": "markdown",
   "metadata": {},
   "source": [
    "#### 1.2 Generate the incident wave vectors."
   ]
  },
  {
   "cell_type": "code",
   "execution_count": null,
   "metadata": {
    "collapsed": true
   },
   "outputs": [],
   "source": [
    "def gen_wave_vectors(xy_list, height):\n",
    "    \"\"\"Generates the incident wave vectors based on the LED positions\n",
    "    and the distance between the sample and the LED lamp. Holds the unit\n",
    "    of length.\n",
    "    \n",
    "    Args:\n",
    "        xy_list: A list of tuples that represents the (x, y) coordinate\n",
    "            of each LED in the lamp.\n",
    "        height: The distance in mm between the sample and the LED lamp.\n",
    "    \n",
    "    Returns:\n",
    "        k_xy_tuple_list: A list of tuples that represents the components\n",
    "            of the incident wave vectors.\n",
    "    \"\"\"\n",
    "    # Operate on xy_list (list of tuples) as numpy.ndarray\n",
    "    xy_list_arr = np.array(xy_list)\n",
    "    xy_list_arr = xy_list_arr / float(height)\n",
    "    xy_list_arr = np.arctan(xy_list_arr)\n",
    "    xy_list_arr = np.sin(xy_list_arr)\n",
    "    xy_list_arr *= -1\n",
    "    # Convert 2-dimensional array into a list of tuples.\n",
    "    k_xy_tuple_list = list(map(lambda xy: tuple(xy), list(xy_list_arr)))\n",
    "    return k_xy_tuple_list"
   ]
  },
  {
   "cell_type": "code",
   "execution_count": null,
   "metadata": {
    "collapsed": true
   },
   "outputs": [],
   "source": [
    "def round_half_up(num):\n",
    "    \"\"\"In Python 3, the round() function had changed from Python 2.\n",
    "    For example, in Python 3, round(2.5) returns 2 (int) such\n",
    "    round(1.5). For that case, it is possible to get 3 (int) instead 2\n",
    "    using the code below [1].\n",
    "    \n",
    "    [1] Barthelemy. (2014). Python 3.x rounding behavior. Message\n",
    "    posted to\n",
    "    http://stackoverflow.com/questions/10825926/python-3-x-rounding-behavior\n",
    "    \"\"\"\n",
    "    return int(decimal.Decimal(num).quantize(decimal.Decimal(1),\n",
    "                                             rounding=decimal.ROUND_HALF_UP))"
   ]
  },
  {
   "cell_type": "code",
   "execution_count": null,
   "metadata": {
    "collapsed": true
   },
   "outputs": [],
   "source": [
    "def gen_cft(wave_vectors, wavelength, ccd_px, na, hires_w, hires_h):\n",
    "    \"\"\"Generates the coherent transfer function of the coherent imaging\n",
    "    system.\n",
    "    \n",
    "    Args:\n",
    "        wave_vectors: A 3-dimensional numpy.ndarray that represents the\n",
    "            incident wave vectors.\n",
    "        wavelength: The wavelength in mm.\n",
    "        ccd_px: The sampling pixel size in mm of the CCD.\n",
    "        na: The numerical aperture of the objective lens.\n",
    "        hires_w: The width in pixels (int) of the Hi-Res output image.\n",
    "        hires_h: The height (int) of the Hi-Res output image.\n",
    "    \n",
    "    Returns:\n",
    "        cft: The coherent transfer function (numpy.ndarray).\n",
    "        lores_w: The width of the Lo-Res output images in pixels (int).\n",
    "        lores_h: The height of the Lo-Res output images in pixels (int).\n",
    "        dkx: (float).\n",
    "        dky: (float).\n",
    "        kx: A numpy.ndarray with the x-components of k_0 * wave_vectors.\n",
    "        ky: A numpy.ndarray with the y-components of k_0 * wave_vectors.\n",
    "    \"\"\"\n",
    "    k_max = math.pi / ccd_px\n",
    "    k_0 = 2 * math.pi / wavelength\n",
    "    cutoff_freq = na * k_0\n",
    "    hires_px = ccd_px / 4  # Pixel size of the reconstruction.\n",
    "    dkx = 2 * math.pi / (hires_px * hires_w)\n",
    "    dky = 2 * math.pi / (hires_px * hires_h)\n",
    "    lores_w = int(hires_w / (ccd_px / hires_px))\n",
    "    lores_h = int(hires_h / (ccd_px / hires_px))\n",
    "    k = k_0 * wave_vectors;\n",
    "    # From all rows, all columns, extract the first element.\n",
    "    kx = k[:, :, 0]\n",
    "    # Reshape kx (numpy.ndarray) in a 1-D array.\n",
    "    kx = np.reshape(kx, len(kx.flat))\n",
    "    ky = k[:, :, 1]\n",
    "    ky = np.reshape(ky, len(ky.flat))\n",
    "    kxm, kym = np.meshgrid(np.arange(-k_max, k_max + 1,\n",
    "                                     k_max / ((lores_w - 1) / 2)),\n",
    "                           np.arange(-k_max, k_max + 1,\n",
    "                                     k_max / ((lores_h - 1) / 2)))\n",
    "    cft = ((kxm ** 2 + kym ** 2) < cutoff_freq ** 2)\n",
    "    cft = cft.astype(float)\n",
    "    return cft, lores_w, lores_h, dkx, dky, kx, ky"
   ]
  },
  {
   "cell_type": "markdown",
   "metadata": {},
   "source": [
    "#### 1.3 Produce the ouput Lo-Res images."
   ]
  },
  {
   "cell_type": "code",
   "execution_count": null,
   "metadata": {
    "collapsed": true
   },
   "outputs": [],
   "source": [
    "def sim_lores_set(hires_obj, hires_w, hires_h, n_leds, cft, lores_w,\n",
    "                  lores_h, dkx, dky, kx, ky, output_path, **kwargs):\n",
    "    \"\"\"Simulates the multiple intensity Lo-Res images capturing them\n",
    "    under different incident angles.\n",
    "    \n",
    "    Args:\n",
    "        hires_obj: A Hi-Res complex input image.\n",
    "        hires_w: The width of the Hi-Res output image in pixels (int).\n",
    "        hires_h: The height of the Hi-Res output image in pixels (int).\n",
    "        n_leds: The total number of LEDs of the lamp.\n",
    "        cft: The coherent transfer function (numpy.ndarray).\n",
    "        lores_w: The width of the Lo-Res output images in pixels (int).\n",
    "        lores_h: The height of the Lo-Res output images in pixels (int).\n",
    "        dkx: (float).\n",
    "        dky: (float).\n",
    "        kx: A numpy.ndarray with the x-components of k_0 * wave vectors.\n",
    "        ky: A numpy.ndarray with the y-components of k_0 * wave vectors.\n",
    "        output_path: The path of the directory for the Lo-Res image set.\n",
    "        **kwargs: Keyword arguments.\n",
    "    \"\"\"\n",
    "    img_prefix = kwargs.pop('prefix', 'IMG_')\n",
    "    img_format = kwargs.pop('format', 'TIF')\n",
    "    if kwargs:\n",
    "        raise TypeError('{!s}() got an unexpected keyword argument {!r}'.format(generate_lores_set.__name__,\n",
    "                  list(kwargs.keys())[-1]))\n",
    "    obj_ft = np.fft.fftshift(np.fft.fft2(hires_obj))\n",
    "    lores_img_seq = list()  # The Lo-Res images sequence.\n",
    "    for i in range(n_leds):\n",
    "        kxc = round_half_up((hires_w + 1) / 2 + kx[i] / dkx)\n",
    "        kyc = round_half_up((hires_h + 1) / 2 + ky[i] / dky)\n",
    "        kxl = round_half_up(kxc - (lores_w - 1) / 2)\n",
    "        kyl = round_half_up(kyc - (lores_h - 1) / 2)\n",
    "        kxh = round_half_up(kxc + (lores_w - 1) / 2)\n",
    "        kyh = round_half_up(kyc + (lores_h - 1) / 2)\n",
    "        lores_img_seq_ft = (lores_w / hires_w) ** 2\n",
    "        lores_img_seq_ft *= obj_ft[kyl - 1:kyh, kxl - 1:kxh]\n",
    "        lores_img_seq_ft *= cft\n",
    "        lores_img = np.fft.ifft2(np.fft.ifftshift(lores_img_seq_ft))\n",
    "        lores_img = np.absolute(lores_img)\n",
    "        img_idx = str(i + 1)\n",
    "        for j in range(len(str(n_leds)) - len(str(i + 1))):\n",
    "            img_idx = '0' + img_idx\n",
    "        filename = img_prefix + img_idx +  '.'\n",
    "        filename += img_format.lower()\n",
    "        file_path = output_path + '/' + filename\n",
    "        print('<LoResImgWrite-' + img_idx + '>')\n",
    "        # scipy.misc.imsave() rescales the dynamic range of the pixel\n",
    "        # values [2]. Add cmin and cmax as parameters to\n",
    "        # scipy.misc.toimage() as follow to prevent the rescaling.\n",
    "        # \n",
    "        # [2] Lippens, S. (2016). Saving of images in scipy and\n",
    "        # preventing dynamic range rescaling.\n",
    "        scipy.misc.toimage(lores_img, cmin=0, cmax=255).save(file_path)"
   ]
  }
 ],
 "metadata": {
  "anaconda-cloud": {},
  "kernelspec": {
   "display_name": "Python 3",
   "language": "python",
   "name": "python3"
  },
  "language_info": {
   "codemirror_mode": {
    "name": "ipython",
    "version": 3
   },
   "file_extension": ".py",
   "mimetype": "text/x-python",
   "name": "python",
   "nbconvert_exporter": "python",
   "pygments_lexer": "ipython3",
   "version": "3.6.3"
  }
 },
 "nbformat": 4,
 "nbformat_minor": 1
}
