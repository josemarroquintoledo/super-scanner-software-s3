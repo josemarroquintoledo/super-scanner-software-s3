{
 "cells": [
  {
   "cell_type": "code",
   "execution_count": 1,
   "metadata": {
    "collapsed": true
   },
   "outputs": [],
   "source": [
    "__author__ = \"Jose David Marroquin Toledo\"\n",
    "__credits__ = [\"Jose David Marroquin Toledo\",]\n",
    "__email__ = \"jose@marroquin.cl\"\n",
    "__status__ = \"Development\""
   ]
  },
  {
   "cell_type": "code",
   "execution_count": 3,
   "metadata": {
    "collapsed": false
   },
   "outputs": [],
   "source": [
    "# Return a list with the indexes of the images for the reconstruction sequence or -1 ('int')\n",
    "# if the size of the LED grid is not odd in which case there is no an unique LED as center.\n",
    "# The first index is the center. The way is spiral-shaped.\n",
    "def get_idx_seq_img(grid_len, **kwargs):\n",
    "    clockwise = kwargs.pop('clockwise', True)\n",
    "    if grid_len % 2 != 0:\n",
    "        l_idx_seq_img = list()\n",
    "        img = int(((grid_len ** 2) - 1) / 2)  #Start in the center.\n",
    "        l_idx_seq_img.append(img)\n",
    "        l_addends = [(grid_len, -1), (-grid_len, 1)]\n",
    "        if not clockwise:\n",
    "            l_addends = [(grid_len, 1), (-grid_len, -1)]\n",
    "        # Index to choose between (grid_len, -1) ('tuple') and (-grid_len, 1).\n",
    "        i = 0\n",
    "        c = 1\n",
    "        last_img = (grid_len ** 2) - 1\n",
    "        while True:\n",
    "            i %= 2\n",
    "            v_addend, h_addend = l_addends[i]\n",
    "            for j in range(c):\n",
    "                img += v_addend\n",
    "                if img > last_img:\n",
    "                    break\n",
    "                else:\n",
    "                    l_idx_seq_img.append(img)\n",
    "            for j in range(c):\n",
    "                img += h_addend\n",
    "                if img > last_img:\n",
    "                    break\n",
    "                else:\n",
    "                    l_idx_seq_img.append(img)\n",
    "            if img >= last_img:\n",
    "                return l_idx_seq_img\n",
    "            else:\n",
    "                i += 1\n",
    "                c += 1\n",
    "    else:\n",
    "        return -1"
   ]
  },
  {
   "cell_type": "code",
   "execution_count": null,
   "metadata": {
    "collapsed": true
   },
   "outputs": [],
   "source": []
  }
 ],
 "metadata": {
  "anaconda-cloud": {},
  "kernelspec": {
   "display_name": "Python [Root]",
   "language": "python",
   "name": "Python [Root]"
  },
  "language_info": {
   "codemirror_mode": {
    "name": "ipython",
    "version": 3
   },
   "file_extension": ".py",
   "mimetype": "text/x-python",
   "name": "python",
   "nbconvert_exporter": "python",
   "pygments_lexer": "ipython3",
   "version": "3.5.2"
  }
 },
 "nbformat": 4,
 "nbformat_minor": 0
}
