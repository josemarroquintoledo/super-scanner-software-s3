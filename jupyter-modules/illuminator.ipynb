{
 "cells": [
  {
   "cell_type": "code",
   "execution_count": null,
   "metadata": {
    "collapsed": true
   },
   "outputs": [],
   "source": [
    "__author__ = \"Jose David Marroquin Toledo\"\n",
    "__credits__ = [\"Jose David Marroquin Toledo\",]\n",
    "__email__ = \"jose@marroquin.cl\"\n",
    "__status__ = \"Development\""
   ]
  },
  {
   "cell_type": "markdown",
   "metadata": {},
   "source": [
    "## Simulate Image Sets for Fourier Ptychography\n",
    "With these functions, it is possible to generate **Lo-Res image sets to be used with a Fourier Ptychography algorithm**. We suggest to read the [fpblend-examples notebook](../examples/fpblend-examples.ipynb) and follow their steps.\n",
    "\n",
    "[blendjupyter.ipynb](blendjupyter.ipynb) is a shared Jupyter module &#171;written to set up and manipulate cameras (`'bpy.types.Camera'`), scenes (`'bpy.context.scene'`)&#187;, among other things.\n",
    "\n",
    "This notebook **does not use** a Python kernel, [uses a Blender kernel](https://github.com/panzi/blender_ipython)."
   ]
  },
  {
   "cell_type": "code",
   "execution_count": null,
   "metadata": {
    "collapsed": false
   },
   "outputs": [],
   "source": [
    "import bpy\n",
    "import math\n",
    "import blendjupyter as blendj"
   ]
  },
  {
   "cell_type": "code",
   "execution_count": null,
   "metadata": {
    "collapsed": false
   },
   "outputs": [],
   "source": [
    "def gen_xyz_ring_led(**kwargs):\n",
    "    \"\"\"Return a list with the coordinates of each LED of a LED ring.\n",
    "    \"\"\"\n",
    "    d = kwargs.pop('d', 5)  # Distance in mm between LEDs.\n",
    "    # Number of LEDs per ring from the center of it.\n",
    "    ledsperring = kwargs.pop('ledsperring', [12, 16, 24])\n",
    "    h = kwargs.pop('h', 90)  # Distance in mm between the sample\n",
    "                             # and the grid.\n",
    "    l_coord = list()\n",
    "    for nleds in ledsperring:\n",
    "        r = (d * nleds) / (2.0 * math.pi)\n",
    "        theta_step = int(360 / nleds)\n",
    "        range_theta = range(0, 360, theta_step)\n",
    "        range_theta = range_theta[:nleds]\n",
    "        for theta in range_theta:\n",
    "            x = r * math.cos(math.radians(theta))\n",
    "            y = r * math.sin(math.radians(theta))\n",
    "            z = h\n",
    "            l_coord.append((x, y, z))\n",
    "    return l_coord"
   ]
  },
  {
   "cell_type": "code",
   "execution_count": null,
   "metadata": {
    "collapsed": true
   },
   "outputs": [],
   "source": [
    "def gen_xyz_led_grid(**kwargs):\n",
    "    \"\"\"Return a list with the coordinates of each LED of a n-by-n LED\n",
    "    grid.\"\"\"\n",
    "    n = kwargs.pop('n', 15)  # Number of LEDs per row or per column in\n",
    "                             # the grid LED.\n",
    "    d = kwargs.pop('d', 4)  # Distance in mm between LEDs.\n",
    "    h = kwargs.pop('h', 90)  # Distance in mm between the sample\n",
    "                             # and the grid.\n",
    "    l_coord = list()\n",
    "    x_max = math.floor((n / 2)) * d\n",
    "    x_min = -x_max\n",
    "    y_max = x_max\n",
    "    y_min = x_min\n",
    "    l_range = list(range(x_min, x_max + 1, d))\n",
    "    for i in l_range:\n",
    "        for j in l_range:\n",
    "            l_coord.append((j, -i, h))  # (x, y, z)\n",
    "    return l_coord"
   ]
  },
  {
   "cell_type": "code",
   "execution_count": null,
   "metadata": {
    "collapsed": false
   },
   "outputs": [],
   "source": [
    "def create_led_illuminator(sc, l_coord, **kwargs):\n",
    "    \"\"\"Return a list with the 'LAMPS' of the LED illuminator.\"\"\"\n",
    "    radiusled = kwargs.pop('radiusled', 1.25)  # Radius in mm of the\n",
    "                                               # LED.\n",
    "    coordcam = kwargs.pop('coorcam', (0, 0, l_coord[0][2] - 1))\n",
    "    l_lamps = list()\n",
    "    len_lcoord = len(l_coord)\n",
    "    for i in range(len_lcoord):\n",
    "        lamp_name = \"lamp\" + blendj.num_str_zeros(i,\n",
    "                                                  len_lcoord,\n",
    "                                                  matlab=True)\n",
    "        # The lamp as a point.\n",
    "        lamp_data = bpy.data.lamps.new(name=lamp_name,\n",
    "                                       type='POINT')\n",
    "        lamp_data.energy = 0.0 # The lamp if off.\n",
    "        lamp_object = bpy.data.objects.new(name=lamp_name,\n",
    "                                           object_data=lamp_data)\n",
    "        sc.objects.link(lamp_object)\n",
    "        lamp_object.location = l_coord[i]\n",
    "        lamp_object.select = True\n",
    "        sc.objects.active = lamp_object\n",
    "        # Base model for the LED.\n",
    "        bpy.ops.mesh.primitive_cylinder_add(location=l_coord[i],\n",
    "                                            radius=radiusled,\n",
    "                                            depth=0)\n",
    "        l_lamps.append(lamp_object)\n",
    "    return l_lamps"
   ]
  },
  {
   "cell_type": "code",
   "execution_count": null,
   "metadata": {
    "collapsed": false
   },
   "outputs": [],
   "source": [
    "def illuminate_step_by_step(cam, sc, l_lamps, **kwargs):\n",
    "    \"\"\"Turn on a lamp at time, take a photo of the mesh and save it.\n",
    "    \"\"\"\n",
    "    len_llamps = len(l_lamps)\n",
    "    path = blendj.find_out_dir(dirname='blend-lores-set-0001',\n",
    "                               parentdir='microscope')\n",
    "    for i in range(len_llamps):\n",
    "        l_lamps[i].data.energy = 2.0\n",
    "        blendj.shoot_cam(cam,\n",
    "                         sc,\n",
    "                         i,\n",
    "                         len_llamps,\n",
    "                         path,\n",
    "                         prefix='lores-img_')\n",
    "        l_lamps[i].data.energy = 0.0"
   ]
  }
 ],
 "metadata": {
  "anaconda-cloud": {},
  "kernelspec": {
   "display_name": "Blender",
   "language": "python",
   "name": "blender"
  },
  "language_info": {
   "codemirror_mode": {
    "name": "ipython",
    "version": 3
   },
   "file_extension": ".py",
   "mimetype": "text/x-python",
   "name": "python",
   "nbconvert_exporter": "python",
   "pygments_lexer": "ipython3",
   "version": "3.5.2"
  }
 },
 "nbformat": 4,
 "nbformat_minor": 0
}
