{
 "cells": [
  {
   "cell_type": "code",
   "execution_count": null,
   "metadata": {
    "collapsed": true
   },
   "outputs": [],
   "source": [
    "__author__ = \"Jose David Marroquin Toledo\"\n",
    "__credits__ = [\"Jose David Marroquin Toledo\", ]\n",
    "__email__ = \"jose@marroquin.cl\"\n",
    "__status__ = \"Development\""
   ]
  },
  {
   "cell_type": "code",
   "execution_count": null,
   "metadata": {
    "collapsed": true
   },
   "outputs": [],
   "source": [
    "from math import cos, sin, radians"
   ]
  },
  {
   "cell_type": "code",
   "execution_count": null,
   "metadata": {
    "collapsed": true
   },
   "outputs": [],
   "source": [
    "def get_pixels_xy(**kwargs):\n",
    "    \"\"\"Calculates the (x, y) coordinates of the Pixels in a ring or\n",
    "    Jewel and stores them a list of tuple within a dictionary.\n",
    "    \"\"\"\n",
    "    rings = kwargs.pop('rings', {7: 0, 12: 0, 24: 0});\n",
    "    cm = kwargs.pop('cm', True)  # (x, y) in centimeters?\n",
    "    # The properties for each NeoPixel ring or Jewel were retrieved from\n",
    "    # https://learn.adafruit.com/adafruit-neopixel-uberguide/downloads\n",
    "    NEOPIXEL_LED_RINGS = {\n",
    "        '7': {\n",
    "            'name': 'NeoPixel Jewel',\n",
    "            'diameter': {\n",
    "                'outer': 0.9,\n",
    "                'px': 0.63\n",
    "            },\n",
    "            'type': 'jewel'\n",
    "        },\n",
    "        '12': {\n",
    "            'name': 'NeoPixel 12-LED Ring',\n",
    "            'diameter': {\n",
    "                'inner': 0.92,\n",
    "                'outer': 1.45,\n",
    "                'px': 1.16\n",
    "            },\n",
    "            'type': 'ring'\n",
    "        },\n",
    "        '16': {\n",
    "            'name': 'NeoPixel 16-LED Ring',\n",
    "            'diameter': {\n",
    "                'inner': 1.25,\n",
    "                'outer': 1.75,\n",
    "                'px': 1.49\n",
    "            },\n",
    "            'type': 'ring'\n",
    "        },\n",
    "        '24': {\n",
    "            'name': 'NeoPixel 24-LED Ring',\n",
    "            'diameter': {\n",
    "                'inner': 2.06,\n",
    "                'outer': 2.58,\n",
    "                'px': 2.3\n",
    "            },\n",
    "            'type': 'ring'\n",
    "        }\n",
    "    }\n",
    "    INCH_CM = 2.54\n",
    "    pixels_xy = dict()\n",
    "    for key in rings:\n",
    "        try:\n",
    "            print('<RingValid-' + str(key) + '>')\n",
    "            ring = NEOPIXEL_LED_RINGS[str(key)]\n",
    "            angle = 0\n",
    "            ring_xy_list = list()\n",
    "            outer_pixels = int(key)\n",
    "            if ring['type'] == 'jewel':\n",
    "                ring_xy_list.append((0, 0))  # Add the central Pixel.\n",
    "                outer_pixels -= 1\n",
    "            dist_px_px = 360 / float(outer_pixels)  # In degree.\n",
    "            phase = float(rings[key])\n",
    "            radius = ring['diameter']['px'] / 2.0\n",
    "            for i in range(outer_pixels):\n",
    "                pixel_x = cos(radians(angle + phase)) * radius\n",
    "                pixel_y = sin(radians(angle + phase)) * radius\n",
    "                if cm:\n",
    "                    pixel_x = INCH_CM * pixel_x\n",
    "                    pixel_y = INCH_CM * pixel_y\n",
    "                xy = tuple([round(pixel_x, 2), round(pixel_y, 2)])\n",
    "                angle += dist_px_px\n",
    "                ring_xy_list.append(xy)\n",
    "            pixels_xy[str(key)] = ring_xy_list\n",
    "        except KeyError:\n",
    "            print('<RingInvalid-' + str(key) + '>')\n",
    "    return pixels_xy"
   ]
  }
 ],
 "metadata": {
  "kernelspec": {
   "display_name": "Python 3",
   "language": "python",
   "name": "python3"
  },
  "language_info": {
   "codemirror_mode": {
    "name": "ipython",
    "version": 3
   },
   "file_extension": ".py",
   "mimetype": "text/x-python",
   "name": "python",
   "nbconvert_exporter": "python",
   "pygments_lexer": "ipython3",
   "version": "3.6.3"
  }
 },
 "nbformat": 4,
 "nbformat_minor": 2
}
