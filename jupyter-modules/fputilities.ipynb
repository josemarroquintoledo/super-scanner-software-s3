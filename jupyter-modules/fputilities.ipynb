{
 "cells": [
  {
   "cell_type": "code",
   "execution_count": null,
   "metadata": {
    "collapsed": true
   },
   "outputs": [],
   "source": [
    "__author__ = \"Jose David Marroquin Toledo\"\n",
    "__credits__ = [\"Jose David Marroquin Toledo\", ]\n",
    "__email__ = \"jose@marroquin.cl\"\n",
    "__status__ = \"Development\""
   ]
  },
  {
   "cell_type": "code",
   "execution_count": null,
   "metadata": {
    "collapsed": true
   },
   "outputs": [],
   "source": [
    "from PIL import Image\n",
    "from pathlib import Path\n",
    "import re\n",
    "import numpy as np\n",
    "import decimal"
   ]
  },
  {
   "cell_type": "code",
   "execution_count": null,
   "metadata": {
    "collapsed": true
   },
   "outputs": [],
   "source": [
    "def read_lores_img_set(img_set_path, n_leds, **kwargs):\n",
    "    \"\"\"Reads the files of the Lo-Res image set and returns all of them\n",
    "    as a 3-dimentional array (numpy.ndarray).\n",
    "    \"\"\"\n",
    "    img_prefix = kwargs.pop('prefix', 'IMG_')\n",
    "    img_format = kwargs.pop('format', 'PNG')\n",
    "    p = Path(img_set_path)\n",
    "    str_n_leds = str(n_leds)\n",
    "    re_wide_num_range = '[0-' + str_n_leds[0] + ']'\n",
    "    for i in range(len(str_n_leds) - 1):\n",
    "         re_wide_num_range += '[0-9]'\n",
    "    # Creates a list with the files within p (Path) whose name begins\n",
    "    # with glob_pattern (string). glob() does not support regexp.\n",
    "    glob_pattern = img_prefix + re_wide_num_range + '.*'\n",
    "    file_list = list(p.glob(glob_pattern))\n",
    "    file_list.sort()  # Sort the file list.\n",
    "    # Create a regexp and use it to filter file_list (list).\n",
    "    str_regex = img_prefix + '(?!0+\\.)'\n",
    "    if len(str_n_leds) > 1:\n",
    "        str_regex += '(?!' + str_n_leds[0]\n",
    "        for i in range(1, len(str_n_leds)):\n",
    "            str_regex += '[' + str(int(str_n_leds[i]) + 1) + '-9]'\n",
    "        str_regex += ')'\n",
    "    str_regex += re_wide_num_range\n",
    "    str_regex += '.('+ img_format.lower() + '|'\n",
    "    str_regex += img_format.upper() + ')'\n",
    "    filtered_file_list = list()\n",
    "    img_cube = list()\n",
    "    # Convert from regexp pattern to regexp object.\n",
    "    regexp = re.compile(str_regex)\n",
    "    # Store the images as 2-dimensionals arrays within a 3-dimensional\n",
    "    # array.\n",
    "    for item in file_list:\n",
    "        m = regexp.search(str(item))\n",
    "        if m and str(item).endswith(m.group(0)):\n",
    "            img_path = str(item)\n",
    "            img_num = m.group(0).split('_')[1].split('.')[0]\n",
    "            print('<FP-ImageRead-' + img_num + '>')\n",
    "            img = Image.open(img_path).convert('L')\n",
    "            arr_img = np.array(img)\n",
    "            # If img.close() is before the conversion, arr_img\n",
    "            # (numpy.ndarray) will contain TiffImageFile elements.\n",
    "            img.close()\n",
    "            img_cube.append(arr_img)\n",
    "    return np.array(img_cube)"
   ]
  },
  {
   "cell_type": "code",
   "execution_count": null,
   "metadata": {
    "collapsed": true
   },
   "outputs": [],
   "source": [
    "def round_half_up(num):\n",
    "    \"\"\"In Python 3, the round() function had changed from Python 2.\n",
    "    For example, in Python 3, round(2.5) returns 2 (int) such\n",
    "    round(1.5). For that case, it is possible to get 3 (int) instead 2\n",
    "    using the code below [1].\n",
    "    \n",
    "    [1] Barthelemy. (2014). Python 3.x rounding behavior. Message\n",
    "    posted to\n",
    "    http://stackoverflow.com/questions/10825926/python-3-x-rounding-behavior\n",
    "    \"\"\"\n",
    "    return int(decimal.Decimal(num).quantize(decimal.Decimal(1),\n",
    "                                             rounding=decimal.ROUND_HALF_UP))"
   ]
  }
 ],
 "metadata": {
  "kernelspec": {
   "display_name": "Python 3",
   "language": "python",
   "name": "python3"
  },
  "language_info": {
   "codemirror_mode": {
    "name": "ipython",
    "version": 3
   },
   "file_extension": ".py",
   "mimetype": "text/x-python",
   "name": "python",
   "nbconvert_exporter": "python",
   "pygments_lexer": "ipython3",
   "version": "3.6.3"
  }
 },
 "nbformat": 4,
 "nbformat_minor": 2
}
