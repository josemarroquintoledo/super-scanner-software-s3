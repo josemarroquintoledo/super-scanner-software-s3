{
 "cells": [
  {
   "cell_type": "code",
   "execution_count": null,
   "metadata": {
    "collapsed": false
   },
   "outputs": [],
   "source": [
    "from ipywidgets import *\n",
    "from IPython.display import display\n",
    "import ui\n",
    "\n",
    "general_ui, cont, btn1, btn2 = ui.accordion_ui()\n",
    "btn1.on_click(lambda btn: ui.btn1(cont))\n",
    "btn2.on_click(lambda btn: ui.btn2(cont))"
   ]
  },
  {
   "cell_type": "markdown",
   "metadata": {},
   "source": [
    "# Display a simple User Interface (UI)"
   ]
  },
  {
   "cell_type": "code",
   "execution_count": null,
   "metadata": {
    "collapsed": false
   },
   "outputs": [],
   "source": [
    "display(general_ui)"
   ]
  }
 ],
 "metadata": {
  "kernelspec": {
   "display_name": "Blender env",
   "language": "python",
   "name": "blender"
  },
  "language_info": {
   "codemirror_mode": {
    "name": "ipython",
    "version": 3
   },
   "file_extension": ".py",
   "mimetype": "text/x-python",
   "name": "python",
   "nbconvert_exporter": "python",
   "pygments_lexer": "ipython3",
   "version": "3.5.2"
  }
 },
 "nbformat": 4,
 "nbformat_minor": 1
}
