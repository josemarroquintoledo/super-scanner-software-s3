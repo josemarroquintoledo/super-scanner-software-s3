{
 "cells": [
  {
   "cell_type": "code",
   "execution_count": 3,
   "metadata": {
    "collapsed": false
   },
   "outputs": [
    {
     "name": "stdout",
     "output_type": "stream",
     "text": [
      "importing notebook from /home/fpizarro/super-scanner-software-s3/jupyter-modules/phg.ipynb\n",
      "importing notebook from /home/fpizarro/super-scanner-software-s3/jupyter-modules/blendjupyter.ipynb\n",
      "importing notebook from /home/fpizarro/super-scanner-software-s3/jupyter-modules/ui.ipynb\n"
     ]
    }
   ],
   "source": [
    "from ipywidgets import *\n",
    "from IPython.display import display\n",
    "import phg\n",
    "import ui"
   ]
  },
  {
   "cell_type": "markdown",
   "metadata": {},
   "source": [
    "# Configuration Steps"
   ]
  },
  {
   "cell_type": "code",
   "execution_count": 4,
   "metadata": {
    "collapsed": true
   },
   "outputs": [],
   "source": [
    "def fun_btn1(btn):\n",
    "    sample = cont[1].children[0].children[1]\n",
    "    scale = cont[1].children[1].children[1]\n",
    "    reslevel = cont[1].children[2].children[1]\n",
    "    bw = cont[1].children[3].children[1]\n",
    "    projpath.value = \"\"    \n",
    "    ui.toggle_button(btn2,False)\n",
    "    #The functions goes here!!!\n",
    "    projpath.value = phg.create_3dmodel(inpath = \"\",\n",
    "                         sample = sample.value, scale = scale.value/100, \n",
    "                                    bw = bw.value, reslevel = reslevel.value)\n",
    "    #End of the functions!!!\n",
    "    ui.toggle_button(btn2,True)\n",
    "      \n",
    "def fun_btn2(btn):\n",
    "    mesh = cont[2].children[1]\n",
    "    phg.open_3d_model(projpath.value, mesh = mesh.value)"
   ]
  },
  {
   "cell_type": "code",
   "execution_count": 5,
   "metadata": {
    "collapsed": false
   },
   "outputs": [],
   "source": [
    "general_ui, cont = ui.accordion_ui()\n",
    "projpath = cont[2].children[0]\n",
    "btn1 = cont[1].children[4]\n",
    "btn2 = cont[2].children[2]\n",
    "btn1.on_click(fun_btn1)\n",
    "btn2.on_click(fun_btn2)"
   ]
  },
  {
   "cell_type": "markdown",
   "metadata": {},
   "source": [
    "# Display a simple User Interface"
   ]
  },
  {
   "cell_type": "code",
   "execution_count": 6,
   "metadata": {
    "collapsed": false
   },
   "outputs": [
    {
     "name": "stdout",
     "output_type": "stream",
     "text": [
      "Make directory: /home/fpizarro/s3-out/scanner/ArtemisStatue-phg-model-0003\n",
      "Input image folder: /home/fpizarro/super-scanner-software-s3/img/photog/ArtemisStatue-S3-phg-set\n",
      "Output path with the reconstruction: /home/fpizarro/s3-out/scanner/ArtemisStatue-phg-model-0003\n",
      "Execute:  /home/fpizarro/super-scanner-software-s3/scripts/MvgMvs_Pipeline.py\n",
      "See the command-line from where you launched Jupyter.\n",
      "End of  MvgMvs_Pipeline.py\n"
     ]
    }
   ],
   "source": [
    "general_ui"
   ]
  }
 ],
 "metadata": {
  "kernelspec": {
   "display_name": "Blender env",
   "language": "python",
   "name": "blender"
  },
  "language_info": {
   "codemirror_mode": {
    "name": "ipython",
    "version": 3
   },
   "file_extension": ".py",
   "mimetype": "text/x-python",
   "name": "python",
   "nbconvert_exporter": "python",
   "pygments_lexer": "ipython3",
   "version": "3.5.2"
  },
  "widgets": {
   "state": {
    "b633c0c6c3fc4c78bd25186a55f46e6c": {
     "views": [
      {
       "cell_index": 5
      }
     ]
    }
   },
   "version": "1.2.0"
  }
 },
 "nbformat": 4,
 "nbformat_minor": 1
}
