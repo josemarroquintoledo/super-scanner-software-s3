{
 "cells": [
  {
   "cell_type": "markdown",
   "metadata": {},
   "source": [
    "# Improve the Microscope Pictures with a Camera, a NeoPixel Illuminator and Fourier Ptychography\n",
    "\n",
    "by [Jose David Marroquin Toledo](https://github.com/josemarroquintoledo/)"
   ]
  },
  {
   "cell_type": "markdown",
   "metadata": {},
   "source": [
    "## 1 Import Functions from Other Jupyter Notebooks"
   ]
  },
  {
   "cell_type": "code",
   "execution_count": null,
   "metadata": {
    "collapsed": true
   },
   "outputs": [],
   "source": [
    "%run ../jupyter-modules/fwdimaging.ipynb\n",
    "%run ../jupyter-modules/phaseretrieval.ipynb\n",
    "%run ../jupyter-modules/microscopx.ipynb\n",
    "%run ../jupyter-modules/fputilities.ipynb"
   ]
  },
  {
   "cell_type": "markdown",
   "metadata": {},
   "source": [
    "## 2 Takes the Photos"
   ]
  },
  {
   "cell_type": "code",
   "execution_count": null,
   "metadata": {
    "collapsed": true
   },
   "outputs": [],
   "source": [
    "N_PHOTOS = 47\n",
    "CAM = 0  # Run ls -ltrh /dev/video* to list the video devices picked up\n",
    "         # by the Linux kernel.\n",
    "\n",
    "mode = 'RGB'  # 'RGB', 'GRB', 'R', 'G', 'B' or 'W'.\n",
    "project_path = take_photos(CAM, N_PHOTOS, color=mode)"
   ]
  },
  {
   "cell_type": "markdown",
   "metadata": {},
   "source": [
    "## 3 Generate the Incident Wave Vectors for the NeoPixel Lamp"
   ]
  },
  {
   "cell_type": "code",
   "execution_count": null,
   "metadata": {
    "collapsed": true
   },
   "outputs": [],
   "source": [
    "# SAMPLE_DISTANCE = 47  # Distance between in mm between the NeoPixel\n",
    "                      # illuminator and the sample.\n",
    "# {<Pixel shape>: <angle in degrees measured from the x-axis\n",
    "#                  for the first Pixel>, ... }\n",
    "PIXEL_LAMP = {7: 0, 16: -11.25, 24: -7.5}\n",
    "\n",
    "xy_lst_per_ring = get_pixels_xy(rings=PIXEL_LAMP)\n",
    "xy_lst_lst= sorted(xy_lst_per_ring.values())\n",
    "xy_lst = list()\n",
    "for lst in xy_lst_lst:\n",
    "    # Concatenate all list of xy_lst_lst.\n",
    "    xy_lst.extend(lst)\n",
    "wv_xy = gen_wave_vectors(xy_lst, SAMPLE_DISTANCE)"
   ]
  },
  {
   "cell_type": "markdown",
   "metadata": {},
   "source": [
    "## 4 Import the Lo-Res Image Set"
   ]
  },
  {
   "cell_type": "code",
   "execution_count": null,
   "metadata": {
    "collapsed": true
   },
   "outputs": [],
   "source": [
    "lores_set = read_lores_img_set(project_path, N_PHOTOS,\n",
    "                               img_prefix='IMG_' + mode.upper())\n",
    "hires_w_px = lores_set.shape[2] * 4  # Width of the reconstruction in px.\n",
    "hires_h_px = lores_set.shape[1] * 4  # Height of the reconstruction in\n",
    "                                     # px."
   ]
  },
  {
   "cell_type": "markdown",
   "metadata": {},
   "source": [
    "## 5 Set a Reconstruction Sequence"
   ]
  },
  {
   "cell_type": "code",
   "execution_count": null,
   "metadata": {
    "collapsed": true
   },
   "outputs": [],
   "source": [
    "# Generate a sequence that starts in the center of the Fourier spectrum\n",
    "# (central Pixel).\n",
    "seq = list(range(1, N_PHOTOS + 1))"
   ]
  },
  {
   "cell_type": "markdown",
   "metadata": {},
   "source": [
    "## 6 Reconstruct the Hi-Res Image from the Lo-Res Image Set"
   ]
  },
  {
   "cell_type": "code",
   "execution_count": null,
   "metadata": {
    "collapsed": true
   },
   "outputs": [],
   "source": [
    "# Pixel's datasheet for wavelengths in nanometers:\n",
    "# http://www.seeedstudio.com/document/pdf/WS2812B%20Datasheet.pdf\n",
    "PX_COLORS_WAVELEN = {'r': [620, 630], 'g': [515, 530],\n",
    "                     'b': [465, 475]}\n",
    "# CCD_PX = 2.75e-6  # The size of the employed CCD in m.\n",
    "# NA = 0.08  # Numerical aperture (NA) of the objective lens.\n",
    "\n",
    "mode = mode.lower()\n",
    "lst_path = list()\n",
    "if mode == 'gbr':\n",
    "    mode = 'rgb'\n",
    "for i in range(len(mode)):\n",
    "    print('<HiResReconstruction-' + mode[i].upper() + '>')\n",
    "    color = PX_COLORS_WAVELEN[mode[i]]\n",
    "    wavelen = (sum(color) / len(color)) * 1e-9  # In nanometers.\n",
    "    # Generate the coherent transfer function of the coherent imaging\n",
    "    # system.\n",
    "    cft, lores_w_px, lores_h_px, dkx, dky, kx, ky = gen_cft(np.array(wv_xy),\n",
    "        wavelen, CCD_PX, NA, hires_w_px, hires_h_px)\n",
    "    if mode == 'rgb':\n",
    "        img_set = lores_set[:, :, :, i]\n",
    "    else:\n",
    "        img_set = lores_set\n",
    "    # Reconstruct the Hi-Res image.\n",
    "    path = gen_hires_img(img_set, seq, hires_w_px, hires_h_px, cft,\n",
    "                         lores_w_px, lores_h_px, dkx, dky, kx, ky,\n",
    "                         project_path, name=('IMG_FP_' +\n",
    "                                             mode[i].upper()))\n",
    "    # Add the path of the reconstruction to a list. This follows the\n",
    "    # same order of mode (string).\n",
    "    lst_path.append(path)"
   ]
  },
  {
   "cell_type": "code",
   "execution_count": null,
   "metadata": {
    "collapsed": true
   },
   "outputs": [],
   "source": [
    "# If the photos were taken in RGB mode, merge.\n",
    "if mode == 'rgb':\n",
    "    imgs = list(map(lambda path: Image.open(path), lst_path))\n",
    "    rgb_reconstruction = Image.merge('RGB', tuple(imgs))\n",
    "    rgb_reconstruction.save(Path(lst_path[0]).parent.as_posix() +\n",
    "                            '/IMG_FP_RGB.TIF')\n",
    "    map(lambda pil_img: pil_img.close(), imgs)"
   ]
  }
 ],
 "metadata": {
  "kernelspec": {
   "display_name": "Python 3",
   "language": "python",
   "name": "python3"
  },
  "language_info": {
   "codemirror_mode": {
    "name": "ipython",
    "version": 3
   },
   "file_extension": ".py",
   "mimetype": "text/x-python",
   "name": "python",
   "nbconvert_exporter": "python",
   "pygments_lexer": "ipython3",
   "version": "3.6.3"
  }
 },
 "nbformat": 4,
 "nbformat_minor": 2
}
