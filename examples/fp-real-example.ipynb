{
 "cells": [
  {
   "cell_type": "markdown",
   "metadata": {},
   "source": [
    "# Improve the Microscope Pictures with a Camera, a NeoPixel Illuminator and Fourier Ptychography\n",
    "\n",
    "by [Jose David Marroquin Toledo](https://github.com/josemarroquintoledo/)"
   ]
  },
  {
   "cell_type": "markdown",
   "metadata": {},
   "source": [
    "## 1 Import Functions from Other Jupyter Notebooks"
   ]
  },
  {
   "cell_type": "code",
   "execution_count": null,
   "metadata": {
    "collapsed": true
   },
   "outputs": [],
   "source": [
    "%run ../jupyter-modules/fwdimaging.ipynb\n",
    "%run ../jupyter-modules/phaseretrieval.ipynb\n",
    "%run ../jupyter-modules/microscopx.ipynb\n",
    "%run ../jupyter-modules/fputilities.ipynb"
   ]
  },
  {
   "cell_type": "markdown",
   "metadata": {},
   "source": [
    "## 2 Takes the Photos"
   ]
  },
  {
   "cell_type": "code",
   "execution_count": null,
   "metadata": {},
   "outputs": [],
   "source": [
    "N_PHOTOS = 47\n",
    "CAM = 1  # Run ls -ltrh /dev/video* to list the video devices picked up\n",
    "         # by the Linux kernel.\n",
    "\n",
    "mode = 'RGB'\n",
    "project_path = take_photos(CAM, N_PHOTOS, color=mode)"
   ]
  },
  {
   "cell_type": "markdown",
   "metadata": {},
   "source": [
    "## 3 Generate the Incident Wave Vectors for the NeoPixel Lamp"
   ]
  },
  {
   "cell_type": "code",
   "execution_count": null,
   "metadata": {},
   "outputs": [],
   "source": [
    "import matplotlib.pyplot as plt\n",
    "\n",
    "SAMPLE_DISTANCE = 60  # Distance in mm between the NeoPixel\n",
    "                      # illuminator and the sample.\n",
    "# {<Pixel configuration>: <angle in degrees measured from the x-axis\n",
    "#                  for the first Pixel>, ... }\n",
    "PIXEL_LAMP = {7: -30, 16: 0, 24: 0}\n",
    "\n",
    "xy_lst_per_ring = get_pixels_xy(rings=PIXEL_LAMP)\n",
    "xy_lst_lst = sorted(xy_lst_per_ring.values())\n",
    "xy_lst = list()\n",
    "for lst in xy_lst_lst:\n",
    "    # Concatenate all lists of xy_lst_lst.\n",
    "    xy_lst.extend(lst)\n",
    "# Generate the incident wave vectors.\n",
    "wv_xy = gen_wave_vectors(xy_lst, SAMPLE_DISTANCE)\n",
    "wx, wy = zip(*wv_xy)  # Split the list of xy-coordinates in a tuple\n",
    "                      # for all x-component values and another for\n",
    "                      # the y-component.\n",
    "# ... and plot them.\n",
    "plt.plot(wx, wy, 'ro')\n",
    "plt.axis('scaled')\n",
    "plt.show()"
   ]
  },
  {
   "cell_type": "markdown",
   "metadata": {},
   "source": [
    "## 4 Import the Lo-Res Image Set"
   ]
  },
  {
   "cell_type": "code",
   "execution_count": null,
   "metadata": {},
   "outputs": [],
   "source": [
    "PREFIX = 'IMG_' + mode.upper()  # Common prefix for all Lo-Res images.\n",
    "\n",
    "lores_set = import_lores_img_set(project_path, N_PHOTOS,\n",
    "                               img_prefix=PREFIX)\n",
    "hires_w_px = lores_set.shape[2] * 4  # Width of the reconstruction in px.\n",
    "hires_h_px = lores_set.shape[1] * 4  # Height of the reconstruction in\n",
    "                                     # px."
   ]
  },
  {
   "cell_type": "markdown",
   "metadata": {},
   "source": [
    "## 5 Set a Reconstruction Sequence"
   ]
  },
  {
   "cell_type": "code",
   "execution_count": null,
   "metadata": {
    "collapsed": true
   },
   "outputs": [],
   "source": [
    "# Generate a reconstruction sequence that starts in the center of the\n",
    "# Fourier spectrum (central Pixel).\n",
    "seq = list(range(1, N_PHOTOS + 1))"
   ]
  },
  {
   "cell_type": "markdown",
   "metadata": {},
   "source": [
    "## 6 Reconstruct the Hi-Res Image from the Lo-Res Image Set"
   ]
  },
  {
   "cell_type": "code",
   "execution_count": null,
   "metadata": {},
   "outputs": [],
   "source": [
    "# PX_COLORS_WAVELENT is dictionary that contains the average of the\n",
    "# wavelength in meters of the Pixel's colors published by the\n",
    "# manufacturer in: http://www.seeedstudio.com/document/pdf/WS2812B%20Datasheet.pdf\n",
    "PX_COLORS_WAVELEN = {'r': 625e-9, 'g': 522.5e-9, 'b': 470e-9}\n",
    "# Set up the parameters for the microscope. REPLACE THEM with your own.\n",
    "CCD_PX = 3.4e-6  # The size of the employed CCD in meters.\n",
    "# These two are only to estimate the value of the numerical aperture\n",
    "# (NA).\n",
    "FOCUS_DIST = 5e-3  # The focus distance in meters.\n",
    "PUPIL_DIAMETER = 2.83e-3  # Pupil's aperture in meters.\n",
    "\n",
    "na = calc_na(FOCUS_DIST, PUPIL_DIAMETER)  # Numerical aperture of the \n",
    "                                          # objective lens.\n",
    "lst_path = list()  # List to store the route of each reconstruction.\n",
    "for i in range(len(mode)):\n",
    "    print('<HiResReconstruction-' + mode[i].upper() + '>')\n",
    "    wavelen = PX_COLORS_WAVELEN[mode.lower()[i]]\n",
    "    # Generate the coherent transfer function of the coherent imaging\n",
    "    # system.\n",
    "    cft, lores_w_px, lores_h_px, dkx, dky, kx, ky = gen_cft(np.array(wv_xy),\n",
    "        wavelen, CCD_PX, na, hires_w_px, hires_h_px)\n",
    "    img_set = lores_set[:, :, :, i]\n",
    "    path = gen_hires_img(img_set, seq, hires_w_px, hires_h_px, cft,\n",
    "                         lores_w_px, lores_h_px, dkx, dky, kx, ky,\n",
    "                         project_path, name=('IMG_FP_' +\n",
    "                                             mode[i].upper()))\n",
    "    # Add the path of the reconstruction to a list. This follows the\n",
    "    # same order of mode (string).\n",
    "    lst_path.append(path)\n",
    "# Merge the reconstructions per channel in one and save it.\n",
    "merge_imgs(lst_path, name='IMG_FP_' + mode.upper())"
   ]
  }
 ],
 "metadata": {
  "kernelspec": {
   "display_name": "Python 3",
   "language": "python",
   "name": "python3"
  },
  "language_info": {
   "codemirror_mode": {
    "name": "ipython",
    "version": 3
   },
   "file_extension": ".py",
   "mimetype": "text/x-python",
   "name": "python",
   "nbconvert_exporter": "python",
   "pygments_lexer": "ipython3",
   "version": "3.6.3"
  }
 },
 "nbformat": 4,
 "nbformat_minor": 2
}
