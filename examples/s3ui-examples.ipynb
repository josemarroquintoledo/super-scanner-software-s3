{
 "cells": [
  {
   "cell_type": "code",
   "execution_count": 1,
   "metadata": {
    "collapsed": false
   },
   "outputs": [
    {
     "name": "stdout",
     "output_type": "stream",
     "text": [
      "importing notebook from /home/fpizarro/super-scanner-software-s3/jupyter-modules/s3ui.ipynb\n",
      "importing notebook from /home/fpizarro/super-scanner-software-s3/jupyter-modules/phaseretrieval.ipynb\n",
      "importing notebook from /home/fpizarro/super-scanner-software-s3/jupyter-modules/fwdimaging.ipynb\n",
      "importing notebook from /home/fpizarro/super-scanner-software-s3/jupyter-modules/phg.ipynb\n",
      "importing notebook from /home/fpizarro/super-scanner-software-s3/jupyter-modules/blendjupyter.ipynb\n",
      "importing notebook from /home/fpizarro/super-scanner-software-s3/jupyter-modules/phgbpy.ipynb\n"
     ]
    }
   ],
   "source": [
    "from ipywidgets import *\n",
    "from IPython.display import display\n",
    "import s3ui as ui"
   ]
  },
  {
   "cell_type": "markdown",
   "metadata": {},
   "source": [
    "### Simulate a Reconstruction"
   ]
  },
  {
   "cell_type": "code",
   "execution_count": 5,
   "metadata": {
    "collapsed": true
   },
   "outputs": [],
   "source": [
    "ui.rec_form(form = \"single\")"
   ]
  },
  {
   "cell_type": "markdown",
   "metadata": {},
   "source": [
    "# 1.- Generate a Simulated Image Set"
   ]
  },
  {
   "cell_type": "code",
   "execution_count": 3,
   "metadata": {
    "collapsed": false
   },
   "outputs": [],
   "source": [
    "ui.sim_form()"
   ]
  },
  {
   "cell_type": "markdown",
   "metadata": {},
   "source": [
    "# 2.- Reconstruction Proccess"
   ]
  },
  {
   "cell_type": "code",
   "execution_count": 4,
   "metadata": {
    "collapsed": false
   },
   "outputs": [],
   "source": [
    "ui.rec_form(form = \"project\")"
   ]
  },
  {
   "cell_type": "markdown",
   "metadata": {},
   "source": [
    "# 3.- Photogrammetry Proccess"
   ]
  },
  {
   "cell_type": "code",
   "execution_count": 2,
   "metadata": {
    "collapsed": false
   },
   "outputs": [
    {
     "name": "stdout",
     "output_type": "stream",
     "text": [
      "Make directory: /home/fpizarro/s3-out/scanner/blend-phg-set-0002/phg-model-0003\n",
      "Input image folder: /home/fpizarro/s3-out/scanner/blend-phg-set-0002\n",
      "Output path with the reconstruction: /home/fpizarro/s3-out/scanner/blend-phg-set-0002/phg-model-0003\n",
      "Execute: /home/fpizarro/super-scanner-software-s3/scripts/MvgMvs_Pipeline.py\n",
      "See the command-line from where you launched Jupyter.\n",
      "End of the execution of MvgMvs_Pipeline.py\n",
      "Make directory: /home/fpizarro/s3-out/scanner/blend-phg-set-0002/phg-model-0004\n",
      "Input image folder: /home/fpizarro/s3-out/scanner/blend-phg-set-0002\n",
      "Output path with the reconstruction: /home/fpizarro/s3-out/scanner/blend-phg-set-0002/phg-model-0004\n",
      "Execute: /home/fpizarro/super-scanner-software-s3/scripts/MvgMvs_Pipeline.py\n",
      "See the command-line from where you launched Jupyter.\n",
      "End of the execution of MvgMvs_Pipeline.py\n"
     ]
    }
   ],
   "source": [
    "ui.phg_form()"
   ]
  },
  {
   "cell_type": "code",
   "execution_count": null,
   "metadata": {
    "collapsed": true
   },
   "outputs": [],
   "source": []
  }
 ],
 "metadata": {
  "kernelspec": {
   "display_name": "Blender env",
   "language": "python",
   "name": "blender"
  },
  "language_info": {
   "codemirror_mode": {
    "name": "ipython",
    "version": 3
   },
   "file_extension": ".py",
   "mimetype": "text/x-python",
   "name": "python",
   "nbconvert_exporter": "python",
   "pygments_lexer": "ipython3",
   "version": "3.5.2"
  },
  "widgets": {
   "state": {
    "508fc0f1648b4837aa59840522499390": {
     "views": [
      {
       "cell_index": 2
      }
     ]
    },
    "6712c1dd5c2c499b9d5e4c0079e29b44": {
     "views": [
      {
       "cell_index": 2
      }
     ]
    },
    "7d36bfc0592d4409ae39ff7e20553dbc": {
     "views": [
      {
       "cell_index": 4
      }
     ]
    },
    "96fcc52b984f40b0a6aff7f85ab281e0": {
     "views": [
      {
       "cell_index": 6
      }
     ]
    }
   },
   "version": "1.2.0"
  }
 },
 "nbformat": 4,
 "nbformat_minor": 1
}
