{
 "cells": [
  {
   "cell_type": "code",
   "execution_count": 1,
   "metadata": {
    "collapsed": false
   },
   "outputs": [
    {
     "name": "stdout",
     "output_type": "stream",
     "text": [
      "importing notebook from /home/fpizarro/superscanner-software-s3/jupyter-modules/s3ui.ipynb\n",
      "importing notebook from /home/fpizarro/superscanner-software-s3/jupyter-modules/phaseretrieval.ipynb\n",
      "importing notebook from /home/fpizarro/superscanner-software-s3/jupyter-modules/fwdimaging.ipynb\n",
      "importing notebook from /home/fpizarro/superscanner-software-s3/jupyter-modules/phg.ipynb\n",
      "importing notebook from /home/fpizarro/superscanner-software-s3/jupyter-modules/blendjupyter.ipynb\n",
      "importing notebook from /home/fpizarro/superscanner-software-s3/jupyter-modules/phgbpy.ipynb\n"
     ]
    }
   ],
   "source": [
    "from ipywidgets import *\n",
    "from IPython.display import display\n",
    "import s3ui as ui"
   ]
  },
  {
   "cell_type": "markdown",
   "metadata": {},
   "source": [
    "# 1.- Generate a Simulated Image Set"
   ]
  },
  {
   "cell_type": "code",
   "execution_count": 2,
   "metadata": {
    "collapsed": false
   },
   "outputs": [],
   "source": [
    "ui.sim_form()"
   ]
  },
  {
   "cell_type": "markdown",
   "metadata": {},
   "source": [
    "# 2.- Reconstruction Proccess"
   ]
  },
  {
   "cell_type": "code",
   "execution_count": 3,
   "metadata": {
    "collapsed": false
   },
   "outputs": [],
   "source": [
    "ui.rec_form(form = \"project\")"
   ]
  },
  {
   "cell_type": "markdown",
   "metadata": {},
   "source": [
    "# 3.- Photogrammetry Proccess"
   ]
  },
  {
   "cell_type": "code",
   "execution_count": 4,
   "metadata": {
    "collapsed": false
   },
   "outputs": [],
   "source": [
    "ui.phg_form()"
   ]
  },
  {
   "cell_type": "markdown",
   "metadata": {},
   "source": [
    "## Simulate a Reconstruction"
   ]
  },
  {
   "cell_type": "code",
   "execution_count": 5,
   "metadata": {
    "collapsed": false
   },
   "outputs": [],
   "source": [
    "ui.rec_form(form = \"single\")"
   ]
  }
 ],
 "metadata": {
  "kernelspec": {
   "display_name": "Blender env",
   "language": "python",
   "name": "blender"
  },
  "language_info": {
   "codemirror_mode": {
    "name": "ipython",
    "version": 3
   },
   "file_extension": ".py",
   "mimetype": "text/x-python",
   "name": "python",
   "nbconvert_exporter": "python",
   "pygments_lexer": "ipython3",
   "version": "3.5.2"
  },
  "widgets": {
   "state": {
    "1ef8c1faa07d4b5ba35f7d7d2ba1a6a7": {
     "views": [
      {
       "cell_index": 4
      }
     ]
    },
    "9c071d2a73914624ad7b849c072066a5": {
     "views": [
      {
       "cell_index": 8
      }
     ]
    },
    "b63423aee54f45a185bf48dab56d6903": {
     "views": [
      {
       "cell_index": 2
      }
     ]
    },
    "d0c53a4bfc2645118891f9864c379efb": {
     "views": [
      {
       "cell_index": 6
      }
     ]
    }
   },
   "version": "1.2.0"
  }
 },
 "nbformat": 4,
 "nbformat_minor": 1
}
