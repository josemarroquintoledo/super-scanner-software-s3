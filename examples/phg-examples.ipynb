{
 "cells": [
  {
   "cell_type": "code",
   "execution_count": null,
   "metadata": {
    "collapsed": false
   },
   "outputs": [],
   "source": [
    "import blendjupyter as blendj\n",
    "import phgbpy as phg"
   ]
  },
  {
   "cell_type": "markdown",
   "metadata": {
    "collapsed": true
   },
   "source": [
    "# Examples for the Steps of the Photogrammetry Process\n",
    "\n",
    "## 1. Generate a Simulated Image Set for Photogrammetry\n",
    "\n",
    "- Executing all cells of this notebook\n",
    "\n",
    "or\n",
    "\n",
    "- Exporting [phgbpy.ipynb](../blend-scripts/phgbpy.ipynb), [blendjupyter.ipynb](../blend-scripts/blendjupyter.ipynb) and this notebook as a Python scripts (**File**&rarr;**Download as**&rarr;**Python (.py)**), openning Blender, [phstudio_ArtemisStatue.blend](../blend-meshes/phstudio_ArtemisStatue.blend) and those script (**Chose Screen layout**&rarr;**Open**), and running the last of them (phg-examples.py) (**Run Script**), you are going to generate an **image set to be used with a photogrammetry software**.\n",
    "\n",
    "This notebook **does not use** a Python kernel, [uses a Blender kernel](https://github.com/panzi/blender_ipython)."
   ]
  },
  {
   "cell_type": "markdown",
   "metadata": {},
   "source": [
    "### 1.1. Fixed Sample and Movable Camera"
   ]
  },
  {
   "cell_type": "code",
   "execution_count": null,
   "metadata": {
    "collapsed": false
   },
   "outputs": [],
   "source": [
    "blendj.open_blend(path='../blend-meshes/phstudio_ArtemisStatue.blend')\n",
    "axis, mesh = blendj.get_mesh('3DWP ArtemisStatue Thingiverse')\n",
    "scene = blendj.set_up_sc(wpx=2560,\n",
    "                         hpx=1920,\n",
    "                         quality=50,\n",
    "                         bw=False,\n",
    "                         transparent=True)\n",
    "cam = blendj.get_camera()\n",
    "blendj.set_up_cam(cam)\n",
    "phg.take_photos(cam, scene, axis, mesh, phg.walk_sphere(move='CAM',\n",
    "                                                        r=12,\n",
    "                                                        hinit=6,\n",
    "                                                        hend=10,\n",
    "                                                        daltitude=15,\n",
    "                                                        hsteps=12),\n",
    "                move='CAM')"
   ]
  },
  {
   "cell_type": "markdown",
   "metadata": {},
   "source": [
    "### 1.2. Fixed Camera and Movable Object's Base"
   ]
  },
  {
   "cell_type": "code",
   "execution_count": null,
   "metadata": {
    "collapsed": false
   },
   "outputs": [],
   "source": [
    "blendj.open_blend(path='../blend-meshes/phstudio_ArtemisStatue.blend')\n",
    "axis, mesh = blendj.get_mesh('3DWP ArtemisStatue Thingiverse')\n",
    "scene = blendj.set_up_sc(wpx=2560,\n",
    "                         hpx=1920,\n",
    "                         quality=50,\n",
    "                         bw=False,\n",
    "                         transparent=True)\n",
    "cam = blendj.get_camera()\n",
    "blendj.set_up_cam(cam, loc=(3, 0, 9))\n",
    "phg.take_photos(cam,\n",
    "                scene,\n",
    "                axis,\n",
    "                mesh,\n",
    "                phg.walk_sphere(camloc=cam.location),\n",
    "                move='OBJECT')"
   ]
  }
 ],
 "metadata": {
  "anaconda-cloud": {},
  "kernelspec": {
   "display_name": "Blender",
   "language": "python",
   "name": "blender"
  },
  "language_info": {
   "codemirror_mode": {
    "name": "ipython",
    "version": 3
   },
   "file_extension": ".py",
   "mimetype": "text/x-python",
   "name": "python",
   "nbconvert_exporter": "python",
   "pygments_lexer": "ipython3",
   "version": "3.5.2"
  }
 },
 "nbformat": 4,
 "nbformat_minor": 0
}
