{
 "cells": [
  {
   "cell_type": "code",
   "execution_count": null,
   "metadata": {
    "collapsed": false
   },
   "outputs": [],
   "source": [
    "import phgbpy\n",
    "import phg"
   ]
  },
  {
   "cell_type": "markdown",
   "metadata": {
    "collapsed": true
   },
   "source": [
    "# Examples for the Steps of the Photogrammetry Process\n",
    "\n",
    "- Executing the first code cell and one or more of the next cells.\n",
    "\n",
    "or\n",
    "\n",
    "- Exporting [phgbpy.ipynb](../jupyter-modules/phgbpy.ipynb), [blendjupyter.ipynb](../jupyter-modules/blendjupyter.ipynb), [phgbpy.ipynb](../jupyter-modules/phg.ipynb) and this notebook as a Python scripts (**File**&rarr;**Download as**&rarr;**Python (.py)**); openning Blender, [phstudio_ArtemisStatue.blend](../blend-meshes/phstudio_ArtemisStatue.blend) and those script (**Chose Screen layout**&rarr;**Open**), and running the last of them (phg-examples.py) (**Run Script**), you are going to generate an **image set to be used with a photogrammetry software**.\n",
    "\n",
    "This notebook **does not use** a Python kernel, [uses a Blender kernel](https://github.com/panzi/blender_ipython)."
   ]
  },
  {
   "cell_type": "markdown",
   "metadata": {},
   "source": [
    "## 1. Generate a Simulated Image Set for Photogrammetry\n",
    "\n",
    "Here, a camera will take **photos of a sample from different angles and heights** and store them in a folder with route equals to the stored value by `img_path`.\n",
    "\n",
    "With values less than `1` (default) for `scale` parameter in `phgbpy.take_phg_photos()`, the reconstruction process will take less time but the quality of the model will be lower.\n",
    "\n",
    "### 1.1. Fixed Sample and Movable Camera"
   ]
  },
  {
   "cell_type": "code",
   "execution_count": null,
   "metadata": {
    "collapsed": false
   },
   "outputs": [],
   "source": [
    "img_path = phgbpy.take_phg_photos(movetype='CAM', scale=0.5)"
   ]
  },
  {
   "cell_type": "markdown",
   "metadata": {},
   "source": [
    "## 2. Build a 3D Model from Image Set and Show It\n",
    "\n",
    "With the image set generated above, the code cell below will reconstruct the 3D model and then open it with [MeshLab](http://meshlab.sourceforge.net)."
   ]
  },
  {
   "cell_type": "code",
   "execution_count": null,
   "metadata": {
    "collapsed": false
   },
   "outputs": [],
   "source": [
    "model_path = phg.create_3d_model(inpath=img_path)\n",
    "phg.open_3d_model(model_path)"
   ]
  }
 ],
 "metadata": {
  "anaconda-cloud": {},
  "kernelspec": {
   "display_name": "Blender",
   "language": "python",
   "name": "blender"
  },
  "language_info": {
   "codemirror_mode": {
    "name": "ipython",
    "version": 3
   },
   "file_extension": ".py",
   "mimetype": "text/x-python",
   "name": "python",
   "nbconvert_exporter": "python",
   "pygments_lexer": "ipython3",
   "version": "3.5.2"
  }
 },
 "nbformat": 4,
 "nbformat_minor": 0
}
