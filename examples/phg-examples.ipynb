{
 "cells": [
  {
   "cell_type": "code",
   "execution_count": null,
   "metadata": {
    "collapsed": false
   },
   "outputs": [],
   "source": [
    "import phgbpy as phg"
   ]
  },
  {
   "cell_type": "markdown",
   "metadata": {
    "collapsed": true
   },
   "source": [
    "# Examples for the Steps of the Photogrammetry Process\n",
    "\n",
    "## 1. Generate a Simulated Image Set for Photogrammetry\n",
    "\n",
    "- Executing the first code cell and one or more of the next cells.\n",
    "\n",
    "or\n",
    "\n",
    "- Exporting [phgbpy.ipynb](../blend-scripts/phgbpy.ipynb), [blendjupyter.ipynb](../blend-scripts/blendjupyter.ipynb) and this notebook as a Python scripts (**File**&rarr;**Download as**&rarr;**Python (.py)**); openning Blender, [phstudio_ArtemisStatue.blend](../blend-meshes/phstudio_ArtemisStatue.blend) and those script (**Chose Screen layout**&rarr;**Open**), and running the last of them (phg-examples.py) (**Run Script**), you are going to generate an **image set to be used with a photogrammetry software**.\n",
    "\n",
    "This notebook **does not use** a Python kernel, [uses a Blender kernel](https://github.com/panzi/blender_ipython)."
   ]
  },
  {
   "cell_type": "markdown",
   "metadata": {},
   "source": [
    "### 1.1. Fixed Sample and Movable Camera"
   ]
  },
  {
   "cell_type": "code",
   "execution_count": null,
   "metadata": {
    "collapsed": false
   },
   "outputs": [],
   "source": [
    "phg.take_phg_photos(movetype='CAM')"
   ]
  },
  {
   "cell_type": "markdown",
   "metadata": {},
   "source": [
    "### 1.2. Fixed Camera and Movable Object's Base"
   ]
  },
  {
   "cell_type": "code",
   "execution_count": null,
   "metadata": {
    "collapsed": false
   },
   "outputs": [],
   "source": [
    "phg.take_phg_photos(movetype='OBJECT')"
   ]
  }
 ],
 "metadata": {
  "anaconda-cloud": {},
  "kernelspec": {
   "display_name": "Blender",
   "language": "python",
   "name": "blender"
  },
  "language_info": {
   "codemirror_mode": {
    "name": "ipython",
    "version": 3
   },
   "file_extension": ".py",
   "mimetype": "text/x-python",
   "name": "python",
   "nbconvert_exporter": "python",
   "pygments_lexer": "ipython3",
   "version": "3.5.2"
  }
 },
 "nbformat": 4,
 "nbformat_minor": 0
}
