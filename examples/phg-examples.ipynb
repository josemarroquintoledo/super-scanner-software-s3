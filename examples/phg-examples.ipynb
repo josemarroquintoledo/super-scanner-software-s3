{
 "cells": [
  {
   "cell_type": "code",
   "execution_count": null,
   "metadata": {
    "collapsed": false
   },
   "outputs": [],
   "source": [
    "import phgbpy as phg"
   ]
  },
  {
   "cell_type": "markdown",
   "metadata": {
    "collapsed": true
   },
   "source": [
    "# Examples for the Steps of the Photogrammetry Process\n",
    "\n",
    "## 1. Generate a Image Set for Photogrammetry\n",
    "\n",
    "- Executing the first cell below\n",
    "\n",
    "or\n",
    "\n",
    "- Exporting [phgbpy.ipynb](../blend-scripts/phgbpy.ipynb) as a Python script (**File**&rarr;**Download as**&rarr;**Python (.py)**), openning Blender, [phstudio_ArtemisStatue.blend](../blend-meshes/phstudio_ArtemisStatue.blend) and the script (**Chose Screen layout**&rarr;**Open**); copying the lines of code of the cell below and running the script, that going to generate an **image set to be used with a photogrammetry software**.\n",
    "\n",
    "In the Blender's window, from **File**&rarr;**Import**&rarr;**Stl (.stl)**, you can choose your own mesh. Sometimes, it is necessary to scale the 3D models.\n",
    "\n",
    "This notebook **does not use** a Python kernel, [uses a Blender kernel](https://github.com/panzi/blender_ipython)."
   ]
  },
  {
   "cell_type": "code",
   "execution_count": null,
   "metadata": {
    "collapsed": false
   },
   "outputs": [],
   "source": [
    "phg.open_blend()\n",
    "scene = phg.set_up_sc(wpx=2560, hpx=1920, quality=50, bw=False)\n",
    "cam = phg.get_camera()\n",
    "phg.set_up_cam(cam)\n",
    "phg.take_photos(cam, scene, phg.walk_sphere(r=12,\n",
    "                                            hinit=6,\n",
    "                                            hend=10,\n",
    "                                            daltitude=15,\n",
    "                                            hsteps=12),\n",
    "                ext='JPEG')"
   ]
  }
 ],
 "metadata": {
  "anaconda-cloud": {},
  "kernelspec": {
   "display_name": "Blender",
   "language": "python",
   "name": "blender"
  },
  "language_info": {
   "codemirror_mode": {
    "name": "ipython",
    "version": 3
   },
   "file_extension": ".py",
   "mimetype": "text/x-python",
   "name": "python",
   "nbconvert_exporter": "python",
   "pygments_lexer": "ipython3",
   "version": "3.5.2"
  }
 },
 "nbformat": 4,
 "nbformat_minor": 0
}
