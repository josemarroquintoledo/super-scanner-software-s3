{
 "cells": [
  {
   "cell_type": "code",
   "execution_count": null,
   "metadata": {
    "collapsed": false
   },
   "outputs": [],
   "source": [
    "import blendjupyter as blendj\n",
    "import illuminator as led"
   ]
  },
  {
   "cell_type": "markdown",
   "metadata": {
    "collapsed": true
   },
   "source": [
    "# Simulate Low Resolution Image Set with Blender for FP\n",
    "\n",
    "- Executing all cells of this notebook\n",
    "\n",
    "or\n",
    "\n",
    "- Exporting [illuminator.ipynb](../jupyter-modules/illuminator.ipynb), [blendjupyter.ipynb](../jupyter-modules/blendjupyter.ipynb) and this notebook as Python scripts (**File**&rarr;**Download as**&rarr;**Python (.py)**), openning Blender, [fpstudio_ArtemisStatue.blend](../blend-meshes/phstudio_ArtemisStatue.blend) and those script (**Chose Screen layout**&rarr;**Open**), and running the last of them (fpblend-examples.py) (**Run Script**), you will generate an **image set to be used with the Fourier Ptychography algorithm**.\n",
    "\n",
    "This notebook **does not use** a Python kernel, [uses a Blender kernel](https://github.com/panzi/blender_ipython)."
   ]
  },
  {
   "cell_type": "code",
   "execution_count": null,
   "metadata": {
    "collapsed": false
   },
   "outputs": [],
   "source": [
    "blendj.open_blend(path='../blend-meshes/fpstudio_ArtemisStatue.blend')\n",
    "scene = blendj.set_up_sc(wpx=64, hpx=64, extension='JPEG')\n",
    "dist_sample_grid = 90\n",
    "cam = blendj.get_camera()\n",
    "blendj.set_up_cam(cam, camloc=(0, 0, dist_sample_grid - 1))\n",
    "\n",
    "lamps = grid.create_led_illuminator(scene, led.gen_xyz_ring_led())\n",
    "led.illuminate_step_by_step(cam, scene, lamps)"
   ]
  }
 ],
 "metadata": {
  "anaconda-cloud": {},
  "kernelspec": {
   "display_name": "Blender",
   "language": "python",
   "name": "blender"
  },
  "language_info": {
   "codemirror_mode": {
    "name": "ipython",
    "version": 3
   },
   "file_extension": ".py",
   "mimetype": "text/x-python",
   "name": "python",
   "nbconvert_exporter": "python",
   "pygments_lexer": "ipython3",
   "version": "3.5.2"
  }
 },
 "nbformat": 4,
 "nbformat_minor": 0
}
