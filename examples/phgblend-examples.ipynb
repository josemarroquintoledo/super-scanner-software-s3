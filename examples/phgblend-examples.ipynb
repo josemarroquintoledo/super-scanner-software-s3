{
 "cells": [
  {
   "cell_type": "code",
   "execution_count": null,
   "metadata": {
    "collapsed": false
   },
   "outputs": [],
   "source": [
    "import phgbpy\n",
    "import phg"
   ]
  },
  {
   "cell_type": "markdown",
   "metadata": {
    "collapsed": true
   },
   "source": [
    "# Photogrammetry Process Examples Using Blender and External Software\n",
    "\n",
    "- Executing the first code cell and one or more of the next cells\n",
    "\n",
    "or\n",
    "\n",
    "- exporting [phgbpy.ipynb](../jupyter-modules/phgbpy.ipynb), [blendjupyter.ipynb](../jupyter-modules/blendjupyter.ipynb), [phg.ipynb](../jupyter-modules/phg.ipynb) and this notebook as a Python scripts (**File**&rarr;**Download as**&rarr;**Python (.py)**); openning Blender, [phstudio_ArtemisStatue.blend](../blend-meshes/phstudio_ArtemisStatue.blend) and those script (**Chose Screen layout**&rarr;**Open**), and running the last of them (phg-examples.py) (**Run Script**),\n",
    "\n",
    "you will be able to generate an **image set to be used with a photogrammetry software**.\n",
    "\n",
    "This notebook **does not use** a Python kernel, it [uses a Blender kernel](https://github.com/panzi/blender_ipython)."
   ]
  },
  {
   "cell_type": "markdown",
   "metadata": {},
   "source": [
    "## 1. Generate a Simulated Image Set for Photogrammetry\n",
    "\n",
    "Here, a camera will take **photos of a sample from different angles and heights** and store them in a folder with route equals to the stored value by `img_path`.\n",
    "\n",
    "With values less than `1` (by default) for `scale` parameter in `phgbpy.take_phg_photos()`, the reconstruction process will take less time but the quality of the model will be lower."
   ]
  },
  {
   "cell_type": "markdown",
   "metadata": {},
   "source": [
    "### 1.1. Fixed Camera and Movable Object\n",
    "\n",
    "The camera is fixed and the object rotate in base respecto to the z-axis."
   ]
  },
  {
   "cell_type": "code",
   "execution_count": null,
   "metadata": {
    "collapsed": false
   },
   "outputs": [],
   "source": [
    "%%time\n",
    "img_path = phgbpy.take_phg_photos(movetype='OBJECT', xysteps=14)"
   ]
  },
  {
   "cell_type": "markdown",
   "metadata": {},
   "source": [
    "### 1.2. Fixed Object and Movable Camera\n",
    "\n",
    "The camera walks around the object and for each lap, it up one level."
   ]
  },
  {
   "cell_type": "code",
   "execution_count": null,
   "metadata": {
    "collapsed": false
   },
   "outputs": [],
   "source": [
    "%%time\n",
    "img_path = phgbpy.take_phg_photos(movetype='CAM', z0angle=20,\n",
    "                                  zeangle=40, xysteps=12,\n",
    "                                  camloc0=(0, 0, 3))"
   ]
  },
  {
   "cell_type": "markdown",
   "metadata": {},
   "source": [
    "#### 1.2.1. Image Set for a SuperScanner Projects (simulated)\n",
    "\n",
    "\n",
    "> **Note: ** for SuperScanner projects (**microscope &#43; scanner 3D**), add `ssproj=True` as parameter of `phgbpy.take_phg_photos()`. As you will see, each photo will be stored single whitin a different directory. For now, **is only grayscale is supported** (`gray=True`)."
   ]
  },
  {
   "cell_type": "code",
   "execution_count": null,
   "metadata": {
    "collapsed": false
   },
   "outputs": [],
   "source": [
    "%%time\n",
    "ss_proj_img_path = phgbpy.take_phg_photos(movetype='CAM', z0angle=20,\n",
    "                                          zeangle=40, xysteps=9,\n",
    "                                          camloc0=(0, 0, 3),\n",
    "                                          ssproj=True, gray=True)"
   ]
  },
  {
   "cell_type": "markdown",
   "metadata": {},
   "source": [
    "## 2. Build a 3D Model from Image Set and Show It\n",
    "\n",
    "With the image set generated above, the code cell below will reconstruct the 3D model and then open it with [MeshLab](http://meshlab.sourceforge.net)."
   ]
  },
  {
   "cell_type": "code",
   "execution_count": null,
   "metadata": {
    "collapsed": false
   },
   "outputs": [],
   "source": [
    "%%time\n",
    "model_path = phg.create_3d_model(inpath=img_path)\n",
    "phg.open_3d_model(model_path)"
   ]
  }
 ],
 "metadata": {
  "anaconda-cloud": {},
  "kernelspec": {
   "display_name": "Blender",
   "language": "python",
   "name": "blender"
  },
  "language_info": {
   "codemirror_mode": {
    "name": "ipython",
    "version": 3
   },
   "file_extension": ".py",
   "mimetype": "text/x-python",
   "name": "python",
   "nbconvert_exporter": "python",
   "pygments_lexer": "ipython3",
   "version": "3.5.2"
  }
 },
 "nbformat": 4,
 "nbformat_minor": 0
}
