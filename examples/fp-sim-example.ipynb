{
 "cells": [
  {
   "cell_type": "markdown",
   "metadata": {},
   "source": [
    "# Try Fourier Ptychography\n",
    "\n",
    "by [Jose David Marroquin Toledo](https://github.com/josemarroquintoledo/)\n",
    "\n",
    "This example notebook simulates the whole process of the Fourier Ptychography. From 2-5 steps, it simulates the for forward imaging process generating low-resolution images adquired under different incident angles with a LED matrix. From 6-8 steps, this retrieves the phase information, lost in the measuring process, to reconstructs a high-resolution image from the Lo-Res image set."
   ]
  },
  {
   "cell_type": "markdown",
   "metadata": {},
   "source": [
    "## 1 Import Functions from Other Jupyter Notebooks"
   ]
  },
  {
   "cell_type": "code",
   "execution_count": null,
   "metadata": {
    "collapsed": true
   },
   "outputs": [],
   "source": [
    "%run ../jupyter-modules/fwdimaging.ipynb\n",
    "%run ../jupyter-modules/phaseretrieval.ipynb\n",
    "%run ../jupyter-modules/fputilities.ipynb"
   ]
  },
  {
   "cell_type": "markdown",
   "metadata": {},
   "source": [
    "## 2 Simulate the Sample"
   ]
  },
  {
   "cell_type": "code",
   "execution_count": null,
   "metadata": {},
   "outputs": [],
   "source": [
    "# You will find a compressed image set (CC) in img directory\n",
    "# (fp-imgs-cc.zip). Uncompress it or use your own and uncomment the\n",
    "# lines below.\n",
    "# AMPLITUDE_IMG = '../img/BobMacInnes_microscopy-043--fly-wing_flickr_1024x685.tif'\n",
    "# PHASE_IMG = '../img/pabloaez_Valparaiso-054_flickr_4000x3000.png'\n",
    "sample, hires_w_px, hires_h_px = sim_sample(AMPLITUDE_IMG, PHASE_IMG)"
   ]
  },
  {
   "cell_type": "markdown",
   "metadata": {},
   "source": [
    "## 3 Simulate the LED Matrix"
   ]
  },
  {
   "cell_type": "code",
   "execution_count": null,
   "metadata": {},
   "outputs": [],
   "source": [
    "LEDS_PER_ROW = 9  # Number of LEDs per row of the LED matrix.\n",
    "LED_DISTANCE = 4  # Distance between LEDs in mm.\n",
    "\n",
    "xy_lst = sim_sqr_grid(9, 4)  # List of lists of (x, y) tuples."
   ]
  },
  {
   "cell_type": "markdown",
   "metadata": {},
   "source": [
    "## 4 Generate the Incident Wave Vectors for the LED Matrix"
   ]
  },
  {
   "cell_type": "code",
   "execution_count": null,
   "metadata": {},
   "outputs": [],
   "source": [
    "import matplotlib.pyplot as plt\n",
    "SAMPLE_DISTANCE = 100  # Distance between in mm between the LED matrix\n",
    "                       # and the sample.\n",
    "\n",
    "wv_xy = gen_wave_vectors(xy_lst, SAMPLE_DISTANCE)"
   ]
  },
  {
   "cell_type": "markdown",
   "metadata": {},
   "source": [
    "## 5 Simulate the Low-Res Images for Each Different Incident Angle"
   ]
  },
  {
   "cell_type": "code",
   "execution_count": null,
   "metadata": {},
   "outputs": [],
   "source": [
    "WAVELENGTH = 0.63e-6  # In m.\n",
    "CCD_PX = 2.75e-6  # The size of the employed CCD in m.\n",
    "NA = 0.08  # Numerical aperture (NA) of the objective lens.\n",
    "# Add the Lo-Res set's path and uncomment the line below. If that does\n",
    "# not exist, the will be created.\n",
    "# LORES_SET_PATH =\n",
    "\n",
    "# Generate the coherent transfer function of the coherent imaging\n",
    "# system.\n",
    "cft, lores_w_px, lores_h_px, dkx, dky, kx, ky = gen_cft(np.array(wv_xy),\n",
    "    WAVELENGTH, CCD_PX, NA, hires_w_px, hires_h_px)\n",
    "# Simulate the Lo-Res image set.\n",
    "\n",
    "n_leds = LEDS_PER_ROW ** 2  # Total number of LEDs in the LED matrix.\n",
    "sim_lores_set(sample, hires_w_px, hires_h_px, n_leds, cft, lores_w_px,\n",
    "              lores_h_px, dkx, dky, kx, ky, LORES_SET_PATH)"
   ]
  },
  {
   "cell_type": "markdown",
   "metadata": {},
   "source": [
    "## 6 Set a Reconstruction Sequence"
   ]
  },
  {
   "cell_type": "code",
   "execution_count": null,
   "metadata": {},
   "outputs": [],
   "source": [
    "# Generate a sequence that starts in the center of the Fourier spectrum\n",
    "# (central LED).\n",
    "seq = get_matrix_seq(LEDS_PER_ROW)"
   ]
  },
  {
   "cell_type": "markdown",
   "metadata": {},
   "source": [
    "## 7 Import the Lo-Res Image Set"
   ]
  },
  {
   "cell_type": "code",
   "execution_count": null,
   "metadata": {},
   "outputs": [],
   "source": [
    "lores_set = read_lores_img_set(LORES_SET_PATH, n_leds, format='TIF')"
   ]
  },
  {
   "cell_type": "markdown",
   "metadata": {},
   "source": [
    "## 8 Generate/Reconstruct the Hi-Res Image from the Lo-Res Image Set"
   ]
  },
  {
   "cell_type": "code",
   "execution_count": null,
   "metadata": {},
   "outputs": [],
   "source": [
    "# Set a path for the reconstruction image an uncomment the line below.\n",
    "OUTPUT_PATH = LORES_SET_PATH\n",
    "\n",
    "gen_hires_img(lores_set, seq, hires_w_px, hires_h_px, cft, lores_w_px,\n",
    "              lores_h_px, dkx, dky, kx, ky, OUTPUT_PATH)"
   ]
  }
 ],
 "metadata": {
  "kernelspec": {
   "display_name": "Python 3",
   "language": "python",
   "name": "python3"
  },
  "language_info": {
   "codemirror_mode": {
    "name": "ipython",
    "version": 3
   },
   "file_extension": ".py",
   "mimetype": "text/x-python",
   "name": "python",
   "nbconvert_exporter": "python",
   "pygments_lexer": "ipython3",
   "version": "3.6.3"
  }
 },
 "nbformat": 4,
 "nbformat_minor": 2
}
