{
 "cells": [
  {
   "cell_type": "code",
   "execution_count": null,
   "metadata": {
    "collapsed": false
   },
   "outputs": [],
   "source": [
    "import fwdimaging as fwd\n",
    "import phaseretrieval as phr"
   ]
  },
  {
   "cell_type": "markdown",
   "metadata": {},
   "source": [
    "# Examples for Using of Fourier Ptychography Algorithm\n",
    "\n",
    "This notebook shows very simple examples about the use of functions of `fwimaging` and `phaseretrieval` Jupyter modules ([fwdimaging.ipynb](../jupyter-modules/fwdimaging.ipynb) and [phaseretrieval.ipynb](../jupyter-modules/fwdimaging.ipynb), respectively). Several default options can be modified adding them as arguments  to the functions before the function calling.\n",
    "\n",
    "> **Note:**\n",
    "\n",
    "> - **Execute the first code cell above** to import the Jupyter modules.\n",
    "\n",
    "> - We have chosen **TIF and PNG formats for the imaging procedures** of Fourier Ptychography. Specifically, TIF files are used for the input amplitude, Lo-Res image input set and Hi-Res output image; instead, PNG, for the input phase.\n",
    "\n",
    "> - Some pictures contained in the [img](../img) folder are imported by default to generate the Lo-Res image set, but **you can use other images**. For example, for a new amplitude picture: download it &rarr; convert it to grayscale &rarr; export it as TIF.\n",
    "\n",
    "## 1. Generate Lo-Res Image Set from a High-Quality Picture\n",
    "\n",
    "### 1.1. Simulate the Lo-Res Image Capturing Process\n",
    "\n",
    "We obtain a Lo-Res image set in which each picture is a photo of the sample illuminated by only one lamp of the LED illuminator. To simulate it, it **requires an image as input amplitude (TIF file) and another as input phase (PNG)**. The size of the picture that is used by the phase must be greater or equal than the amplitude picture."
   ]
  },
  {
   "cell_type": "markdown",
   "metadata": {},
   "source": [
    "#### 1.1.1. Illuminate with a LED Grid Illuminator\n",
    "\n",
    "To simulate a LED grid illuminator, **`illuminator` must be equal to `GRID`**. Use `leds` to indicate the number of LEDs per row or column of the squared grid."
   ]
  },
  {
   "cell_type": "code",
   "execution_count": null,
   "metadata": {
    "collapsed": false,
    "scrolled": true
   },
   "outputs": [],
   "source": [
    "fwd.simulate_set(illuminator='GRID', leds=15,\n",
    "                 amplitude='../img/BobMachines_microscopy-043--fly-wing_flickr_1024x685.tif',\n",
    "                 phase='../img/pabloaez_Valparaiso-054_flickr_4000x3000.png')"
   ]
  },
  {
   "cell_type": "markdown",
   "metadata": {},
   "source": [
    "#### 1.1.2. Illuminate with a LED Ring Illuminator\n",
    "\n",
    "To simulate a LED ring illuminator, **`illuminator` parameter must be equal to `RING`**. Use `leds` to indicate the number of LEDs per ring from the center to the edge in a `list` of `int` numbers as is shown below. `d` is the distance in milimeters (mm) between LEDs."
   ]
  },
  {
   "cell_type": "code",
   "execution_count": null,
   "metadata": {
    "collapsed": false,
    "scrolled": true
   },
   "outputs": [],
   "source": [
    "fwd.simulate_set(illuminator='RING', leds=[12, 18, 36], d=5,\n",
    "                 amplitude='../img/BobMachines_microscopy-043--fly-wing_flickr_1024x685.tif',\n",
    "                 phase='../img/pabloaez_Valparaiso-054_flickr_4000x3000.png')"
   ]
  },
  {
   "cell_type": "markdown",
   "metadata": {},
   "source": [
    "## 2. Generate the High-Res and High-Quality Picture from Lo-Res Image Set\n",
    "\n",
    "Now, say to `get_photo()` **how many LEDs you used to illuminate the sample** (`leds`) and **where is the input folder** that contains the Lo-Res pictures (`inpath`)."
   ]
  },
  {
   "cell_type": "markdown",
   "metadata": {},
   "source": [
    "### 2.1. Set from Photo Capturing with a LED Grid\n",
    "\n",
    "Say to `get_photo()` **how many LEDs per row or column** (`leds`) you used to illuminate the sample and **where is the input folder** that contains the Lo-Res pictures (`inpath`).\n",
    "\n",
    "**Copy and paste the output path** of the output of the execution of the code cell below **1.1.1.**\n",
    "\n",
    "> **Note: ** For now, they are only supported **squared LED grids** (order n-by-n)."
   ]
  },
  {
   "cell_type": "code",
   "execution_count": null,
   "metadata": {
    "collapsed": false
   },
   "outputs": [],
   "source": [
    "phr.get_photo(leds=15,\n",
    "              inpath='/home/marroquintoledo-l-br/s3-out/microscope/lores-set-0002/',\n",
    "              show=True,\n",
    "              firstsuffix='001')"
   ]
  },
  {
   "cell_type": "markdown",
   "metadata": {},
   "source": [
    "### 2.2. Set from Photo Capturing with a LED Ring\n",
    "\n",
    "Say to `get_photo()` **how many LEDs per ring** in a `list` (`leds`) you used to illuminate the sample and **where is the input folder** that contains the Lo-Res pictures (`inpath`).\n",
    "\n",
    "**Copy and paste the output path** of the output of the execution of the code cell below **1.1.2.**"
   ]
  },
  {
   "cell_type": "code",
   "execution_count": null,
   "metadata": {
    "collapsed": false
   },
   "outputs": [],
   "source": [
    "phr.get_photo(leds=[12, 18, 36], d=5, illuminator='RING',\n",
    "              inpath='/home/marroquintoledo-l-br/s3-out/microscope/lores-set-0003/',\n",
    "              show=True,\n",
    "              firstsuffix='01')"
   ]
  },
  {
   "cell_type": "markdown",
   "metadata": {},
   "source": [
    "---\n",
    "\n",
    "# Execute the Process for Multiple Images\n",
    "\n",
    "For a directory organized as a Super Scanner project (each photo view of a sample is located in a separate folder), execute the process for more than one image. As an example, **run the 2nd code cell from [phgblend-examples](../examples/phgblend-examples.ipynb)** Jupyter notebook and put the route in `inpath` as value below."
   ]
  },
  {
   "cell_type": "code",
   "execution_count": null,
   "metadata": {
    "collapsed": false
   },
   "outputs": [],
   "source": [
    "inpath = ''\n",
    "phr.simulate_fp_proj(inpath, nleds=15, illuminatortype='GRID')"
   ]
  }
 ],
 "metadata": {
  "anaconda-cloud": {},
  "kernelspec": {
   "display_name": "Python [conda root]",
   "language": "python",
   "name": "conda-root-py"
  },
  "language_info": {
   "codemirror_mode": {
    "name": "ipython",
    "version": 3
   },
   "file_extension": ".py",
   "mimetype": "text/x-python",
   "name": "python",
   "nbconvert_exporter": "python",
   "pygments_lexer": "ipython3",
   "version": "3.5.2"
  }
 },
 "nbformat": 4,
 "nbformat_minor": 0
}
