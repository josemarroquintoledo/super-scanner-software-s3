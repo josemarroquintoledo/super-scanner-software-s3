{
 "cells": [
  {
   "cell_type": "code",
   "execution_count": null,
   "metadata": {
    "collapsed": false
   },
   "outputs": [],
   "source": [
    "import phg"
   ]
  },
  {
   "cell_type": "markdown",
   "metadata": {
    "collapsed": true
   },
   "source": [
    "# S3's Photogrammetry Examples\n",
    "\n",
    "This notebook shows very simple examples about using the jupyter module [phg](winswphg.ipynb), which uses **openMVG** to generate a **dense point cloud**, and then **openMVS** to generate a **fully-textured 3D mesh**.\n",
    "\n",
    "> **Note:**\n",
    "\n",
    "> - **Execute the code cell above** to import the Jupyter modules.\n",
    "> - We hace chosen **JPG format for photogrammetry procedure** because is very slow and require heavy proccessing power. We recommend a resolution not bigger than **1920*1080** for the image set."
   ]
  },
  {
   "cell_type": "markdown",
   "metadata": {},
   "source": [
    "## 1. Generate a fully-textured 3D Mesh\n",
    "\n",
    "To generate a 3D model you have to use **create_3dmodel()** method. It can be used with a lot of optional argument listed below.\n",
    "\n",
    "> **Positional Arguments:**\n",
    "    > - **project_name:** The name of the project\n",
    "\n",
    "> **Optional Arguments:**\n",
    "    > - **input_path:** You can pass the input image path directly. If you don't use it, it will be asked by the method.\n",
    "    > - **scale:** Image scaling, from 0% to 100%.\n",
    "    > - **output_path:** The folder where the project is going to be stored.\n",
    "    > - **s3path:** Only needed if s3 is not in the default path.\n",
    "    > - **gray:** Grayscale True or False."
   ]
  },
  {
   "cell_type": "code",
   "execution_count": null,
   "metadata": {
    "collapsed": false
   },
   "outputs": [],
   "source": [
    "proj_path = phg.create_3dmodel(\"Project_Default\"\n",
    "                               ,scale = 100, gray = False)"
   ]
  },
  {
   "cell_type": "markdown",
   "metadata": {},
   "source": [
    "### 1.2 Edit the mesh with a software (currently meshlab only)\n",
    "You can edit the 3D mesh directly using meshlab.\n",
    "\n",
    "> **Optional Arguments:**\n",
    "    > - **project_path:** You can pass the project path directly. If you don't use it, it will be asked by the method."
   ]
  },
  {
   "cell_type": "code",
   "execution_count": null,
   "metadata": {
    "collapsed": false
   },
   "outputs": [],
   "source": [
    "phg.get_3dmodel(project_path = proj_path)"
   ]
  }
 ],
 "metadata": {
  "kernelspec": {
   "display_name": "Python 3",
   "language": "python",
   "name": "python3"
  },
  "language_info": {
   "codemirror_mode": {
    "name": "ipython",
    "version": 3
   },
   "file_extension": ".py",
   "mimetype": "text/x-python",
   "name": "python",
   "nbconvert_exporter": "python",
   "pygments_lexer": "ipython3",
   "version": "3.5.2"
  }
 },
 "nbformat": 4,
 "nbformat_minor": 1
}
