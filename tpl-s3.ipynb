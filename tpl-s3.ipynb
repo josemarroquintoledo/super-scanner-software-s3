{
 "cells": [
  {
   "cell_type": "markdown",
   "metadata": {},
   "source": [
    "# Super Scanner Software\n",
    "## Get Hi-Re Photo\n",
    "Recovery the Hi-Res image from a image set wich contains Lo-Res photos of a sample illuminated sequentially with one LED of a grid at time. Simply **execute all cells below**.\n",
    "\n",
    "> **Note:** review the default settings of `generate_wave_vectors()` and `generate_lores_set()` functions in in [fwdimaging.ipynb](jupyter-modules/fwdimaging.ipynb), give yours in the calls in the `get_photo()` in [phaseretrieval.ipynb](jupyter-modules/phaseretrieval.ipynb), save that notebook and restart the kernel here from **Kernel**&rarr;**Restart & Run All**.\n",
    "\n",
    "By default, the output directory is **out-img-hires** in **super-scanner-software**."
   ]
  },
  {
   "cell_type": "code",
   "execution_count": null,
   "metadata": {
    "collapsed": false
   },
   "outputs": [],
   "source": [
    "import phaseretrieval as fp\n",
    "import fwdimaging as fwd"
   ]
  },
  {
   "cell_type": "code",
   "execution_count": null,
   "metadata": {
    "collapsed": false
   },
   "outputs": [],
   "source": [
    "fp.get_photo(sim=True)"
   ]
  }
 ],
 "metadata": {
  "anaconda-cloud": {},
  "kernelspec": {
   "display_name": "Python [Root]",
   "language": "python",
   "name": "Python [Root]"
  },
  "language_info": {
   "codemirror_mode": {
    "name": "ipython",
    "version": 3
   },
   "file_extension": ".py",
   "mimetype": "text/x-python",
   "name": "python",
   "nbconvert_exporter": "python",
   "pygments_lexer": "ipython3",
   "version": "3.5.2"
  }
 },
 "nbformat": 4,
 "nbformat_minor": 0
}
